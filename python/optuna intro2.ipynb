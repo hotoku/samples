{
 "cells": [
  {
   "cell_type": "code",
   "execution_count": 1,
   "metadata": {},
   "outputs": [],
   "source": [
    "import optuna"
   ]
  },
  {
   "cell_type": "code",
   "execution_count": 2,
   "metadata": {},
   "outputs": [],
   "source": [
    "def objective(trial):\n",
    "    x = trial.suggest_uniform(\"x\", -10, 10)\n",
    "    y = trial.suggest_uniform(\"y\", -10, 10)\n",
    "    return (x-2)**2 + (y-3)**2"
   ]
  },
  {
   "cell_type": "code",
   "execution_count": 3,
   "metadata": {},
   "outputs": [],
   "source": [
    "study = optuna.create_study()"
   ]
  },
  {
   "cell_type": "code",
   "execution_count": 4,
   "metadata": {},
   "outputs": [
    {
     "name": "stderr",
     "output_type": "stream",
     "text": [
      "[I 2019-09-26 10:22:03,589] Finished trial#0 resulted in value: 41.74629737162226. Current best value is 41.74629737162226 with parameters: {'x': 8.300314025407431, 'y': 4.432599229678933}.\n",
      "[I 2019-09-26 10:22:03,668] Finished trial#1 resulted in value: 37.66231183647093. Current best value is 37.66231183647093 with parameters: {'x': -0.05186982471581203, 'y': -2.783782677356717}.\n",
      "[I 2019-09-26 10:22:03,763] Finished trial#2 resulted in value: 51.35993080612953. Current best value is 37.66231183647093 with parameters: {'x': -0.05186982471581203, 'y': -2.783782677356717}.\n",
      "[I 2019-09-26 10:22:03,864] Finished trial#3 resulted in value: 137.7320864475241. Current best value is 37.66231183647093 with parameters: {'x': -0.05186982471581203, 'y': -2.783782677356717}.\n",
      "[I 2019-09-26 10:22:03,958] Finished trial#4 resulted in value: 90.43415569453188. Current best value is 37.66231183647093 with parameters: {'x': -0.05186982471581203, 'y': -2.783782677356717}.\n",
      "[I 2019-09-26 10:22:04,049] Finished trial#5 resulted in value: 83.33397758717076. Current best value is 37.66231183647093 with parameters: {'x': -0.05186982471581203, 'y': -2.783782677356717}.\n",
      "[I 2019-09-26 10:22:04,154] Finished trial#6 resulted in value: 66.06533981231499. Current best value is 37.66231183647093 with parameters: {'x': -0.05186982471581203, 'y': -2.783782677356717}.\n",
      "[I 2019-09-26 10:22:04,234] Finished trial#7 resulted in value: 107.3614433349418. Current best value is 37.66231183647093 with parameters: {'x': -0.05186982471581203, 'y': -2.783782677356717}.\n",
      "[I 2019-09-26 10:22:04,330] Finished trial#8 resulted in value: 1.1996018196261722. Current best value is 1.1996018196261722 with parameters: {'x': 1.1507755953082714, 'y': 3.691678921250425}.\n",
      "[I 2019-09-26 10:22:04,426] Finished trial#9 resulted in value: 13.736997126152296. Current best value is 1.1996018196261722 with parameters: {'x': 1.1507755953082714, 'y': 3.691678921250425}.\n",
      "[I 2019-09-26 10:22:04,516] Finished trial#10 resulted in value: 20.32071188997583. Current best value is 1.1996018196261722 with parameters: {'x': 1.1507755953082714, 'y': 3.691678921250425}.\n",
      "[I 2019-09-26 10:22:04,601] Finished trial#11 resulted in value: 137.85931680791526. Current best value is 1.1996018196261722 with parameters: {'x': 1.1507755953082714, 'y': 3.691678921250425}.\n",
      "[I 2019-09-26 10:22:04,681] Finished trial#12 resulted in value: 1.4981612585792756. Current best value is 1.1996018196261722 with parameters: {'x': 1.1507755953082714, 'y': 3.691678921250425}.\n",
      "[I 2019-09-26 10:22:04,775] Finished trial#13 resulted in value: 8.4972152499634. Current best value is 1.1996018196261722 with parameters: {'x': 1.1507755953082714, 'y': 3.691678921250425}.\n",
      "[I 2019-09-26 10:22:04,871] Finished trial#14 resulted in value: 4.576978183665261. Current best value is 1.1996018196261722 with parameters: {'x': 1.1507755953082714, 'y': 3.691678921250425}.\n",
      "[I 2019-09-26 10:22:04,953] Finished trial#15 resulted in value: 110.30344257206465. Current best value is 1.1996018196261722 with parameters: {'x': 1.1507755953082714, 'y': 3.691678921250425}.\n",
      "[I 2019-09-26 10:22:05,038] Finished trial#16 resulted in value: 2.912831931150503. Current best value is 1.1996018196261722 with parameters: {'x': 1.1507755953082714, 'y': 3.691678921250425}.\n",
      "[I 2019-09-26 10:22:05,122] Finished trial#17 resulted in value: 32.07784891384235. Current best value is 1.1996018196261722 with parameters: {'x': 1.1507755953082714, 'y': 3.691678921250425}.\n",
      "[I 2019-09-26 10:22:05,213] Finished trial#18 resulted in value: 17.540695505562255. Current best value is 1.1996018196261722 with parameters: {'x': 1.1507755953082714, 'y': 3.691678921250425}.\n",
      "[I 2019-09-26 10:22:05,311] Finished trial#19 resulted in value: 1.1697814653976393. Current best value is 1.1697814653976393 with parameters: {'x': 1.311425226355081, 'y': 3.834054102859933}.\n",
      "[I 2019-09-26 10:22:05,406] Finished trial#20 resulted in value: 121.23373779846409. Current best value is 1.1697814653976393 with parameters: {'x': 1.311425226355081, 'y': 3.834054102859933}.\n",
      "[I 2019-09-26 10:22:05,497] Finished trial#21 resulted in value: 1.5950688230747012. Current best value is 1.1697814653976393 with parameters: {'x': 1.311425226355081, 'y': 3.834054102859933}.\n",
      "[I 2019-09-26 10:22:05,598] Finished trial#22 resulted in value: 15.713228094781977. Current best value is 1.1697814653976393 with parameters: {'x': 1.311425226355081, 'y': 3.834054102859933}.\n",
      "[I 2019-09-26 10:22:05,704] Finished trial#23 resulted in value: 13.577796880705574. Current best value is 1.1697814653976393 with parameters: {'x': 1.311425226355081, 'y': 3.834054102859933}.\n",
      "[I 2019-09-26 10:22:05,801] Finished trial#24 resulted in value: 6.106546404842707. Current best value is 1.1697814653976393 with parameters: {'x': 1.311425226355081, 'y': 3.834054102859933}.\n",
      "[I 2019-09-26 10:22:05,906] Finished trial#25 resulted in value: 10.494399557083778. Current best value is 1.1697814653976393 with parameters: {'x': 1.311425226355081, 'y': 3.834054102859933}.\n",
      "[I 2019-09-26 10:22:05,992] Finished trial#26 resulted in value: 29.82767593664654. Current best value is 1.1697814653976393 with parameters: {'x': 1.311425226355081, 'y': 3.834054102859933}.\n",
      "[I 2019-09-26 10:22:06,084] Finished trial#27 resulted in value: 46.427033392829046. Current best value is 1.1697814653976393 with parameters: {'x': 1.311425226355081, 'y': 3.834054102859933}.\n",
      "[I 2019-09-26 10:22:06,176] Finished trial#28 resulted in value: 26.478700775587214. Current best value is 1.1697814653976393 with parameters: {'x': 1.311425226355081, 'y': 3.834054102859933}.\n",
      "[I 2019-09-26 10:22:06,267] Finished trial#29 resulted in value: 105.22686839606276. Current best value is 1.1697814653976393 with parameters: {'x': 1.311425226355081, 'y': 3.834054102859933}.\n",
      "[I 2019-09-26 10:22:06,353] Finished trial#30 resulted in value: 5.003914253453106. Current best value is 1.1697814653976393 with parameters: {'x': 1.311425226355081, 'y': 3.834054102859933}.\n",
      "[I 2019-09-26 10:22:06,463] Finished trial#31 resulted in value: 1.5298984528945314. Current best value is 1.1697814653976393 with parameters: {'x': 1.311425226355081, 'y': 3.834054102859933}.\n",
      "[I 2019-09-26 10:22:06,575] Finished trial#32 resulted in value: 9.063527051300431. Current best value is 1.1697814653976393 with parameters: {'x': 1.311425226355081, 'y': 3.834054102859933}.\n",
      "[I 2019-09-26 10:22:06,674] Finished trial#33 resulted in value: 8.967441423244304. Current best value is 1.1697814653976393 with parameters: {'x': 1.311425226355081, 'y': 3.834054102859933}.\n",
      "[I 2019-09-26 10:22:06,773] Finished trial#34 resulted in value: 5.836421277828162. Current best value is 1.1697814653976393 with parameters: {'x': 1.311425226355081, 'y': 3.834054102859933}.\n",
      "[I 2019-09-26 10:22:06,881] Finished trial#35 resulted in value: 0.33248456960407935. Current best value is 0.33248456960407935 with parameters: {'x': 2.271264238208862, 'y': 2.491177552899791}.\n",
      "[I 2019-09-26 10:22:06,993] Finished trial#36 resulted in value: 0.6141636916633254. Current best value is 0.33248456960407935 with parameters: {'x': 2.271264238208862, 'y': 2.491177552899791}.\n",
      "[I 2019-09-26 10:22:07,094] Finished trial#37 resulted in value: 16.491323897185133. Current best value is 0.33248456960407935 with parameters: {'x': 2.271264238208862, 'y': 2.491177552899791}.\n",
      "[I 2019-09-26 10:22:07,209] Finished trial#38 resulted in value: 22.39539235622231. Current best value is 0.33248456960407935 with parameters: {'x': 2.271264238208862, 'y': 2.491177552899791}.\n",
      "[I 2019-09-26 10:22:07,326] Finished trial#39 resulted in value: 26.976530581809197. Current best value is 0.33248456960407935 with parameters: {'x': 2.271264238208862, 'y': 2.491177552899791}.\n",
      "[I 2019-09-26 10:22:07,436] Finished trial#40 resulted in value: 34.12033676954039. Current best value is 0.33248456960407935 with parameters: {'x': 2.271264238208862, 'y': 2.491177552899791}.\n",
      "[I 2019-09-26 10:22:07,603] Finished trial#41 resulted in value: 1.6901909055628166. Current best value is 0.33248456960407935 with parameters: {'x': 2.271264238208862, 'y': 2.491177552899791}.\n",
      "[I 2019-09-26 10:22:07,721] Finished trial#42 resulted in value: 7.517153237395561. Current best value is 0.33248456960407935 with parameters: {'x': 2.271264238208862, 'y': 2.491177552899791}.\n",
      "[I 2019-09-26 10:22:07,844] Finished trial#43 resulted in value: 26.72321008485167. Current best value is 0.33248456960407935 with parameters: {'x': 2.271264238208862, 'y': 2.491177552899791}.\n",
      "[I 2019-09-26 10:22:07,981] Finished trial#44 resulted in value: 0.5753724362900564. Current best value is 0.33248456960407935 with parameters: {'x': 2.271264238208862, 'y': 2.491177552899791}.\n",
      "[I 2019-09-26 10:22:08,098] Finished trial#45 resulted in value: 11.958105279801288. Current best value is 0.33248456960407935 with parameters: {'x': 2.271264238208862, 'y': 2.491177552899791}.\n",
      "[I 2019-09-26 10:22:08,211] Finished trial#46 resulted in value: 0.5053947541511976. Current best value is 0.33248456960407935 with parameters: {'x': 2.271264238208862, 'y': 2.491177552899791}.\n",
      "[I 2019-09-26 10:22:08,445] Finished trial#47 resulted in value: 0.7805982102357776. Current best value is 0.33248456960407935 with parameters: {'x': 2.271264238208862, 'y': 2.491177552899791}.\n",
      "[I 2019-09-26 10:22:08,610] Finished trial#48 resulted in value: 31.743579973939582. Current best value is 0.33248456960407935 with parameters: {'x': 2.271264238208862, 'y': 2.491177552899791}.\n",
      "[I 2019-09-26 10:22:08,779] Finished trial#49 resulted in value: 27.419653416026318. Current best value is 0.33248456960407935 with parameters: {'x': 2.271264238208862, 'y': 2.491177552899791}.\n",
      "[I 2019-09-26 10:22:08,983] Finished trial#50 resulted in value: 32.90910500151485. Current best value is 0.33248456960407935 with parameters: {'x': 2.271264238208862, 'y': 2.491177552899791}.\n",
      "[I 2019-09-26 10:22:09,133] Finished trial#51 resulted in value: 2.916400584729136. Current best value is 0.33248456960407935 with parameters: {'x': 2.271264238208862, 'y': 2.491177552899791}.\n",
      "[I 2019-09-26 10:22:09,257] Finished trial#52 resulted in value: 9.714170091507631. Current best value is 0.33248456960407935 with parameters: {'x': 2.271264238208862, 'y': 2.491177552899791}.\n",
      "[I 2019-09-26 10:22:09,399] Finished trial#53 resulted in value: 2.544519409660266. Current best value is 0.33248456960407935 with parameters: {'x': 2.271264238208862, 'y': 2.491177552899791}.\n",
      "[I 2019-09-26 10:22:09,673] Finished trial#54 resulted in value: 2.070471421713952. Current best value is 0.33248456960407935 with parameters: {'x': 2.271264238208862, 'y': 2.491177552899791}.\n",
      "[I 2019-09-26 10:22:09,813] Finished trial#55 resulted in value: 8.153685386252034. Current best value is 0.33248456960407935 with parameters: {'x': 2.271264238208862, 'y': 2.491177552899791}.\n",
      "[I 2019-09-26 10:22:09,920] Finished trial#56 resulted in value: 27.02100698631346. Current best value is 0.33248456960407935 with parameters: {'x': 2.271264238208862, 'y': 2.491177552899791}.\n",
      "[I 2019-09-26 10:22:10,027] Finished trial#57 resulted in value: 16.434860586675388. Current best value is 0.33248456960407935 with parameters: {'x': 2.271264238208862, 'y': 2.491177552899791}.\n",
      "[I 2019-09-26 10:22:10,146] Finished trial#58 resulted in value: 0.5362973239815731. Current best value is 0.33248456960407935 with parameters: {'x': 2.271264238208862, 'y': 2.491177552899791}.\n",
      "[I 2019-09-26 10:22:10,251] Finished trial#59 resulted in value: 5.526111083657886. Current best value is 0.33248456960407935 with parameters: {'x': 2.271264238208862, 'y': 2.491177552899791}.\n",
      "[I 2019-09-26 10:22:10,365] Finished trial#60 resulted in value: 156.55983657940723. Current best value is 0.33248456960407935 with parameters: {'x': 2.271264238208862, 'y': 2.491177552899791}.\n",
      "[I 2019-09-26 10:22:10,600] Finished trial#61 resulted in value: 0.19623570524411726. Current best value is 0.19623570524411726 with parameters: {'x': 1.6189572665830023, 'y': 2.774074922697324}.\n",
      "[I 2019-09-26 10:22:10,719] Finished trial#62 resulted in value: 0.10853852546725769. Current best value is 0.10853852546725769 with parameters: {'x': 1.8870867775298341, 'y': 2.6905018099266806}.\n",
      "[I 2019-09-26 10:22:10,849] Finished trial#63 resulted in value: 0.3192352202940215. Current best value is 0.10853852546725769 with parameters: {'x': 1.8870867775298341, 'y': 2.6905018099266806}.\n",
      "[I 2019-09-26 10:22:10,997] Finished trial#64 resulted in value: 0.22405231997730737. Current best value is 0.10853852546725769 with parameters: {'x': 1.8870867775298341, 'y': 2.6905018099266806}.\n",
      "[I 2019-09-26 10:22:11,163] Finished trial#65 resulted in value: 0.314131527861475. Current best value is 0.10853852546725769 with parameters: {'x': 1.8870867775298341, 'y': 2.6905018099266806}.\n",
      "[I 2019-09-26 10:22:11,331] Finished trial#66 resulted in value: 7.318845886911596. Current best value is 0.10853852546725769 with parameters: {'x': 1.8870867775298341, 'y': 2.6905018099266806}.\n",
      "[I 2019-09-26 10:22:11,481] Finished trial#67 resulted in value: 15.834011539412966. Current best value is 0.10853852546725769 with parameters: {'x': 1.8870867775298341, 'y': 2.6905018099266806}.\n",
      "[I 2019-09-26 10:22:11,599] Finished trial#68 resulted in value: 2.2581371515494673. Current best value is 0.10853852546725769 with parameters: {'x': 1.8870867775298341, 'y': 2.6905018099266806}.\n",
      "[I 2019-09-26 10:22:11,714] Finished trial#69 resulted in value: 3.51186633210808. Current best value is 0.10853852546725769 with parameters: {'x': 1.8870867775298341, 'y': 2.6905018099266806}.\n",
      "[I 2019-09-26 10:22:11,842] Finished trial#70 resulted in value: 14.745381113920851. Current best value is 0.10853852546725769 with parameters: {'x': 1.8870867775298341, 'y': 2.6905018099266806}.\n",
      "[I 2019-09-26 10:22:12,171] Finished trial#71 resulted in value: 1.109768618801925. Current best value is 0.10853852546725769 with parameters: {'x': 1.8870867775298341, 'y': 2.6905018099266806}.\n",
      "[I 2019-09-26 10:22:12,401] Finished trial#72 resulted in value: 1.4735574683818666. Current best value is 0.10853852546725769 with parameters: {'x': 1.8870867775298341, 'y': 2.6905018099266806}.\n",
      "[I 2019-09-26 10:22:12,644] Finished trial#73 resulted in value: 4.9161515321031315. Current best value is 0.10853852546725769 with parameters: {'x': 1.8870867775298341, 'y': 2.6905018099266806}.\n",
      "[I 2019-09-26 10:22:12,830] Finished trial#74 resulted in value: 16.065631965604826. Current best value is 0.10853852546725769 with parameters: {'x': 1.8870867775298341, 'y': 2.6905018099266806}.\n",
      "[I 2019-09-26 10:22:12,958] Finished trial#75 resulted in value: 9.051883339698602. Current best value is 0.10853852546725769 with parameters: {'x': 1.8870867775298341, 'y': 2.6905018099266806}.\n",
      "[I 2019-09-26 10:22:13,080] Finished trial#76 resulted in value: 3.092199308635767. Current best value is 0.10853852546725769 with parameters: {'x': 1.8870867775298341, 'y': 2.6905018099266806}.\n",
      "[I 2019-09-26 10:22:13,202] Finished trial#77 resulted in value: 3.2977545516863467. Current best value is 0.10853852546725769 with parameters: {'x': 1.8870867775298341, 'y': 2.6905018099266806}.\n",
      "[I 2019-09-26 10:22:13,318] Finished trial#78 resulted in value: 0.6441062580445522. Current best value is 0.10853852546725769 with parameters: {'x': 1.8870867775298341, 'y': 2.6905018099266806}.\n",
      "[I 2019-09-26 10:22:13,460] Finished trial#79 resulted in value: 17.006826286126184. Current best value is 0.10853852546725769 with parameters: {'x': 1.8870867775298341, 'y': 2.6905018099266806}.\n",
      "[I 2019-09-26 10:22:13,684] Finished trial#80 resulted in value: 2.2120219946379684. Current best value is 0.10853852546725769 with parameters: {'x': 1.8870867775298341, 'y': 2.6905018099266806}.\n",
      "[I 2019-09-26 10:22:13,950] Finished trial#81 resulted in value: 1.6073362985076491. Current best value is 0.10853852546725769 with parameters: {'x': 1.8870867775298341, 'y': 2.6905018099266806}.\n",
      "[I 2019-09-26 10:22:14,137] Finished trial#82 resulted in value: 1.6838226659932833. Current best value is 0.10853852546725769 with parameters: {'x': 1.8870867775298341, 'y': 2.6905018099266806}.\n",
      "[I 2019-09-26 10:22:14,262] Finished trial#83 resulted in value: 3.954443256286615. Current best value is 0.10853852546725769 with parameters: {'x': 1.8870867775298341, 'y': 2.6905018099266806}.\n",
      "[I 2019-09-26 10:22:14,380] Finished trial#84 resulted in value: 1.9308909317636256. Current best value is 0.10853852546725769 with parameters: {'x': 1.8870867775298341, 'y': 2.6905018099266806}.\n",
      "[I 2019-09-26 10:22:14,500] Finished trial#85 resulted in value: 3.664157933015021. Current best value is 0.10853852546725769 with parameters: {'x': 1.8870867775298341, 'y': 2.6905018099266806}.\n",
      "[I 2019-09-26 10:22:14,621] Finished trial#86 resulted in value: 1.0725152248189094. Current best value is 0.10853852546725769 with parameters: {'x': 1.8870867775298341, 'y': 2.6905018099266806}.\n",
      "[I 2019-09-26 10:22:14,785] Finished trial#87 resulted in value: 0.5563751236832077. Current best value is 0.10853852546725769 with parameters: {'x': 1.8870867775298341, 'y': 2.6905018099266806}.\n",
      "[I 2019-09-26 10:22:14,965] Finished trial#88 resulted in value: 5.015822260972852. Current best value is 0.10853852546725769 with parameters: {'x': 1.8870867775298341, 'y': 2.6905018099266806}.\n",
      "[I 2019-09-26 10:22:15,165] Finished trial#89 resulted in value: 0.23779130212838803. Current best value is 0.10853852546725769 with parameters: {'x': 1.8870867775298341, 'y': 2.6905018099266806}.\n",
      "[I 2019-09-26 10:22:15,401] Finished trial#90 resulted in value: 19.604497245181587. Current best value is 0.10853852546725769 with parameters: {'x': 1.8870867775298341, 'y': 2.6905018099266806}.\n",
      "[I 2019-09-26 10:22:15,614] Finished trial#91 resulted in value: 0.5574423578094546. Current best value is 0.10853852546725769 with parameters: {'x': 1.8870867775298341, 'y': 2.6905018099266806}.\n",
      "[I 2019-09-26 10:22:15,764] Finished trial#92 resulted in value: 5.184581102962171. Current best value is 0.10853852546725769 with parameters: {'x': 1.8870867775298341, 'y': 2.6905018099266806}.\n",
      "[I 2019-09-26 10:22:15,893] Finished trial#93 resulted in value: 0.9729938445435987. Current best value is 0.10853852546725769 with parameters: {'x': 1.8870867775298341, 'y': 2.6905018099266806}.\n",
      "[I 2019-09-26 10:22:16,030] Finished trial#94 resulted in value: 0.6021487473562305. Current best value is 0.10853852546725769 with parameters: {'x': 1.8870867775298341, 'y': 2.6905018099266806}.\n",
      "[I 2019-09-26 10:22:16,266] Finished trial#95 resulted in value: 0.9098116938186582. Current best value is 0.10853852546725769 with parameters: {'x': 1.8870867775298341, 'y': 2.6905018099266806}.\n",
      "[I 2019-09-26 10:22:16,468] Finished trial#96 resulted in value: 4.4260316327069456. Current best value is 0.10853852546725769 with parameters: {'x': 1.8870867775298341, 'y': 2.6905018099266806}.\n",
      "[I 2019-09-26 10:22:16,621] Finished trial#97 resulted in value: 1.7912460350333426. Current best value is 0.10853852546725769 with parameters: {'x': 1.8870867775298341, 'y': 2.6905018099266806}.\n",
      "[I 2019-09-26 10:22:16,779] Finished trial#98 resulted in value: 1.6217455566585657. Current best value is 0.10853852546725769 with parameters: {'x': 1.8870867775298341, 'y': 2.6905018099266806}.\n",
      "[I 2019-09-26 10:22:16,919] Finished trial#99 resulted in value: 0.47710909806766955. Current best value is 0.10853852546725769 with parameters: {'x': 1.8870867775298341, 'y': 2.6905018099266806}.\n"
     ]
    }
   ],
   "source": [
    "study.optimize(objective, n_trials=100)"
   ]
  },
  {
   "cell_type": "code",
   "execution_count": 7,
   "metadata": {},
   "outputs": [
    {
     "data": {
      "text/plain": [
       "{'x': 1.8870867775298341, 'y': 2.6905018099266806}"
      ]
     },
     "execution_count": 7,
     "metadata": {},
     "output_type": "execute_result"
    }
   ],
   "source": [
    "study.best_params"
   ]
  },
  {
   "cell_type": "code",
   "execution_count": 8,
   "metadata": {},
   "outputs": [
    {
     "data": {
      "text/plain": [
       "0.10853852546725769"
      ]
     },
     "execution_count": 8,
     "metadata": {},
     "output_type": "execute_result"
    }
   ],
   "source": [
    "study.best_value"
   ]
  },
  {
   "cell_type": "markdown",
   "metadata": {},
   "source": [
    "100回じゃだめ・・もう一回optimizeを使うと、続きからできるらしい"
   ]
  },
  {
   "cell_type": "code",
   "execution_count": 9,
   "metadata": {},
   "outputs": [
    {
     "name": "stderr",
     "output_type": "stream",
     "text": [
      "[I 2019-09-26 10:23:09,115] Finished trial#100 resulted in value: 5.240001293163497. Current best value is 0.10853852546725769 with parameters: {'x': 1.8870867775298341, 'y': 2.6905018099266806}.\n",
      "[I 2019-09-26 10:23:09,342] Finished trial#101 resulted in value: 4.3923380173972175. Current best value is 0.10853852546725769 with parameters: {'x': 1.8870867775298341, 'y': 2.6905018099266806}.\n",
      "[I 2019-09-26 10:23:09,470] Finished trial#102 resulted in value: 1.705024720957867. Current best value is 0.10853852546725769 with parameters: {'x': 1.8870867775298341, 'y': 2.6905018099266806}.\n",
      "[I 2019-09-26 10:23:09,620] Finished trial#103 resulted in value: 2.9640421999277704. Current best value is 0.10853852546725769 with parameters: {'x': 1.8870867775298341, 'y': 2.6905018099266806}.\n",
      "[I 2019-09-26 10:23:09,747] Finished trial#104 resulted in value: 1.5258188929231449. Current best value is 0.10853852546725769 with parameters: {'x': 1.8870867775298341, 'y': 2.6905018099266806}.\n",
      "[I 2019-09-26 10:23:09,896] Finished trial#105 resulted in value: 0.20453881006684252. Current best value is 0.10853852546725769 with parameters: {'x': 1.8870867775298341, 'y': 2.6905018099266806}.\n",
      "[I 2019-09-26 10:23:10,025] Finished trial#106 resulted in value: 0.5522621060333709. Current best value is 0.10853852546725769 with parameters: {'x': 1.8870867775298341, 'y': 2.6905018099266806}.\n",
      "[I 2019-09-26 10:23:10,149] Finished trial#107 resulted in value: 7.434074041069735. Current best value is 0.10853852546725769 with parameters: {'x': 1.8870867775298341, 'y': 2.6905018099266806}.\n",
      "[I 2019-09-26 10:23:10,278] Finished trial#108 resulted in value: 8.177162085812553. Current best value is 0.10853852546725769 with parameters: {'x': 1.8870867775298341, 'y': 2.6905018099266806}.\n",
      "[I 2019-09-26 10:23:10,402] Finished trial#109 resulted in value: 2.998381801565913. Current best value is 0.10853852546725769 with parameters: {'x': 1.8870867775298341, 'y': 2.6905018099266806}.\n",
      "[I 2019-09-26 10:23:10,522] Finished trial#110 resulted in value: 3.133629921476309. Current best value is 0.10853852546725769 with parameters: {'x': 1.8870867775298341, 'y': 2.6905018099266806}.\n",
      "[I 2019-09-26 10:23:10,648] Finished trial#111 resulted in value: 0.4356501829764702. Current best value is 0.10853852546725769 with parameters: {'x': 1.8870867775298341, 'y': 2.6905018099266806}.\n",
      "[I 2019-09-26 10:23:10,786] Finished trial#112 resulted in value: 0.1697732853741359. Current best value is 0.10853852546725769 with parameters: {'x': 1.8870867775298341, 'y': 2.6905018099266806}.\n",
      "[I 2019-09-26 10:23:10,926] Finished trial#113 resulted in value: 0.810261904388478. Current best value is 0.10853852546725769 with parameters: {'x': 1.8870867775298341, 'y': 2.6905018099266806}.\n",
      "[I 2019-09-26 10:23:11,057] Finished trial#114 resulted in value: 1.39908729760791. Current best value is 0.10853852546725769 with parameters: {'x': 1.8870867775298341, 'y': 2.6905018099266806}.\n",
      "[I 2019-09-26 10:23:11,192] Finished trial#115 resulted in value: 7.401121069343521. Current best value is 0.10853852546725769 with parameters: {'x': 1.8870867775298341, 'y': 2.6905018099266806}.\n",
      "[I 2019-09-26 10:23:11,318] Finished trial#116 resulted in value: 7.888884837552774. Current best value is 0.10853852546725769 with parameters: {'x': 1.8870867775298341, 'y': 2.6905018099266806}.\n",
      "[I 2019-09-26 10:23:11,460] Finished trial#117 resulted in value: 0.0023685120171038267. Current best value is 0.0023685120171038267 with parameters: {'x': 2.032194977152595, 'y': 2.963503486971387}.\n",
      "[I 2019-09-26 10:23:11,612] Finished trial#118 resulted in value: 98.53207223611112. Current best value is 0.0023685120171038267 with parameters: {'x': 2.032194977152595, 'y': 2.963503486971387}.\n",
      "[I 2019-09-26 10:23:11,742] Finished trial#119 resulted in value: 0.06786900929304114. Current best value is 0.0023685120171038267 with parameters: {'x': 2.032194977152595, 'y': 2.963503486971387}.\n",
      "[I 2019-09-26 10:23:11,882] Finished trial#120 resulted in value: 0.007085384016591148. Current best value is 0.0023685120171038267 with parameters: {'x': 2.032194977152595, 'y': 2.963503486971387}.\n",
      "[I 2019-09-26 10:23:12,028] Finished trial#121 resulted in value: 0.010960094180471421. Current best value is 0.0023685120171038267 with parameters: {'x': 2.032194977152595, 'y': 2.963503486971387}.\n",
      "[I 2019-09-26 10:23:12,175] Finished trial#122 resulted in value: 0.02650460315488587. Current best value is 0.0023685120171038267 with parameters: {'x': 2.032194977152595, 'y': 2.963503486971387}.\n",
      "[I 2019-09-26 10:23:12,311] Finished trial#123 resulted in value: 0.010428815414986659. Current best value is 0.0023685120171038267 with parameters: {'x': 2.032194977152595, 'y': 2.963503486971387}.\n",
      "[I 2019-09-26 10:23:12,613] Finished trial#124 resulted in value: 2.6535483678009206. Current best value is 0.0023685120171038267 with parameters: {'x': 2.032194977152595, 'y': 2.963503486971387}.\n",
      "[I 2019-09-26 10:23:12,759] Finished trial#125 resulted in value: 1.3692943982058041. Current best value is 0.0023685120171038267 with parameters: {'x': 2.032194977152595, 'y': 2.963503486971387}.\n",
      "[I 2019-09-26 10:23:12,898] Finished trial#126 resulted in value: 2.6339873472547053. Current best value is 0.0023685120171038267 with parameters: {'x': 2.032194977152595, 'y': 2.963503486971387}.\n",
      "[I 2019-09-26 10:23:13,047] Finished trial#127 resulted in value: 0.03238623599590394. Current best value is 0.0023685120171038267 with parameters: {'x': 2.032194977152595, 'y': 2.963503486971387}.\n",
      "[I 2019-09-26 10:23:13,237] Finished trial#128 resulted in value: 2.931732108329756. Current best value is 0.0023685120171038267 with parameters: {'x': 2.032194977152595, 'y': 2.963503486971387}.\n",
      "[I 2019-09-26 10:23:13,401] Finished trial#129 resulted in value: 0.507285108745821. Current best value is 0.0023685120171038267 with parameters: {'x': 2.032194977152595, 'y': 2.963503486971387}.\n",
      "[I 2019-09-26 10:23:13,536] Finished trial#130 resulted in value: 2.177453459367035. Current best value is 0.0023685120171038267 with parameters: {'x': 2.032194977152595, 'y': 2.963503486971387}.\n",
      "[I 2019-09-26 10:23:13,675] Finished trial#131 resulted in value: 0.8877945811439298. Current best value is 0.0023685120171038267 with parameters: {'x': 2.032194977152595, 'y': 2.963503486971387}.\n",
      "[I 2019-09-26 10:23:13,847] Finished trial#132 resulted in value: 1.6101759344211442. Current best value is 0.0023685120171038267 with parameters: {'x': 2.032194977152595, 'y': 2.963503486971387}.\n",
      "[I 2019-09-26 10:23:14,152] Finished trial#133 resulted in value: 0.057764824927466235. Current best value is 0.0023685120171038267 with parameters: {'x': 2.032194977152595, 'y': 2.963503486971387}.\n",
      "[I 2019-09-26 10:23:14,304] Finished trial#134 resulted in value: 0.167379401954459. Current best value is 0.0023685120171038267 with parameters: {'x': 2.032194977152595, 'y': 2.963503486971387}.\n",
      "[I 2019-09-26 10:23:14,452] Finished trial#135 resulted in value: 1.7593549204646717. Current best value is 0.0023685120171038267 with parameters: {'x': 2.032194977152595, 'y': 2.963503486971387}.\n",
      "[I 2019-09-26 10:23:14,590] Finished trial#136 resulted in value: 2.4875740319842476. Current best value is 0.0023685120171038267 with parameters: {'x': 2.032194977152595, 'y': 2.963503486971387}.\n",
      "[I 2019-09-26 10:23:14,779] Finished trial#137 resulted in value: 1.7881711004982632. Current best value is 0.0023685120171038267 with parameters: {'x': 2.032194977152595, 'y': 2.963503486971387}.\n",
      "[I 2019-09-26 10:23:14,953] Finished trial#138 resulted in value: 0.4058177741433327. Current best value is 0.0023685120171038267 with parameters: {'x': 2.032194977152595, 'y': 2.963503486971387}.\n",
      "[I 2019-09-26 10:23:15,094] Finished trial#139 resulted in value: 2.3991271970869925. Current best value is 0.0023685120171038267 with parameters: {'x': 2.032194977152595, 'y': 2.963503486971387}.\n",
      "[I 2019-09-26 10:23:15,236] Finished trial#140 resulted in value: 0.8755930783268748. Current best value is 0.0023685120171038267 with parameters: {'x': 2.032194977152595, 'y': 2.963503486971387}.\n",
      "[I 2019-09-26 10:23:15,385] Finished trial#141 resulted in value: 0.0037915117186907445. Current best value is 0.0023685120171038267 with parameters: {'x': 2.032194977152595, 'y': 2.963503486971387}.\n",
      "[I 2019-09-26 10:23:15,536] Finished trial#142 resulted in value: 0.0026968795125726103. Current best value is 0.0023685120171038267 with parameters: {'x': 2.032194977152595, 'y': 2.963503486971387}.\n",
      "[I 2019-09-26 10:23:15,696] Finished trial#143 resulted in value: 1.6307025497587677. Current best value is 0.0023685120171038267 with parameters: {'x': 2.032194977152595, 'y': 2.963503486971387}.\n",
      "[I 2019-09-26 10:23:15,852] Finished trial#144 resulted in value: 0.9624125801417189. Current best value is 0.0023685120171038267 with parameters: {'x': 2.032194977152595, 'y': 2.963503486971387}.\n",
      "[I 2019-09-26 10:23:16,021] Finished trial#145 resulted in value: 0.3300398945493671. Current best value is 0.0023685120171038267 with parameters: {'x': 2.032194977152595, 'y': 2.963503486971387}.\n",
      "[I 2019-09-26 10:23:16,194] Finished trial#146 resulted in value: 0.06003566351464668. Current best value is 0.0023685120171038267 with parameters: {'x': 2.032194977152595, 'y': 2.963503486971387}.\n",
      "[I 2019-09-26 10:23:16,345] Finished trial#147 resulted in value: 2.2634249880688517. Current best value is 0.0023685120171038267 with parameters: {'x': 2.032194977152595, 'y': 2.963503486971387}.\n",
      "[I 2019-09-26 10:23:16,509] Finished trial#148 resulted in value: 0.8915051675054333. Current best value is 0.0023685120171038267 with parameters: {'x': 2.032194977152595, 'y': 2.963503486971387}.\n",
      "[I 2019-09-26 10:23:16,661] Finished trial#149 resulted in value: 2.749234880038607. Current best value is 0.0023685120171038267 with parameters: {'x': 2.032194977152595, 'y': 2.963503486971387}.\n",
      "[I 2019-09-26 10:23:16,930] Finished trial#150 resulted in value: 5.669442752183147. Current best value is 0.0023685120171038267 with parameters: {'x': 2.032194977152595, 'y': 2.963503486971387}.\n",
      "[I 2019-09-26 10:23:17,192] Finished trial#151 resulted in value: 0.1118550238196545. Current best value is 0.0023685120171038267 with parameters: {'x': 2.032194977152595, 'y': 2.963503486971387}.\n",
      "[I 2019-09-26 10:23:17,434] Finished trial#152 resulted in value: 0.17776871110506107. Current best value is 0.0023685120171038267 with parameters: {'x': 2.032194977152595, 'y': 2.963503486971387}.\n",
      "[I 2019-09-26 10:23:17,601] Finished trial#153 resulted in value: 0.2513041774223197. Current best value is 0.0023685120171038267 with parameters: {'x': 2.032194977152595, 'y': 2.963503486971387}.\n",
      "[I 2019-09-26 10:23:17,751] Finished trial#154 resulted in value: 0.7528440742036402. Current best value is 0.0023685120171038267 with parameters: {'x': 2.032194977152595, 'y': 2.963503486971387}.\n",
      "[I 2019-09-26 10:23:17,914] Finished trial#155 resulted in value: 2.4529698922688774. Current best value is 0.0023685120171038267 with parameters: {'x': 2.032194977152595, 'y': 2.963503486971387}.\n",
      "[I 2019-09-26 10:23:18,060] Finished trial#156 resulted in value: 0.758326855040984. Current best value is 0.0023685120171038267 with parameters: {'x': 2.032194977152595, 'y': 2.963503486971387}.\n",
      "[I 2019-09-26 10:23:18,204] Finished trial#157 resulted in value: 1.865763594340287. Current best value is 0.0023685120171038267 with parameters: {'x': 2.032194977152595, 'y': 2.963503486971387}.\n",
      "[I 2019-09-26 10:23:18,364] Finished trial#158 resulted in value: 1.416054113214794. Current best value is 0.0023685120171038267 with parameters: {'x': 2.032194977152595, 'y': 2.963503486971387}.\n",
      "[I 2019-09-26 10:23:18,509] Finished trial#159 resulted in value: 6.660945232472157. Current best value is 0.0023685120171038267 with parameters: {'x': 2.032194977152595, 'y': 2.963503486971387}.\n",
      "[I 2019-09-26 10:23:18,687] Finished trial#160 resulted in value: 0.04575744727014081. Current best value is 0.0023685120171038267 with parameters: {'x': 2.032194977152595, 'y': 2.963503486971387}.\n",
      "[I 2019-09-26 10:23:18,924] Finished trial#161 resulted in value: 0.05128885460063072. Current best value is 0.0023685120171038267 with parameters: {'x': 2.032194977152595, 'y': 2.963503486971387}.\n",
      "[I 2019-09-26 10:23:19,094] Finished trial#162 resulted in value: 0.696351868264725. Current best value is 0.0023685120171038267 with parameters: {'x': 2.032194977152595, 'y': 2.963503486971387}.\n",
      "[I 2019-09-26 10:23:19,335] Finished trial#163 resulted in value: 0.7152892554102234. Current best value is 0.0023685120171038267 with parameters: {'x': 2.032194977152595, 'y': 2.963503486971387}.\n",
      "[I 2019-09-26 10:23:19,668] Finished trial#164 resulted in value: 0.37686057478471907. Current best value is 0.0023685120171038267 with parameters: {'x': 2.032194977152595, 'y': 2.963503486971387}.\n",
      "[I 2019-09-26 10:23:19,847] Finished trial#165 resulted in value: 0.8883898994620105. Current best value is 0.0023685120171038267 with parameters: {'x': 2.032194977152595, 'y': 2.963503486971387}.\n",
      "[I 2019-09-26 10:23:20,013] Finished trial#166 resulted in value: 0.22346565024102247. Current best value is 0.0023685120171038267 with parameters: {'x': 2.032194977152595, 'y': 2.963503486971387}.\n",
      "[I 2019-09-26 10:23:20,167] Finished trial#167 resulted in value: 1.7335678967097925. Current best value is 0.0023685120171038267 with parameters: {'x': 2.032194977152595, 'y': 2.963503486971387}.\n",
      "[I 2019-09-26 10:23:20,343] Finished trial#168 resulted in value: 0.7938721243253591. Current best value is 0.0023685120171038267 with parameters: {'x': 2.032194977152595, 'y': 2.963503486971387}.\n",
      "[I 2019-09-26 10:23:20,507] Finished trial#169 resulted in value: 65.19607370583549. Current best value is 0.0023685120171038267 with parameters: {'x': 2.032194977152595, 'y': 2.963503486971387}.\n",
      "[I 2019-09-26 10:23:20,676] Finished trial#170 resulted in value: 0.7601711198042586. Current best value is 0.0023685120171038267 with parameters: {'x': 2.032194977152595, 'y': 2.963503486971387}.\n",
      "[I 2019-09-26 10:23:20,862] Finished trial#171 resulted in value: 0.13192635665686353. Current best value is 0.0023685120171038267 with parameters: {'x': 2.032194977152595, 'y': 2.963503486971387}.\n",
      "[I 2019-09-26 10:23:21,013] Finished trial#172 resulted in value: 0.09164041151086996. Current best value is 0.0023685120171038267 with parameters: {'x': 2.032194977152595, 'y': 2.963503486971387}.\n",
      "[I 2019-09-26 10:23:21,190] Finished trial#173 resulted in value: 0.2395356026882869. Current best value is 0.0023685120171038267 with parameters: {'x': 2.032194977152595, 'y': 2.963503486971387}.\n",
      "[I 2019-09-26 10:23:21,347] Finished trial#174 resulted in value: 1.292042815328173. Current best value is 0.0023685120171038267 with parameters: {'x': 2.032194977152595, 'y': 2.963503486971387}.\n",
      "[I 2019-09-26 10:23:21,515] Finished trial#175 resulted in value: 0.38254738724511783. Current best value is 0.0023685120171038267 with parameters: {'x': 2.032194977152595, 'y': 2.963503486971387}.\n",
      "[I 2019-09-26 10:23:21,669] Finished trial#176 resulted in value: 1.698520013126954. Current best value is 0.0023685120171038267 with parameters: {'x': 2.032194977152595, 'y': 2.963503486971387}.\n",
      "[I 2019-09-26 10:23:21,831] Finished trial#177 resulted in value: 3.6903547322976165. Current best value is 0.0023685120171038267 with parameters: {'x': 2.032194977152595, 'y': 2.963503486971387}.\n",
      "[I 2019-09-26 10:23:21,982] Finished trial#178 resulted in value: 0.8654710747766667. Current best value is 0.0023685120171038267 with parameters: {'x': 2.032194977152595, 'y': 2.963503486971387}.\n",
      "[I 2019-09-26 10:23:22,135] Finished trial#179 resulted in value: 1.0613584948581447. Current best value is 0.0023685120171038267 with parameters: {'x': 2.032194977152595, 'y': 2.963503486971387}.\n",
      "[I 2019-09-26 10:23:22,291] Finished trial#180 resulted in value: 0.04112255823898675. Current best value is 0.0023685120171038267 with parameters: {'x': 2.032194977152595, 'y': 2.963503486971387}.\n",
      "[I 2019-09-26 10:23:22,460] Finished trial#181 resulted in value: 0.05974522289283016. Current best value is 0.0023685120171038267 with parameters: {'x': 2.032194977152595, 'y': 2.963503486971387}.\n",
      "[I 2019-09-26 10:23:22,611] Finished trial#182 resulted in value: 0.0035158708595478738. Current best value is 0.0023685120171038267 with parameters: {'x': 2.032194977152595, 'y': 2.963503486971387}.\n",
      "[I 2019-09-26 10:23:22,775] Finished trial#183 resulted in value: 0.28030246504118533. Current best value is 0.0023685120171038267 with parameters: {'x': 2.032194977152595, 'y': 2.963503486971387}.\n",
      "[I 2019-09-26 10:23:22,928] Finished trial#184 resulted in value: 1.113443331043941. Current best value is 0.0023685120171038267 with parameters: {'x': 2.032194977152595, 'y': 2.963503486971387}.\n",
      "[I 2019-09-26 10:23:23,078] Finished trial#185 resulted in value: 1.7036351805475127. Current best value is 0.0023685120171038267 with parameters: {'x': 2.032194977152595, 'y': 2.963503486971387}.\n",
      "[I 2019-09-26 10:23:23,287] Finished trial#186 resulted in value: 2.1056676629328352. Current best value is 0.0023685120171038267 with parameters: {'x': 2.032194977152595, 'y': 2.963503486971387}.\n",
      "[I 2019-09-26 10:23:23,564] Finished trial#187 resulted in value: 0.6751547514618638. Current best value is 0.0023685120171038267 with parameters: {'x': 2.032194977152595, 'y': 2.963503486971387}.\n",
      "[I 2019-09-26 10:23:23,889] Finished trial#188 resulted in value: 0.9584259037051528. Current best value is 0.0023685120171038267 with parameters: {'x': 2.032194977152595, 'y': 2.963503486971387}.\n",
      "[I 2019-09-26 10:23:24,131] Finished trial#189 resulted in value: 0.9529204512941328. Current best value is 0.0023685120171038267 with parameters: {'x': 2.032194977152595, 'y': 2.963503486971387}.\n",
      "[I 2019-09-26 10:23:24,309] Finished trial#190 resulted in value: 3.8772681955672086. Current best value is 0.0023685120171038267 with parameters: {'x': 2.032194977152595, 'y': 2.963503486971387}.\n",
      "[I 2019-09-26 10:23:24,479] Finished trial#191 resulted in value: 0.2455891649738681. Current best value is 0.0023685120171038267 with parameters: {'x': 2.032194977152595, 'y': 2.963503486971387}.\n",
      "[I 2019-09-26 10:23:24,668] Finished trial#192 resulted in value: 0.10166223283691037. Current best value is 0.0023685120171038267 with parameters: {'x': 2.032194977152595, 'y': 2.963503486971387}.\n",
      "[I 2019-09-26 10:23:24,880] Finished trial#193 resulted in value: 0.37159607340617484. Current best value is 0.0023685120171038267 with parameters: {'x': 2.032194977152595, 'y': 2.963503486971387}.\n",
      "[I 2019-09-26 10:23:25,065] Finished trial#194 resulted in value: 0.17005975519507338. Current best value is 0.0023685120171038267 with parameters: {'x': 2.032194977152595, 'y': 2.963503486971387}.\n",
      "[I 2019-09-26 10:23:25,219] Finished trial#195 resulted in value: 1.1934581801770048. Current best value is 0.0023685120171038267 with parameters: {'x': 2.032194977152595, 'y': 2.963503486971387}.\n",
      "[I 2019-09-26 10:23:25,382] Finished trial#196 resulted in value: 1.0285973315843353. Current best value is 0.0023685120171038267 with parameters: {'x': 2.032194977152595, 'y': 2.963503486971387}.\n",
      "[I 2019-09-26 10:23:25,513] Finished trial#197 resulted in value: 0.07705247217934381. Current best value is 0.0023685120171038267 with parameters: {'x': 2.032194977152595, 'y': 2.963503486971387}.\n",
      "[I 2019-09-26 10:23:25,693] Finished trial#198 resulted in value: 0.57418420945317. Current best value is 0.0023685120171038267 with parameters: {'x': 2.032194977152595, 'y': 2.963503486971387}.\n",
      "[I 2019-09-26 10:23:25,863] Finished trial#199 resulted in value: 0.42600139392580677. Current best value is 0.0023685120171038267 with parameters: {'x': 2.032194977152595, 'y': 2.963503486971387}.\n"
     ]
    }
   ],
   "source": [
    "study.optimize(objective, n_trials=100)"
   ]
  },
  {
   "cell_type": "code",
   "execution_count": 10,
   "metadata": {},
   "outputs": [
    {
     "name": "stdout",
     "output_type": "stream",
     "text": [
      "{'x': 2.032194977152595, 'y': 2.963503486971387}\n",
      "0.0023685120171038267\n"
     ]
    }
   ],
   "source": [
    "print(study.best_params)\n",
    "print(study.best_value)"
   ]
  },
  {
   "cell_type": "markdown",
   "metadata": {},
   "source": [
    "200回やったら、大体、OK "
   ]
  }
 ],
 "metadata": {
  "kernelspec": {
   "display_name": "Python 3",
   "language": "python",
   "name": "python3"
  },
  "language_info": {
   "codemirror_mode": {
    "name": "ipython",
    "version": 3
   },
   "file_extension": ".py",
   "mimetype": "text/x-python",
   "name": "python",
   "nbconvert_exporter": "python",
   "pygments_lexer": "ipython3",
   "version": "3.6.8"
  }
 },
 "nbformat": 4,
 "nbformat_minor": 4
}
