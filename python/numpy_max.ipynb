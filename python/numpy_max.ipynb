{
 "cells": [
  {
   "cell_type": "code",
   "execution_count": 4,
   "metadata": {
    "collapsed": false
   },
   "outputs": [
    {
     "name": "stdout",
     "output_type": "stream",
     "text": [
      "[[[ 0.36550043 -0.07088951 -1.12587035]\n",
      "  [ 1.98586313 -0.86707343  0.79556648]\n",
      "  [ 0.59956209  0.85068816 -1.52137006]]\n",
      "\n",
      " [[ 1.44870543  0.87819808  0.54857596]\n",
      "  [-0.23008864 -0.5474654  -1.15850015]\n",
      "  [ 0.39693414 -1.65029245 -0.90012156]]\n",
      "\n",
      " [[ 0.62143884 -0.51846933  1.08429336]\n",
      "  [ 0.08429032 -1.28019155  1.00484004]\n",
      "  [ 0.3919894   0.22888356 -1.72456011]]]\n",
      "1.985863131991259\n"
     ]
    }
   ],
   "source": [
    "import numpy as np\n",
    "x = np.random.randn(3,3,3)\n",
    "print(x)\n",
    "print(np.max(x))"
   ]
  }
 ],
 "metadata": {
  "anaconda-cloud": {},
  "kernelspec": {
   "display_name": "Python [Root]",
   "language": "python",
   "name": "Python [Root]"
  },
  "language_info": {
   "codemirror_mode": {
    "name": "ipython",
    "version": 3
   },
   "file_extension": ".py",
   "mimetype": "text/x-python",
   "name": "python",
   "nbconvert_exporter": "python",
   "pygments_lexer": "ipython3",
   "version": "3.5.2"
  }
 },
 "nbformat": 4,
 "nbformat_minor": 0
}
