{
 "cells": [
  {
   "cell_type": "code",
   "execution_count": 1,
   "id": "894b187f-dbe5-4615-a247-c8f1e094726a",
   "metadata": {},
   "outputs": [],
   "source": [
    "from google.cloud import bigquery"
   ]
  },
  {
   "cell_type": "code",
   "execution_count": 2,
   "id": "32a9aabb-bbf4-4283-8ed5-1b0e49f2e861",
   "metadata": {},
   "outputs": [],
   "source": [
    "client = bigquery.Client()"
   ]
  },
  {
   "cell_type": "code",
   "execution_count": 17,
   "id": "4ad96571-ba3c-4172-9717-f0feebcc7f11",
   "metadata": {},
   "outputs": [],
   "source": [
    "ret = client.query(\"create or replace table `datawarehouse.temp` as select 1 as x\")\n",
    "# ret.result()"
   ]
  },
  {
   "cell_type": "code",
   "execution_count": 13,
   "id": "06d10100-3ec4-4f7c-aed6-e0e18124a604",
   "metadata": {},
   "outputs": [
    {
     "data": {
      "text/plain": [
       "<google.cloud.bigquery.table._EmptyRowIterator at 0x7fe80b2a2b50>"
      ]
     },
     "execution_count": 13,
     "metadata": {},
     "output_type": "execute_result"
    }
   ],
   "source": [
    "ret.result()"
   ]
  }
 ],
 "metadata": {
  "kernelspec": {
   "display_name": "Python 3 (ipykernel)",
   "language": "python",
   "name": "python3"
  },
  "language_info": {
   "codemirror_mode": {
    "name": "ipython",
    "version": 3
   },
   "file_extension": ".py",
   "mimetype": "text/x-python",
   "name": "python",
   "nbconvert_exporter": "python",
   "pygments_lexer": "ipython3",
   "version": "3.9.6"
  }
 },
 "nbformat": 4,
 "nbformat_minor": 5
}
