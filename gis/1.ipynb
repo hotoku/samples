{
 "cells": [
  {
   "cell_type": "code",
   "execution_count": 2,
   "metadata": {},
   "outputs": [],
   "source": [
    "import geopandas as gp\n",
    "import geojson as gj\n",
    "import shapefile\n",
    "import pyproj\n",
    "from shapely.geometry.linestring import LineString\n",
    "from shapely.geometry.multilinestring import MultiLineString\n",
    "from collections import namedtuple"
   ]
  },
  {
   "cell_type": "code",
   "execution_count": 5,
   "metadata": {},
   "outputs": [],
   "source": [
    "input_file = \"../GIS/shp/H29建物.shp\""
   ]
  },
  {
   "cell_type": "code",
   "execution_count": 7,
   "metadata": {},
   "outputs": [],
   "source": [
    "df = gp.read_file(input_file)"
   ]
  },
  {
   "cell_type": "code",
   "execution_count": 8,
   "metadata": {},
   "outputs": [],
   "source": [
    "poly = df.geometry[0]"
   ]
  },
  {
   "cell_type": "markdown",
   "metadata": {},
   "source": [
    "# シェイプファイルから多角形の頂点を取得\n",
    "\n",
    "最初と最後が同じ値ぽい"
   ]
  },
  {
   "cell_type": "code",
   "execution_count": 9,
   "metadata": {},
   "outputs": [
    {
     "name": "stdout",
     "output_type": "stream",
     "text": [
      "(-11067.9367665495, -35382.5209622648)\n",
      "(-11038.101223755, -35388.8660777008)\n",
      "(-11039.9912581402, -35395.2786943647)\n",
      "(-11068.5442776019, -35384.8835052463)\n",
      "(-11067.9367665495, -35382.5209622648)\n"
     ]
    }
   ],
   "source": [
    "for c in poly.boundary.coords:\n",
    "    print(c)"
   ]
  },
  {
   "cell_type": "markdown",
   "metadata": {},
   "source": [
    "穴があいた図形の場合"
   ]
  },
  {
   "cell_type": "code",
   "execution_count": 10,
   "metadata": {},
   "outputs": [
    {
     "data": {
      "image/svg+xml": [
       "<svg xmlns=\"http://www.w3.org/2000/svg\" xmlns:xlink=\"http://www.w3.org/1999/xlink\" width=\"100.0\" height=\"100.0\" viewBox=\"-12220.6484 -37336.948399999994 65.56680000000051 59.086799999990035\" preserveAspectRatio=\"xMinYMin meet\"><g transform=\"matrix(1,0,0,-1,0,-74614.81)\"><path fill-rule=\"evenodd\" fill=\"#66cc99\" stroke=\"#555555\" stroke-width=\"1.3113360000000103\" opacity=\"0.6\" d=\"M -12208.72,-37334.52 L -12218.22,-37301.62 L -12191.61,-37294.76 L -12194.23,-37284.95 L -12186.53,-37282.9 L -12186.13,-37284.4 L -12170.75,-37280.29 L -12165.99,-37298.09 L -12171.85,-37299.65 L -12168.2,-37313.32 L -12162.02,-37311.67 L -12157.51,-37328.56 L -12173.73,-37332.89 L -12175.65,-37325.69 L -12208.72,-37334.52 z M -12195.37,-37319.55 L -12184.22,-37316.41 L -12185.21,-37312.88 L -12188.08,-37313.54 L -12192.05,-37306.7 L -12198.68,-37308.36 L -12195.37,-37319.55 z\" /></g></svg>"
      ],
      "text/plain": [
       "<shapely.geometry.polygon.Polygon at 0x11af0c150>"
      ]
     },
     "execution_count": 10,
     "metadata": {},
     "output_type": "execute_result"
    }
   ],
   "source": [
    "poly2 = df.query(\"UMIDNO==22196\").geometry.iloc[0]\n",
    "poly2"
   ]
  },
  {
   "cell_type": "code",
   "execution_count": 11,
   "metadata": {},
   "outputs": [
    {
     "data": {
      "text/plain": [
       "(<shapely.geometry.linestring.LineString at 0x119baf7d0>,\n",
       " <shapely.geometry.multilinestring.MultiLineString at 0x119bee190>)"
      ]
     },
     "execution_count": 11,
     "metadata": {},
     "output_type": "execute_result"
    }
   ],
   "source": [
    "poly.boundary, poly2.boundary"
   ]
  },
  {
   "cell_type": "markdown",
   "metadata": {},
   "source": [
    "穴が空いている場合はMultiLineString"
   ]
  },
  {
   "cell_type": "code",
   "execution_count": 12,
   "metadata": {},
   "outputs": [
    {
     "name": "stdout",
     "output_type": "stream",
     "text": [
      "2\n",
      "LINESTRING (-12208.72 -37334.52, -12218.22 -37301.62, -12191.61 -37294.76, -12194.23 -37284.95, -12186.53 -37282.9, -12186.13 -37284.4, -12170.75 -37280.29, -12165.99 -37298.09, -12171.85 -37299.65, -12168.2 -37313.32, -12162.02 -37311.67, -12157.51 -37328.56, -12173.73 -37332.89, -12175.65 -37325.69, -12208.72 -37334.52)\n"
     ]
    }
   ],
   "source": [
    "print(len(poly2.boundary))\n",
    "print(poly2.boundary[0])"
   ]
  },
  {
   "cell_type": "markdown",
   "metadata": {},
   "source": [
    "これで頂点は取れそう"
   ]
  },
  {
   "cell_type": "code",
   "execution_count": 13,
   "metadata": {},
   "outputs": [
    {
     "data": {
      "text/plain": [
       "(-12208.72, -37334.52)"
      ]
     },
     "execution_count": 13,
     "metadata": {},
     "output_type": "execute_result"
    }
   ],
   "source": [
    "poly2.boundary[0].coords[0]"
   ]
  },
  {
   "cell_type": "markdown",
   "metadata": {},
   "source": [
    "# 直交座標系から緯度経度への変換"
   ]
  },
  {
   "cell_type": "code",
   "execution_count": 21,
   "metadata": {},
   "outputs": [],
   "source": [
    "def swap(c):\n",
    "    return c[1], c[0]"
   ]
  },
  {
   "cell_type": "code",
   "execution_count": 22,
   "metadata": {},
   "outputs": [
    {
     "name": "stdout",
     "output_type": "stream",
     "text": [
      "ret=(35.66341009364712, 139.69848434961412)\n"
     ]
    }
   ],
   "source": [
    "tf = pyproj.transformer.Transformer.from_proj(\n",
    "    pyproj.Proj(\"EPSG:6677\"),\n",
    "    pyproj.Proj(\"EPSG:4326\")\n",
    ")\n",
    "ret = tf.transform(*swap(poly2.boundary[0].coords[0]))\n",
    "print(f\"ret={ret}\")"
   ]
  },
  {
   "cell_type": "code",
   "execution_count": 23,
   "metadata": {},
   "outputs": [],
   "source": [
    "def shp2json(shp):\n",
    "    b = shp.boundary\n",
    "    if type(b) is MultiLineString:\n",
    "        css = [ls.coords for ls in b]\n",
    "    else:\n",
    "        css = [b.coords]\n",
    "    coordss = [\n",
    "        [swap(tf.transform(*swap(c))) for c in cs]\n",
    "        for cs in css\n",
    "    ]\n",
    "    return gj.Polygon(coordss)"
   ]
  },
  {
   "cell_type": "code",
   "execution_count": 25,
   "metadata": {},
   "outputs": [
    {
     "name": "stdout",
     "output_type": "stream",
     "text": [
      "{\"coordinates\": [[[139.698484, 35.66341], [139.698379, 35.663707], [139.698673, 35.663769], [139.698644, 35.663857], [139.698729, 35.663876], [139.698733, 35.663862], [139.698903, 35.663899], [139.698956, 35.663739], [139.698891, 35.663725], [139.698932, 35.663602], [139.699, 35.663617], [139.69905, 35.663464], [139.698871, 35.663425], [139.698849, 35.66349], [139.698484, 35.66341]], [[139.698632, 35.663545], [139.698755, 35.663574], [139.698744, 35.663605], [139.698712, 35.663599], [139.698668, 35.663661], [139.698595, 35.663646], [139.698632, 35.663545]]], \"type\": \"Polygon\"}\n"
     ]
    },
    {
     "name": "stderr",
     "output_type": "stream",
     "text": [
      "elapsed: 0.0008001327514648438"
     ]
    }
   ],
   "source": [
    "tu.start()\n",
    "js = shp2json(poly2)\n",
    "tu.end()\n",
    "print(js)"
   ]
  },
  {
   "cell_type": "code",
   "execution_count": 18,
   "metadata": {},
   "outputs": [
    {
     "data": {
      "text/plain": [
       "'{\"coordinates\": [[[139.698484, 35.66341], [139.698379, 35.663707], [139.698673, 35.663769], [139.698644, 35.663857], [139.698729, 35.663876], [139.698733, 35.663862], [139.698903, 35.663899], [139.698956, 35.663739], [139.698891, 35.663725], [139.698932, 35.663602], [139.699, 35.663617], [139.69905, 35.663464], [139.698871, 35.663425], [139.698849, 35.66349], [139.698484, 35.66341]], [[139.698632, 35.663545], [139.698755, 35.663574], [139.698744, 35.663605], [139.698712, 35.663599], [139.698668, 35.663661], [139.698595, 35.663646], [139.698632, 35.663545]]], \"type\": \"Polygon\"}'"
      ]
     },
     "execution_count": 18,
     "metadata": {},
     "output_type": "execute_result"
    }
   ],
   "source": [
    "str(js)"
   ]
  }
 ],
 "metadata": {
  "kernelspec": {
   "display_name": "Python 3",
   "language": "python",
   "name": "python3"
  },
  "language_info": {
   "codemirror_mode": {
    "name": "ipython",
    "version": 3
   },
   "file_extension": ".py",
   "mimetype": "text/x-python",
   "name": "python",
   "nbconvert_exporter": "python",
   "pygments_lexer": "ipython3",
   "version": "3.7.6"
  }
 },
 "nbformat": 4,
 "nbformat_minor": 4
}
