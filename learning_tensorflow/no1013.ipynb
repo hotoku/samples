{
 "cells": [
  {
   "cell_type": "code",
   "execution_count": 3,
   "metadata": {},
   "outputs": [],
   "source": [
    "import tensorflow as tf\n",
    "import numpy as np"
   ]
  },
  {
   "cell_type": "code",
   "execution_count": 4,
   "metadata": {},
   "outputs": [
    {
     "name": "stdout",
     "output_type": "stream",
     "text": [
      "w_data: [[-0.83485881 -0.81176946 -1.38428089 -0.39847712  0.42961549 -1.42072011\n",
      "   0.20002291  0.84421183 -1.2609244  -0.83459354]\n",
      " [-0.80268495 -0.51978999 -1.77025017  0.81603211  0.98837115  0.62561185\n",
      "  -0.81412643  1.19027973 -0.36800688 -1.31271593]\n",
      " [ 0.8697772   0.61145618 -1.34121012  1.40885906  0.79112654 -0.44271446\n",
      "  -0.79725915  0.63368078 -0.0048291  -0.28294669]\n",
      " [-0.07839738 -0.17221371 -0.92139019 -0.28869368  0.71520595  1.16164545\n",
      "  -1.10764696  0.22146086  0.28753751  0.59552441]\n",
      " [-0.82730846  1.1873437  -1.69347514  1.29571323 -0.19362717  0.3915586\n",
      "  -1.55903121  1.91382859  0.15329885 -1.2346697 ]]\n",
      "x_data: [[-1.54681943]\n",
      " [ 1.39845651]\n",
      " [ 0.56575851]\n",
      " [ 1.60224282]\n",
      " [-0.28141482]\n",
      " [ 1.17552185]\n",
      " [ 0.27200813]\n",
      " [ 0.70172215]\n",
      " [ 0.0761863 ]\n",
      " [-1.16192216]]\n"
     ]
    }
   ],
   "source": [
    "w_data = np.random.randn(5, 10)\n",
    "x_data = np.random.randn(10, 1)\n",
    "print(\"w_data: {}\".format(w_data))\n",
    "print(\"x_data: {}\".format(x_data))"
   ]
  },
  {
   "cell_type": "code",
   "execution_count": 11,
   "metadata": {},
   "outputs": [
    {
     "name": "stdout",
     "output_type": "stream",
     "text": [
      "outs=5.938045978546143\n"
     ]
    }
   ],
   "source": [
    "w = tf.placeholder(tf.float32, shape=(5, 10))\n",
    "x = tf.placeholder(tf.float32, shape=(10, 1))\n",
    "b = tf.fill((5,1), -1.0)\n",
    "xw = tf.matmul(w, x)\n",
    "xwb = xw + b\n",
    "s = tf.reduce_max(xwb)\n",
    "with tf.Session() as sess:\n",
    "    outs = sess.run(s, feed_dict={x: x_data, w: w_data})\n",
    "print(\"outs={}\".format(outs))"
   ]
  }
 ],
 "metadata": {
  "kernelspec": {
   "display_name": "Python 3",
   "language": "python",
   "name": "python3"
  },
  "language_info": {
   "codemirror_mode": {
    "name": "ipython",
    "version": 3
   },
   "file_extension": ".py",
   "mimetype": "text/x-python",
   "name": "python",
   "nbconvert_exporter": "python",
   "pygments_lexer": "ipython3",
   "version": "3.6.8"
  }
 },
 "nbformat": 4,
 "nbformat_minor": 2
}
