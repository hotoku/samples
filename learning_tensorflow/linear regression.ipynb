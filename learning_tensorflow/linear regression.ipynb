{
 "cells": [
  {
   "cell_type": "code",
   "execution_count": 1,
   "metadata": {},
   "outputs": [
    {
     "name": "stderr",
     "output_type": "stream",
     "text": [
      "/Users/01004106/anaconda3/lib/python3.6/site-packages/h5py/__init__.py:36: FutureWarning: Conversion of the second argument of issubdtype from `float` to `np.floating` is deprecated. In future, it will be treated as `np.float64 == np.dtype(float).type`.\n",
      "  from ._conv import register_converters as _register_converters\n"
     ]
    }
   ],
   "source": [
    "import tensorflow as tf\n",
    "import numpy as np"
   ]
  },
  {
   "cell_type": "code",
   "execution_count": 44,
   "metadata": {},
   "outputs": [],
   "source": [
    "w_true, b_true = [1,2,3], 4\n",
    "w = tf.Variable([[0,0,0]], dtype=tf.float32, name=\"W\")\n",
    "b = tf.Variable(0, dtype=tf.float32, name=\"b\")\n",
    "x = tf.placeholder(dtype=tf.float32, shape=(None, 3))\n",
    "y = tf.placeholder(dtype=tf.float32, shape=(1, None))\n",
    "yhat = tf.add(tf.matmul(w, tf.transpose(x)), b)\n",
    "loss = tf.reduce_mean(tf.square(tf.subtract(y, yhat)))"
   ]
  },
  {
   "cell_type": "code",
   "execution_count": 45,
   "metadata": {},
   "outputs": [],
   "source": [
    "learning_rate = 0.1\n",
    "optimizer = tf.train.GradientDescentOptimizer(learning_rate)\n",
    "train = optimizer.minimize(loss)"
   ]
  },
  {
   "cell_type": "code",
   "execution_count": 46,
   "metadata": {},
   "outputs": [
    {
     "name": "stdout",
     "output_type": "stream",
     "text": [
      "optimizer:\n",
      "<tensorflow.python.training.gradient_descent.GradientDescentOptimizer object at 0x182fb807f0>\n",
      "train:\n",
      "name: \"GradientDescent_3\"\n",
      "op: \"NoOp\"\n",
      "input: \"^GradientDescent_3/update_W_11/ApplyGradientDescent\"\n",
      "input: \"^GradientDescent_3/update_b_9/ApplyGradientDescent\"\n",
      "\n",
      "<class 'tensorflow.python.framework.ops.Operation'>\n"
     ]
    }
   ],
   "source": [
    "print(\"optimizer:\")\n",
    "print(optimizer)\n",
    "print(\"train:\")\n",
    "print(train)\n",
    "print(train.__class__)"
   ]
  },
  {
   "cell_type": "markdown",
   "metadata": {},
   "source": [
    "trainの中に、inputという形で、最適化すべきパラメータが認識されている"
   ]
  },
  {
   "cell_type": "code",
   "execution_count": 47,
   "metadata": {},
   "outputs": [],
   "source": [
    "x_data = np.random.randn(2000, 3)\n",
    "noise = np.random.randn(1, 2000) * 0.1\n",
    "y_data = np.matmul(w_true, x_data.T) + b_true + noise"
   ]
  },
  {
   "cell_type": "code",
   "execution_count": 48,
   "metadata": {},
   "outputs": [
    {
     "name": "stdout",
     "output_type": "stream",
     "text": [
      "(2000, 3)\n",
      "(1, 2000)\n",
      "(1, 2000)\n"
     ]
    }
   ],
   "source": [
    "print(x_data.shape)\n",
    "print(y_data.shape)\n",
    "print(noise.shape)"
   ]
  },
  {
   "cell_type": "code",
   "execution_count": 49,
   "metadata": {},
   "outputs": [
    {
     "data": {
      "text/plain": [
       "array([[-0.17280386,  0.07504161,  0.05468436, ...,  0.08465531,\n",
       "         0.08551372,  0.01130317]])"
      ]
     },
     "execution_count": 49,
     "metadata": {},
     "output_type": "execute_result"
    }
   ],
   "source": [
    "noise"
   ]
  },
  {
   "cell_type": "code",
   "execution_count": 50,
   "metadata": {},
   "outputs": [
    {
     "name": "stdout",
     "output_type": "stream",
     "text": [
      "0 [array([[0.18111275, 0.42657885, 0.6300932 ]], dtype=float32), 0.8124525]\n",
      "5 [array([[0.7006397, 1.5267607, 2.270608 ]], dtype=float32), 2.9746876]\n",
      "10 [array([[0.89133555, 1.8582995 , 2.7756083 ]], dtype=float32), 3.6692984]\n",
      "15 [array([[0.96040285, 1.9579352 , 2.931307  ]], dtype=float32), 3.8926165]\n",
      "20 [array([[0.985158 , 1.9877826, 2.979397 ]], dtype=float32), 3.9644682]\n",
      "25 [array([[0.99395716, 1.9966902 , 2.9942803 ]], dtype=float32), 3.9876032]\n",
      "30 [array([[0.99706364, 1.9993367 , 2.998897  ]], dtype=float32), 3.9950573]\n",
      "35 [array([[0.9981543, 2.0001187, 3.0003328]], dtype=float32), 3.9974608]\n",
      "40 [array([[0.99853545, 2.0003486 , 3.0007803 ]], dtype=float32), 3.9982362]\n",
      "45 [array([[0.99866813, 2.0004156 , 3.00092   ]], dtype=float32), 3.9984865]\n",
      "50 [array([[0.99871427, 2.0004349 , 3.0009642 ]], dtype=float32), 3.9985673]\n",
      "55 [array([[0.9987302, 2.0004404, 3.0009782]], dtype=float32), 3.9985936]\n",
      "60 [array([[0.99873567, 2.000442  , 3.0009825 ]], dtype=float32), 3.998602]\n",
      "65 [array([[0.9987376, 2.000442 , 3.000984 ]], dtype=float32), 3.9986048]\n",
      "70 [array([[0.9987382, 2.000442 , 3.0009842]], dtype=float32), 3.9986057]\n",
      "75 [array([[0.9987384, 2.000442 , 3.0009842]], dtype=float32), 3.9986057]\n",
      "80 [array([[0.9987384, 2.000442 , 3.0009842]], dtype=float32), 3.9986057]\n",
      "85 [array([[0.9987384, 2.000442 , 3.0009842]], dtype=float32), 3.9986057]\n",
      "90 [array([[0.9987384, 2.000442 , 3.0009842]], dtype=float32), 3.9986057]\n",
      "95 [array([[0.9987384, 2.000442 , 3.0009842]], dtype=float32), 3.9986057]\n"
     ]
    }
   ],
   "source": [
    "with tf.Session() as sess:\n",
    "    sess.run(tf.global_variables_initializer())\n",
    "    for i in range(100):\n",
    "        sess.run(train, {x: x_data, y: y_data})\n",
    "        if i %  5 == 0:\n",
    "            print(i, sess.run([w, b]))"
   ]
  }
 ],
 "metadata": {
  "kernelspec": {
   "display_name": "Python 3",
   "language": "python",
   "name": "python3"
  },
  "language_info": {
   "codemirror_mode": {
    "name": "ipython",
    "version": 3
   },
   "file_extension": ".py",
   "mimetype": "text/x-python",
   "name": "python",
   "nbconvert_exporter": "python",
   "pygments_lexer": "ipython3",
   "version": "3.6.8"
  }
 },
 "nbformat": 4,
 "nbformat_minor": 2
}
