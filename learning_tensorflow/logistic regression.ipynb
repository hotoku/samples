{
 "cells": [
  {
   "cell_type": "code",
   "execution_count": 17,
   "metadata": {},
   "outputs": [],
   "source": [
    "import tensorflow as tf\n",
    "import numpy as np"
   ]
  },
  {
   "cell_type": "code",
   "execution_count": 39,
   "metadata": {},
   "outputs": [],
   "source": [
    "w_true, b_true = [0.3,0.5,0.1], -0.2\n",
    "w = tf.Variable([[0,0,0]], dtype=tf.float32, name=\"W\")\n",
    "b = tf.Variable(0, dtype=tf.float32, name=\"b\")\n",
    "x = tf.placeholder(dtype=tf.float32, shape=(None, 3))\n",
    "y = tf.placeholder(dtype=tf.float32, shape=(1, None))\n",
    "logit = tf.add(tf.matmul(w, tf.transpose(x)), b)\n",
    "prob = tf.sigmoid(logit)\n",
    "loss = tf.reduce_mean(-y * tf.log(prob) - (1 - y) * tf.log(1 - prob))"
   ]
  },
  {
   "cell_type": "code",
   "execution_count": 41,
   "metadata": {},
   "outputs": [],
   "source": [
    "learning_rate = 0.1\n",
    "optimizer = tf.train.GradientDescentOptimizer(learning_rate)\n",
    "train = optimizer.minimize(loss)"
   ]
  },
  {
   "cell_type": "markdown",
   "metadata": {},
   "source": [
    "trainの中に、inputという形で、最適化すべきパラメータが認識されている"
   ]
  },
  {
   "cell_type": "code",
   "execution_count": 42,
   "metadata": {},
   "outputs": [],
   "source": [
    "def sigmoid(x):\n",
    "    return 1 / (1 + np.exp(-x))\n",
    "\n",
    "x_data = np.random.randn(20000, 3)\n",
    "y_data = np.random.binomial(1, sigmoid(np.matmul(w_true, x_data.T) + b_true)).reshape(1, -1)"
   ]
  },
  {
   "cell_type": "code",
   "execution_count": 43,
   "metadata": {},
   "outputs": [
    {
     "name": "stdout",
     "output_type": "stream",
     "text": [
      "(20000, 3)\n",
      "(1, 20000)\n"
     ]
    }
   ],
   "source": [
    "print(x_data.shape)\n",
    "print(y_data.shape)"
   ]
  },
  {
   "cell_type": "code",
   "execution_count": 44,
   "metadata": {},
   "outputs": [
    {
     "name": "stdout",
     "output_type": "stream",
     "text": [
      "0 [array([[0.00708915, 0.01142348, 0.0016351 ]], dtype=float32), -0.004375017]\n",
      "20 [array([[0.11745337, 0.18917088, 0.02741348]], dtype=float32), -0.07278532]\n",
      "40 [array([[0.18565086, 0.2988526 , 0.04375407]], dtype=float32), -0.11537316]\n",
      "60 [array([[0.22892825, 0.36832565, 0.05437677]], dtype=float32), -0.14252432]\n",
      "80 [array([[0.25699317, 0.41328198, 0.06142073]], dtype=float32), -0.16017525]\n",
      "100 [array([[0.27547234, 0.4428172 , 0.06615424]], dtype=float32), -0.17180991]\n",
      "120 [array([[0.2877662 , 0.4624224 , 0.06936225]], dtype=float32), -0.17955163]\n",
      "140 [array([[0.29600188, 0.47552755, 0.07154783]], dtype=float32), -0.18473603]\n",
      "160 [array([[0.3015447 , 0.4843293 , 0.07304148]], dtype=float32), -0.18822296]\n",
      "180 [array([[0.30528674, 0.49025986, 0.07406406]], dtype=float32), -0.1905751]\n",
      "200 [array([[0.3078182 , 0.49426457, 0.07476472]], dtype=float32), -0.19216487]\n",
      "220 [array([[0.30953318, 0.4969729 , 0.07524495]], dtype=float32), -0.19324088]\n",
      "240 [array([[0.31069604, 0.49880627, 0.07557406]], dtype=float32), -0.19396983]\n",
      "260 [array([[0.31148496, 0.5000484 , 0.07579956]], dtype=float32), -0.19446395]\n",
      "280 [array([[0.31202045, 0.5008904 , 0.07595399]], dtype=float32), -0.19479907]\n",
      "300 [array([[0.312384  , 0.501461  , 0.07605972]], dtype=float32), -0.19502638]\n",
      "320 [array([[0.3126309 , 0.50184816, 0.07613206]], dtype=float32), -0.19518065]\n",
      "340 [array([[0.31279853, 0.50211084, 0.07618153]], dtype=float32), -0.19528535]\n",
      "360 [array([[0.31291232, 0.50228894, 0.07621533]], dtype=float32), -0.19535643]\n",
      "380 [array([[0.31298965, 0.5024099 , 0.07623845]], dtype=float32), -0.19540463]\n",
      "400 [array([[0.31304213, 0.5024919 , 0.0762542 ]], dtype=float32), -0.19543736]\n",
      "420 [array([[0.31307784, 0.5025477 , 0.07626497]], dtype=float32), -0.19545957]\n",
      "440 [array([[0.3131021 , 0.5025854 , 0.07627232]], dtype=float32), -0.19547468]\n",
      "460 [array([[0.31311858, 0.50261104, 0.07627732]], dtype=float32), -0.19548494]\n",
      "480 [array([[0.31312972, 0.5026284 , 0.07628074]], dtype=float32), -0.19549188]\n",
      "500 [array([[0.31313735, 0.5026401 , 0.07628307]], dtype=float32), -0.1954966]\n",
      "520 [array([[0.31314248, 0.5026482 , 0.07628466]], dtype=float32), -0.19549981]\n",
      "540 [array([[0.31314597, 0.50265354, 0.07628573]], dtype=float32), -0.19550198]\n",
      "560 [array([[0.31314832, 0.5026573 , 0.07628647]], dtype=float32), -0.19550344]\n",
      "580 [array([[0.3131499 , 0.5026597 , 0.07628698]], dtype=float32), -0.19550444]\n",
      "600 [array([[0.31315106, 0.5026612 , 0.07628731]], dtype=float32), -0.19550511]\n",
      "620 [array([[0.31315166, 0.5026624 , 0.07628755]], dtype=float32), -0.19550556]\n",
      "640 [array([[0.31315225, 0.5026635 , 0.07628769]], dtype=float32), -0.19550586]\n",
      "660 [array([[0.31315258, 0.50266355, 0.07628784]], dtype=float32), -0.19550616]\n",
      "680 [array([[0.31315258, 0.50266355, 0.07628785]], dtype=float32), -0.1955062]\n",
      "700 [array([[0.31315258, 0.50266355, 0.07628785]], dtype=float32), -0.1955062]\n",
      "720 [array([[0.31315258, 0.50266355, 0.07628785]], dtype=float32), -0.1955062]\n",
      "740 [array([[0.31315258, 0.50266355, 0.07628785]], dtype=float32), -0.1955062]\n",
      "760 [array([[0.31315258, 0.50266355, 0.07628785]], dtype=float32), -0.1955062]\n",
      "780 [array([[0.31315258, 0.50266355, 0.07628785]], dtype=float32), -0.1955062]\n",
      "800 [array([[0.31315258, 0.50266355, 0.07628785]], dtype=float32), -0.1955062]\n",
      "820 [array([[0.31315258, 0.50266355, 0.07628785]], dtype=float32), -0.1955062]\n",
      "840 [array([[0.31315258, 0.50266355, 0.07628785]], dtype=float32), -0.1955062]\n",
      "860 [array([[0.31315258, 0.50266355, 0.07628785]], dtype=float32), -0.1955062]\n",
      "880 [array([[0.31315258, 0.50266355, 0.07628785]], dtype=float32), -0.1955062]\n",
      "900 [array([[0.31315258, 0.50266355, 0.07628785]], dtype=float32), -0.1955062]\n",
      "920 [array([[0.31315258, 0.50266355, 0.07628785]], dtype=float32), -0.1955062]\n",
      "940 [array([[0.31315258, 0.50266355, 0.07628785]], dtype=float32), -0.1955062]\n",
      "960 [array([[0.31315258, 0.50266355, 0.07628785]], dtype=float32), -0.1955062]\n",
      "980 [array([[0.31315258, 0.50266355, 0.07628785]], dtype=float32), -0.1955062]\n"
     ]
    }
   ],
   "source": [
    "with tf.Session() as sess:\n",
    "    sess.run(tf.global_variables_initializer())\n",
    "    for i in range(1000):\n",
    "        sess.run(train, {x: x_data, y: y_data})\n",
    "        if i %  20 == 0:\n",
    "            print(i, sess.run([w, b]))"
   ]
  },
  {
   "cell_type": "code",
   "execution_count": null,
   "metadata": {},
   "outputs": [],
   "source": []
  }
 ],
 "metadata": {
  "kernelspec": {
   "display_name": "Python 3",
   "language": "python",
   "name": "python3"
  },
  "language_info": {
   "codemirror_mode": {
    "name": "ipython",
    "version": 3
   },
   "file_extension": ".py",
   "mimetype": "text/x-python",
   "name": "python",
   "nbconvert_exporter": "python",
   "pygments_lexer": "ipython3",
   "version": "3.6.8"
  }
 },
 "nbformat": 4,
 "nbformat_minor": 2
}
