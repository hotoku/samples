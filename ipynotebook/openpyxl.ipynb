{
 "cells": [
  {
   "cell_type": "code",
   "execution_count": 4,
   "id": "439578be-f7a8-42fb-b2cc-787d1e437bef",
   "metadata": {},
   "outputs": [],
   "source": [
    "from openpyxl import load_workbook"
   ]
  },
  {
   "cell_type": "code",
   "execution_count": 7,
   "id": "3449155f-6965-4bb3-a51b-3bc7da44fb7d",
   "metadata": {},
   "outputs": [],
   "source": [
    "xls_path = \"./openpyxl.xlsx\""
   ]
  },
  {
   "cell_type": "code",
   "execution_count": 8,
   "id": "b10a3625-8fd1-4701-9767-4f7526321774",
   "metadata": {},
   "outputs": [],
   "source": [
    "wb = load_workbook(xls_path)"
   ]
  },
  {
   "cell_type": "code",
   "execution_count": 9,
   "id": "be49590f-4130-44e5-b0bd-fcdb0ac23f80",
   "metadata": {},
   "outputs": [
    {
     "data": {
      "text/plain": [
       "['Sheet1']"
      ]
     },
     "execution_count": 9,
     "metadata": {},
     "output_type": "execute_result"
    }
   ],
   "source": [
    "wb.sheetnames"
   ]
  },
  {
   "cell_type": "code",
   "execution_count": 10,
   "id": "39b43894-7dd9-48da-9892-67e7e4902407",
   "metadata": {},
   "outputs": [],
   "source": [
    "sheet = wb[wb.sheetnames[0]]"
   ]
  },
  {
   "cell_type": "code",
   "execution_count": 11,
   "id": "a9ac24e0-46c4-4df9-99ee-ef3089dfc782",
   "metadata": {},
   "outputs": [
    {
     "name": "stdout",
     "output_type": "stream",
     "text": [
      "Help on method cell in module openpyxl.worksheet.worksheet:\n",
      "\n",
      "cell(row, column, value=None) method of openpyxl.worksheet.worksheet.Worksheet instance\n",
      "    Returns a cell object based on the given coordinates.\n",
      "    \n",
      "    Usage: cell(row=15, column=1, value=5)\n",
      "    \n",
      "    Calling `cell` creates cells in memory when they\n",
      "    are first accessed.\n",
      "    \n",
      "    :param row: row index of the cell (e.g. 4)\n",
      "    :type row: int\n",
      "    \n",
      "    :param column: column index of the cell (e.g. 3)\n",
      "    :type column: int\n",
      "    \n",
      "    :param value: value of the cell (e.g. 5)\n",
      "    :type value: numeric or time or string or bool or none\n",
      "    \n",
      "    :rtype: openpyxl.cell.cell.Cell\n",
      "\n"
     ]
    }
   ],
   "source": [
    "help(sheet.cell)"
   ]
  },
  {
   "cell_type": "code",
   "execution_count": 12,
   "id": "9fdd75c0-4dea-4dd4-88fa-123c0c70668a",
   "metadata": {},
   "outputs": [
    {
     "data": {
      "text/plain": [
       "'value'"
      ]
     },
     "execution_count": 12,
     "metadata": {},
     "output_type": "execute_result"
    }
   ],
   "source": [
    "sheet.cell(1,1).value"
   ]
  },
  {
   "cell_type": "code",
   "execution_count": 13,
   "id": "622ea915-d047-44ab-8ac4-8bdb14f27931",
   "metadata": {},
   "outputs": [
    {
     "data": {
      "text/plain": [
       "0"
      ]
     },
     "execution_count": 13,
     "metadata": {},
     "output_type": "execute_result"
    }
   ],
   "source": [
    "sheet.cell(1,1,0)\n",
    "sheet.cell(1,1).value"
   ]
  },
  {
   "cell_type": "markdown",
   "id": "2e449df7-4bfe-477b-bb7e-5ab9f39a29cf",
   "metadata": {},
   "source": [
    "`cell`呼び出しで値を更新できる。これだけでは保存はされない"
   ]
  },
  {
   "cell_type": "code",
   "execution_count": 16,
   "id": "c5d1ca35-d495-4265-97c3-18b1cc941961",
   "metadata": {},
   "outputs": [],
   "source": [
    "wb.save(xls_path)"
   ]
  },
  {
   "cell_type": "markdown",
   "id": "26e2007c-de32-45b3-8540-fac6eb0237cf",
   "metadata": {},
   "source": [
    "ファイル名を与えて上書き保存"
   ]
  }
 ],
 "metadata": {
  "kernelspec": {
   "display_name": "Python 3 (ipykernel)",
   "language": "python",
   "name": "python3"
  },
  "language_info": {
   "codemirror_mode": {
    "name": "ipython",
    "version": 3
   },
   "file_extension": ".py",
   "mimetype": "text/x-python",
   "name": "python",
   "nbconvert_exporter": "python",
   "pygments_lexer": "ipython3",
   "version": "3.9.5"
  }
 },
 "nbformat": 4,
 "nbformat_minor": 5
}
