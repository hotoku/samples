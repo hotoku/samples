{
 "cells": [
  {
   "cell_type": "code",
   "execution_count": 38,
   "metadata": {
    "collapsed": true,
    "jupyter": {
     "outputs_hidden": true
    }
   },
   "outputs": [],
   "source": [
    "import lxml.html\n",
    "import requests\n",
    "import functools as ft\n",
    "import re"
   ]
  },
  {
   "cell_type": "markdown",
   "metadata": {},
   "source": [
    "日付ごとのhtmlを取得"
   ]
  },
  {
   "cell_type": "code",
   "execution_count": 39,
   "metadata": {
    "collapsed": true,
    "jupyter": {
     "outputs_hidden": true
    }
   },
   "outputs": [],
   "source": [
    "days = [11, 12, 13]\n",
    "def get_html(day):\n",
    "    url = \"https://conferences.oreilly.com/strata/strata-ny/schedule/2018-09-%02d\" % day\n",
    "    res = requests.get(url)\n",
    "    html = lxml.html.fromstring(res.content)\n",
    "    return html\n",
    "htmls = list(map(get_html, days))"
   ]
  },
  {
   "cell_type": "markdown",
   "metadata": {},
   "source": [
    "htmlから、sessionのidを取得"
   ]
  },
  {
   "cell_type": "code",
   "execution_count": 46,
   "metadata": {
    "collapsed": false,
    "jupyter": {
     "outputs_hidden": false
    }
   },
   "outputs": [
    {
     "name": "stdout",
     "output_type": "stream",
     "text": [
      "261\n",
      "261\n",
      "259\n"
     ]
    }
   ],
   "source": [
    "def get_sessions(html):\n",
    "    xpath = '//*[@id=\"app\"]/div/div[contains(@class, \"schedule-list\")]/div[contains(@class, \"schedule\")]/div[not(@class)]/a[contains(@class, \"session-item\")]'\n",
    "    a_sessions = html.xpath(xpath)\n",
    "    return a_sessions\n",
    "\n",
    "def get_session_id(a_tag):\n",
    "    url = a_tag.get(\"href\")\n",
    "    return re.sub(r\".*/([0-9]+)$\", r\"\\1\", url)\n",
    "\n",
    "def is_num(s):\n",
    "    return re.match(r\"^[0-9]+$\", s)\n",
    "\n",
    "a_sessions = ft.reduce(lambda x, y: x + y, map(get_sessions, htmls))\n",
    "temp1 = list(map(get_session_id, a_sessions))\n",
    "session_ids = list(filter(is_num, temp1))\n",
    "print(len(a_sessions))\n",
    "print(len(temp1))\n",
    "print(len(session_ids))\n"
   ]
  }
 ],
 "metadata": {
  "anaconda-cloud": {},
  "kernelspec": {
   "display_name": "Python 3",
   "language": "python",
   "name": "python3"
  },
  "language_info": {
   "codemirror_mode": {
    "name": "ipython",
    "version": 3
   },
   "file_extension": ".py",
   "mimetype": "text/x-python",
   "name": "python",
   "nbconvert_exporter": "python",
   "pygments_lexer": "ipython3",
   "version": "3.7.3"
  }
 },
 "nbformat": 4,
 "nbformat_minor": 4
}
