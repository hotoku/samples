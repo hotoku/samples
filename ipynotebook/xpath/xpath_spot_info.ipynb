{
 "cells": [
  {
   "cell_type": "code",
   "execution_count": 7,
   "metadata": {},
   "outputs": [],
   "source": [
    "import sys\n",
    "import re\n",
    "import tempfile\n",
    "import argparse\n",
    "from concurrent.futures import ProcessPoolExecutor\n",
    "from lxml import html\n",
    "import os\n",
    "import glob\n",
    "import pandas as pd"
   ]
  },
  {
   "cell_type": "code",
   "execution_count": 8,
   "metadata": {},
   "outputs": [],
   "source": [
    "fpath = \"index.html\"\n",
    "doc = html.parse(fpath)"
   ]
  },
  {
   "cell_type": "markdown",
   "metadata": {},
   "source": [
    "# スポットの名前を取得するXPath"
   ]
  },
  {
   "cell_type": "code",
   "execution_count": 9,
   "metadata": {},
   "outputs": [
    {
     "name": "stdout",
     "output_type": "stream",
     "text": [
      "若松みなと祭り\n",
      "菖蒲谷キャンプ場\n",
      "こもれび学園果樹園\n",
      "脇田海釣り桟橋\n",
      "藤ノ元プール\n",
      "ひびき動物ワールド\n",
      "高砂果樹園\n",
      "藤ノ木霊園\n",
      "小石プール\n",
      "みかん狩り天正園\n",
      "岩屋海水浴場\n",
      "小田山公園\n",
      "二島東緑地\n",
      "小石緑地\n",
      "サイエンス緑道\n"
     ]
    }
   ],
   "source": [
    "es = doc.xpath('//dt[@class=\"spot-name\" and not(span)]')\n",
    "for e in es: print(e.text.strip())"
   ]
  },
  {
   "cell_type": "code",
   "execution_count": 10,
   "metadata": {},
   "outputs": [
    {
     "data": {
      "text/plain": [
       "'\\n\\t\\t\\t\\t\\t\\t\\t\\t\\t\\t\\t\\t\\t若松みなと祭り'"
      ]
     },
     "execution_count": 10,
     "metadata": {},
     "output_type": "execute_result"
    }
   ],
   "source": [
    "e0 = es[0]\n",
    "e0.text"
   ]
  },
  {
   "cell_type": "markdown",
   "metadata": {},
   "source": [
    "# 名前に対応する詳細を取得するXPath"
   ]
  },
  {
   "cell_type": "code",
   "execution_count": 11,
   "metadata": {},
   "outputs": [
    {
     "data": {
      "text/plain": [
       "[<Element dd at 0x10a596c28>, <Element dd at 0x11a6ec9a8>]"
      ]
     },
     "execution_count": 11,
     "metadata": {},
     "output_type": "execute_result"
    }
   ],
   "source": [
    "e0.xpath('following-sibling::dd')"
   ]
  },
  {
   "cell_type": "markdown",
   "metadata": {},
   "source": [
    "# スポットの情報全体を包含するノードを取得"
   ]
  },
  {
   "cell_type": "code",
   "execution_count": 12,
   "metadata": {},
   "outputs": [
    {
     "data": {
      "text/plain": [
       "[<Element li at 0x11a6ec638>,\n",
       " <Element li at 0x11a6ec778>,\n",
       " <Element li at 0x11a71ba48>,\n",
       " <Element li at 0x11a71bae8>,\n",
       " <Element li at 0x11a71b138>,\n",
       " <Element li at 0x11a71bea8>,\n",
       " <Element li at 0x11a71bef8>,\n",
       " <Element li at 0x11a71bf48>,\n",
       " <Element li at 0x11a71bf98>,\n",
       " <Element li at 0x11a72c048>,\n",
       " <Element li at 0x11a72c098>,\n",
       " <Element li at 0x11a72c0e8>,\n",
       " <Element li at 0x11a72c138>,\n",
       " <Element li at 0x11a72c188>,\n",
       " <Element li at 0x11a72c1d8>]"
      ]
     },
     "execution_count": 12,
     "metadata": {},
     "output_type": "execute_result"
    }
   ],
   "source": [
    "es2 = doc.xpath('//li/descendant::dt[@class=\"spot-name\" and not(span[contains(@class, \"adv-icon\")])]/ancestor::li[@class=\"spot-section\"]')\n",
    "es2"
   ]
  },
  {
   "cell_type": "code",
   "execution_count": 13,
   "metadata": {},
   "outputs": [],
   "source": [
    "e20 = es2[0]"
   ]
  },
  {
   "cell_type": "markdown",
   "metadata": {},
   "source": [
    "## 名前"
   ]
  },
  {
   "cell_type": "code",
   "execution_count": 14,
   "metadata": {},
   "outputs": [
    {
     "data": {
      "text/plain": [
       "'\\n\\t\\t\\t\\t\\t\\t\\t\\t\\t\\t\\t\\t\\t若松みなと祭り'"
      ]
     },
     "execution_count": 14,
     "metadata": {},
     "output_type": "execute_result"
    }
   ],
   "source": [
    "name = e20.xpath('descendant::dt[@class=\"spot-name\"]')\n",
    "name[0].text_content()"
   ]
  },
  {
   "cell_type": "markdown",
   "metadata": {},
   "source": [
    "# POI詳細のルートを取ってくるxpath"
   ]
  },
  {
   "cell_type": "code",
   "execution_count": 15,
   "metadata": {},
   "outputs": [],
   "source": [
    "detail = name[0].xpath('following-sibling::dd/dl[@class=\"spot-detail-section\"]')[0]"
   ]
  },
  {
   "cell_type": "markdown",
   "metadata": {},
   "source": [
    "## 属性のキー"
   ]
  },
  {
   "cell_type": "code",
   "execution_count": 16,
   "metadata": {},
   "outputs": [
    {
     "name": "stdout",
     "output_type": "stream",
     "text": [
      "住所\n",
      "電話番号\n",
      "アクセス\n"
     ]
    }
   ],
   "source": [
    "keys = detail.xpath('dt[@class=\"spot-detail-column\"]/span[@class=\"spot-detail-column-text\"]')\n",
    "for k in keys: print(k.text)"
   ]
  },
  {
   "cell_type": "markdown",
   "metadata": {},
   "source": [
    "## 属性の値"
   ]
  },
  {
   "cell_type": "markdown",
   "metadata": {},
   "source": [
    "取り方1"
   ]
  },
  {
   "cell_type": "code",
   "execution_count": 17,
   "metadata": {},
   "outputs": [
    {
     "name": "stdout",
     "output_type": "stream",
     "text": [
      "福岡県北九州市若松区久岐の浜\n",
      "0937612021\n",
      "若松駅から徒歩2分(135m)\n"
     ]
    }
   ],
   "source": [
    "vals = detail.xpath('dd[@class=\"spot-detail-value\"]/span[contains(@class, \"spot-detail-value-text\")]')\n",
    "for v in vals: print(v.text)"
   ]
  },
  {
   "cell_type": "markdown",
   "metadata": {},
   "source": [
    "取り方2：こっちの方が直接的で良い気がする"
   ]
  },
  {
   "cell_type": "code",
   "execution_count": 18,
   "metadata": {},
   "outputs": [
    {
     "name": "stdout",
     "output_type": "stream",
     "text": [
      "福岡県北九州市若松区久岐の浜\n",
      "0937612021\n",
      "若松駅から徒歩2分(135m)\n"
     ]
    }
   ],
   "source": [
    "vals2 = [\n",
    "    k.xpath('parent::dt/following-sibling::dd[@class=\"spot-detail-value\"][1]/span[contains(@class, \"spot-detail-value-text\")]')[0]\n",
    "    for k in keys\n",
    "]\n",
    "for v in vals2: print(v.text)"
   ]
  },
  {
   "cell_type": "markdown",
   "metadata": {},
   "source": [
    "## タグ"
   ]
  },
  {
   "cell_type": "code",
   "execution_count": 19,
   "metadata": {},
   "outputs": [
    {
     "name": "stdout",
     "output_type": "stream",
     "text": [
      "#イベント\n",
      "#若松駅\n"
     ]
    }
   ],
   "source": [
    "tags = e20.xpath('descendant::a[contains(@class, \"spot-tag\")]')\n",
    "for t in tags: print(t.text)"
   ]
  }
 ],
 "metadata": {
  "kernelspec": {
   "display_name": "Python 3",
   "language": "python",
   "name": "python3"
  },
  "language_info": {
   "codemirror_mode": {
    "name": "ipython",
    "version": 3
   },
   "file_extension": ".py",
   "mimetype": "text/x-python",
   "name": "python",
   "nbconvert_exporter": "python",
   "pygments_lexer": "ipython3",
   "version": "3.7.3"
  }
 },
 "nbformat": 4,
 "nbformat_minor": 4
}
