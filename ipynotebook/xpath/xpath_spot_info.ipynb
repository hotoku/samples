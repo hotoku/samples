{
 "cells": [
  {
   "cell_type": "code",
   "execution_count": 1,
   "metadata": {},
   "outputs": [],
   "source": [
    "import sys\n",
    "import re\n",
    "import tempfile\n",
    "import argparse\n",
    "from concurrent.futures import ProcessPoolExecutor\n",
    "from lxml import html\n",
    "import os\n",
    "import glob\n",
    "import pandas as pd"
   ]
  },
  {
   "cell_type": "code",
   "execution_count": 2,
   "metadata": {},
   "outputs": [],
   "source": [
    "fpath = \"listpage2/aHR0cHM6Ly93d3cubmF2aXRpbWUuY28uanAvY2F0ZWdvcnkvMDEwMS80MDEwMy8_cGFnZT0x.html\"\n",
    "doc = html.parse(fpath)"
   ]
  },
  {
   "cell_type": "markdown",
   "metadata": {},
   "source": [
    "# スポットの名前を取得するXPath"
   ]
  },
  {
   "cell_type": "code",
   "execution_count": 30,
   "metadata": {},
   "outputs": [
    {
     "name": "stdout",
     "output_type": "stream",
     "text": [
      "若松みなと祭り\n",
      "菖蒲谷キャンプ場\n",
      "こもれび学園果樹園\n",
      "脇田海釣り桟橋\n",
      "藤ノ元プール\n",
      "ひびき動物ワールド\n",
      "高砂果樹園\n",
      "藤ノ木霊園\n",
      "小石プール\n",
      "みかん狩り天正園\n",
      "岩屋海水浴場\n",
      "小田山公園\n",
      "二島東緑地\n",
      "小石緑地\n",
      "サイエンス緑道\n"
     ]
    }
   ],
   "source": [
    "es = doc.xpath('//dt[@class=\"spot-name\" and not(span)]')\n",
    "for e in es: print(e.text.strip())"
   ]
  },
  {
   "cell_type": "code",
   "execution_count": 36,
   "metadata": {},
   "outputs": [
    {
     "data": {
      "text/plain": [
       "'\\n\\t\\t\\t\\t\\t\\t\\t\\t\\t\\t\\t\\t\\t若松みなと祭り'"
      ]
     },
     "execution_count": 36,
     "metadata": {},
     "output_type": "execute_result"
    }
   ],
   "source": [
    "e0 = es[0]\n",
    "e0.text"
   ]
  },
  {
   "cell_type": "markdown",
   "metadata": {},
   "source": [
    "# 名前に対応する詳細を取得するXPath"
   ]
  },
  {
   "cell_type": "code",
   "execution_count": 39,
   "metadata": {},
   "outputs": [
    {
     "data": {
      "text/plain": [
       "[<Element dd at 0x12240b0e8>, <Element dd at 0x12240b3b8>]"
      ]
     },
     "execution_count": 39,
     "metadata": {},
     "output_type": "execute_result"
    }
   ],
   "source": [
    "e0.xpath('following-sibling::dd')"
   ]
  },
  {
   "cell_type": "markdown",
   "metadata": {},
   "source": [
    "# スポットの情報全体を包含するノードを取得"
   ]
  },
  {
   "cell_type": "code",
   "execution_count": 124,
   "metadata": {},
   "outputs": [
    {
     "data": {
      "text/plain": [
       "[<Element li at 0x12240b598>,\n",
       " <Element li at 0x12240bd68>,\n",
       " <Element li at 0x12240bc78>,\n",
       " <Element li at 0x12240bdb8>,\n",
       " <Element li at 0x12240be08>,\n",
       " <Element li at 0x12240be58>,\n",
       " <Element li at 0x12240bea8>,\n",
       " <Element li at 0x12240bef8>,\n",
       " <Element li at 0x1223c5458>,\n",
       " <Element li at 0x1223fbc28>,\n",
       " <Element li at 0x1223fbef8>,\n",
       " <Element li at 0x1223c6d18>,\n",
       " <Element li at 0x12240b5e8>,\n",
       " <Element li at 0x12240b778>,\n",
       " <Element li at 0x12240bf48>]"
      ]
     },
     "execution_count": 124,
     "metadata": {},
     "output_type": "execute_result"
    }
   ],
   "source": [
    "es2 = doc.xpath('//li/descendant::dt[@class=\"spot-name\" and not(span[contains(@class, \"adv-icon\")])]/ancestor::li[@class=\"spot-section\"]')\n",
    "es2"
   ]
  },
  {
   "cell_type": "code",
   "execution_count": 125,
   "metadata": {},
   "outputs": [],
   "source": [
    "e20 = es2[0]"
   ]
  },
  {
   "cell_type": "markdown",
   "metadata": {},
   "source": [
    "## 名前"
   ]
  },
  {
   "cell_type": "code",
   "execution_count": 129,
   "metadata": {},
   "outputs": [
    {
     "data": {
      "text/plain": [
       "'\\n\\t\\t\\t\\t\\t\\t\\t\\t\\t\\t\\t\\t\\t若松みなと祭り'"
      ]
     },
     "execution_count": 129,
     "metadata": {},
     "output_type": "execute_result"
    }
   ],
   "source": [
    "name = e20.xpath('descendant::dt[@class=\"spot-name\"]')\n",
    "name[0].text_content()"
   ]
  },
  {
   "cell_type": "markdown",
   "metadata": {},
   "source": [
    "# POI詳細のルートを取ってくるxpath"
   ]
  },
  {
   "cell_type": "code",
   "execution_count": 133,
   "metadata": {},
   "outputs": [],
   "source": [
    "detail = name[0].xpath('following-sibling::dd/dl[@class=\"spot-detail-section\"]')[0]"
   ]
  },
  {
   "cell_type": "markdown",
   "metadata": {},
   "source": [
    "## 属性のキー"
   ]
  },
  {
   "cell_type": "code",
   "execution_count": 134,
   "metadata": {},
   "outputs": [
    {
     "name": "stdout",
     "output_type": "stream",
     "text": [
      "住所\n",
      "電話番号\n",
      "アクセス\n"
     ]
    }
   ],
   "source": [
    "keys = detail.xpath('dt[@class=\"spot-detail-column\"]/span[@class=\"spot-detail-column-text\"]')\n",
    "for k in keys: print(k.text)"
   ]
  },
  {
   "cell_type": "markdown",
   "metadata": {},
   "source": [
    "## 属性の値"
   ]
  },
  {
   "cell_type": "markdown",
   "metadata": {},
   "source": [
    "取り方1"
   ]
  },
  {
   "cell_type": "code",
   "execution_count": 135,
   "metadata": {},
   "outputs": [
    {
     "name": "stdout",
     "output_type": "stream",
     "text": [
      "福岡県北九州市若松区久岐の浜\n",
      "0937612021\n",
      "若松駅から徒歩2分(135m)\n"
     ]
    }
   ],
   "source": [
    "vals = detail.xpath('dd[@class=\"spot-detail-value\"]/span[contains(@class, \"spot-detail-value-text\")]')\n",
    "for v in vals: print(v.text)"
   ]
  },
  {
   "cell_type": "markdown",
   "metadata": {},
   "source": [
    "取り方2：こっちの方が直接的で良い気がする"
   ]
  },
  {
   "cell_type": "code",
   "execution_count": 136,
   "metadata": {},
   "outputs": [
    {
     "name": "stdout",
     "output_type": "stream",
     "text": [
      "福岡県北九州市若松区久岐の浜\n",
      "0937612021\n",
      "若松駅から徒歩2分(135m)\n"
     ]
    }
   ],
   "source": [
    "vals2 = [\n",
    "    k.xpath('parent::dt/following-sibling::dd[@class=\"spot-detail-value\"][1]/span[contains(@class, \"spot-detail-value-text\")]')[0]\n",
    "    for k in keys\n",
    "]\n",
    "for v in vals2: print(v.text)"
   ]
  },
  {
   "cell_type": "markdown",
   "metadata": {},
   "source": [
    "## タグ"
   ]
  },
  {
   "cell_type": "code",
   "execution_count": 137,
   "metadata": {},
   "outputs": [
    {
     "name": "stdout",
     "output_type": "stream",
     "text": [
      "#イベント\n",
      "#若松駅\n"
     ]
    }
   ],
   "source": [
    "tags = e20.xpath('descendant::a[contains(@class, \"spot-tag\")]')\n",
    "for t in tags: print(t.text)"
   ]
  }
 ],
 "metadata": {
  "kernelspec": {
   "display_name": "Python 3",
   "language": "python",
   "name": "python3"
  },
  "language_info": {
   "codemirror_mode": {
    "name": "ipython",
    "version": 3
   },
   "file_extension": ".py",
   "mimetype": "text/x-python",
   "name": "python",
   "nbconvert_exporter": "python",
   "pygments_lexer": "ipython3",
   "version": "3.7.3"
  }
 },
 "nbformat": 4,
 "nbformat_minor": 4
}
