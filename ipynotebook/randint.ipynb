{
 "cells": [
  {
   "cell_type": "code",
   "execution_count": 1,
   "metadata": {},
   "outputs": [],
   "source": [
    "import random"
   ]
  },
  {
   "cell_type": "code",
   "execution_count": 6,
   "metadata": {},
   "outputs": [
    {
     "name": "stdout",
     "output_type": "stream",
     "text": [
      "[4, 8, 8, 8, 9, 7, 6, 3, 6, 7, 9, 10, 3, 3, 7, 9, 9, 6, 6, 5, 7, 10, 9, 5, 9, 9, 10, 8, 6, 9, 8, 10, 4, 4, 4, 4, 3, 5, 4, 10, 3, 9, 5, 9, 10, 3, 3, 9, 6, 6, 9, 6, 3, 5, 7, 7, 7, 4, 8, 5, 7, 8, 7, 5, 7, 8, 10, 8, 10, 4, 6, 10, 5, 10, 9, 4, 9, 3, 8, 3, 5, 7, 8, 5, 7, 4, 5, 9, 9, 3, 4, 10, 3, 4, 7, 10, 6, 9, 3, 8]\n"
     ]
    }
   ],
   "source": [
    "print([random.randint(3, 10) for i in range(100)])"
   ]
  },
  {
   "cell_type": "markdown",
   "metadata": {},
   "source": [
    "randintの区間指定は、両端を含む"
   ]
  }
 ],
 "metadata": {
  "kernelspec": {
   "display_name": "Python 3",
   "language": "python",
   "name": "python3"
  },
  "language_info": {
   "codemirror_mode": {
    "name": "ipython",
    "version": 3
   },
   "file_extension": ".py",
   "mimetype": "text/x-python",
   "name": "python",
   "nbconvert_exporter": "python",
   "pygments_lexer": "ipython3",
   "version": "3.8.0"
  }
 },
 "nbformat": 4,
 "nbformat_minor": 4
}
