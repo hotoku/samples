{
 "cells": [
  {
   "cell_type": "code",
   "execution_count": 2,
   "id": "89ce4f9a-4855-4c89-bd81-1aed5b921a5c",
   "metadata": {},
   "outputs": [],
   "source": [
    "import MeCab\n",
    "import ipadic"
   ]
  },
  {
   "cell_type": "markdown",
   "id": "d9d4ae3e-8f35-406c-ad12-78f458b4b3bc",
   "metadata": {},
   "source": [
    "## デフォルトの出力"
   ]
  },
  {
   "cell_type": "code",
   "execution_count": 3,
   "id": "6de27df1-c3f7-49ed-b59d-71102424b016",
   "metadata": {},
   "outputs": [],
   "source": [
    "tagger = MeCab.Tagger(ipadic.MECAB_ARGS)"
   ]
  },
  {
   "cell_type": "code",
   "execution_count": 11,
   "id": "3ae157ff-7e45-47c9-8c91-2b041140a054",
   "metadata": {},
   "outputs": [
    {
     "data": {
      "text/plain": [
       "'本日\\t名詞,副詞可能,*,*,*,*,本日,ホンジツ,ホンジツ\\nは\\t助詞,係助詞,*,*,*,*,は,ハ,ワ\\n晴天\\t名詞,一般,*,*,*,*,晴天,セイテン,セイテン\\nなり\\t助動詞,*,*,*,文語・ナリ,基本形,なり,ナリ,ナリ\\nEOS\\n'"
      ]
     },
     "execution_count": 11,
     "metadata": {},
     "output_type": "execute_result"
    }
   ],
   "source": [
    "ret = tagger.parse(\"本日は晴天なり\")\n",
    "ret"
   ]
  },
  {
   "cell_type": "code",
   "execution_count": 8,
   "id": "3d12ec0f-ba7f-47df-9314-fa1cd3d41248",
   "metadata": {},
   "outputs": [
    {
     "data": {
      "text/plain": [
       "'本日\\t名詞,副詞可能,*,*,*,*,本日,ホンジツ,ホンジツ'"
      ]
     },
     "execution_count": 8,
     "metadata": {},
     "output_type": "execute_result"
    }
   ],
   "source": [
    "words = ret.split(\"\\n\")\n",
    "words[0]"
   ]
  },
  {
   "cell_type": "markdown",
   "id": "85c8c805-6f2a-4fdd-bdd9-4b6a75dca2b1",
   "metadata": {},
   "source": [
    "## 分かち書きだけ"
   ]
  },
  {
   "cell_type": "code",
   "execution_count": 31,
   "id": "d81737f4-9f33-4cac-829a-2402470ca0d6",
   "metadata": {},
   "outputs": [],
   "source": [
    "tagger2 = MeCab.Tagger(ipadic.MECAB_ARGS + \" -Owakati\")"
   ]
  },
  {
   "cell_type": "code",
   "execution_count": 32,
   "id": "5a6a084c-f55b-42b7-a979-00efc5125ec7",
   "metadata": {},
   "outputs": [
    {
     "data": {
      "text/plain": [
       "'本日 は 晴天 なり \\n'"
      ]
     },
     "execution_count": 32,
     "metadata": {},
     "output_type": "execute_result"
    }
   ],
   "source": [
    "tagger2.parse(\"本日は晴天なり\")"
   ]
  },
  {
   "cell_type": "markdown",
   "id": "1956ca08-8804-4e76-b60b-ae23e0a977d6",
   "metadata": {},
   "source": [
    "## best解以外の出力"
   ]
  },
  {
   "cell_type": "markdown",
   "id": "b2953b22-3ec0-44d6-9ca7-5b2943e09a97",
   "metadata": {},
   "source": [
    "https://taku910.github.io/mecab/#wakati\n",
    "\n",
    "には、`-N`引数でできると書いてあるけどだめぽい"
   ]
  },
  {
   "cell_type": "code",
   "execution_count": 33,
   "id": "2aa28317-2f46-42a4-a95d-afba0d09cedd",
   "metadata": {},
   "outputs": [],
   "source": [
    "tagger3 = MeCab.Tagger(ipadic.MECAB_ARGS + \" -N2\")"
   ]
  },
  {
   "cell_type": "code",
   "execution_count": 35,
   "id": "55e26582-fb38-4896-bb10-704068dcf7b8",
   "metadata": {},
   "outputs": [
    {
     "data": {
      "text/plain": [
       "'今日\\t名詞,副詞可能,*,*,*,*,今日,キョウ,キョー\\nも\\t助詞,係助詞,*,*,*,*,も,モ,モ\\nし\\t動詞,自立,*,*,サ変・スル,未然形,する,シ,シ\\nない\\t助動詞,*,*,*,特殊・ナイ,基本形,ない,ナイ,ナイ\\nと\\t助詞,接続助詞,*,*,*,*,と,ト,ト\\nね\\t助詞,終助詞,*,*,*,*,ね,ネ,ネ\\nEOS\\n'"
      ]
     },
     "execution_count": 35,
     "metadata": {},
     "output_type": "execute_result"
    }
   ],
   "source": [
    "tagger3.parse(\"今日もしないとね\")"
   ]
  },
  {
   "cell_type": "markdown",
   "id": "cd3d232d-0dc2-4c41-aa37-0e664ac6ca5d",
   "metadata": {},
   "source": [
    "## 未知語の扱いを変える"
   ]
  },
  {
   "cell_type": "code",
   "execution_count": 36,
   "id": "62c2316d-3f09-4efd-a1af-80c6c06828c1",
   "metadata": {},
   "outputs": [],
   "source": [
    "tagger4 = MeCab.Tagger(ipadic.MECAB_ARGS + \" -x UNK\")"
   ]
  },
  {
   "cell_type": "code",
   "execution_count": 38,
   "id": "3e142824-c1f9-4a99-b0fe-6b565656df22",
   "metadata": {},
   "outputs": [
    {
     "data": {
      "text/plain": [
       "'ホリエモン\\t名詞,固有名詞,地域,一般,*,*,*\\n市\\t名詞,接尾,地域,*,*,*,市,シ,シ\\nEOS\\n'"
      ]
     },
     "execution_count": 38,
     "metadata": {},
     "output_type": "execute_result"
    }
   ],
   "source": [
    "tagger.parse(\"ホリエモン市\")"
   ]
  },
  {
   "cell_type": "code",
   "execution_count": 39,
   "id": "a3da9824-0dc5-4b4b-b47b-61a9ca8ed70d",
   "metadata": {},
   "outputs": [
    {
     "data": {
      "text/plain": [
       "'ホリエモン\\tUNK\\n市\\t名詞,接尾,地域,*,*,*,市,シ,シ\\nEOS\\n'"
      ]
     },
     "execution_count": 39,
     "metadata": {},
     "output_type": "execute_result"
    }
   ],
   "source": [
    "tagger4.parse(\"ホリエモン市\")"
   ]
  },
  {
   "cell_type": "markdown",
   "id": "eb166d1d-1b6d-4d05-965f-cd66840490cc",
   "metadata": {},
   "source": [
    "↑未知語の品詞がUNKに変わった"
   ]
  }
 ],
 "metadata": {
  "kernelspec": {
   "display_name": "Python 3 (ipykernel)",
   "language": "python",
   "name": "python3"
  },
  "language_info": {
   "codemirror_mode": {
    "name": "ipython",
    "version": 3
   },
   "file_extension": ".py",
   "mimetype": "text/x-python",
   "name": "python",
   "nbconvert_exporter": "python",
   "pygments_lexer": "ipython3",
   "version": "3.10.5"
  }
 },
 "nbformat": 4,
 "nbformat_minor": 5
}
