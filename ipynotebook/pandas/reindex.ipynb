{
 "cells": [
  {
   "cell_type": "code",
   "execution_count": 2,
   "id": "7436eeab-bfec-4d15-8555-87e32ea6d992",
   "metadata": {},
   "outputs": [],
   "source": [
    "import pandas as pd\n",
    "import numpy as np"
   ]
  },
  {
   "cell_type": "code",
   "execution_count": 3,
   "id": "76e8d967-a4f5-4245-927b-1493fe39e464",
   "metadata": {},
   "outputs": [],
   "source": [
    "ser = pd.Series(np.arange(3))"
   ]
  },
  {
   "cell_type": "code",
   "execution_count": 4,
   "id": "f8dfbf87-e2d4-4696-82a8-01ea296ee228",
   "metadata": {},
   "outputs": [
    {
     "data": {
      "text/plain": [
       "0    0\n",
       "1    1\n",
       "2    2\n",
       "dtype: int64"
      ]
     },
     "execution_count": 4,
     "metadata": {},
     "output_type": "execute_result"
    }
   ],
   "source": [
    "ser"
   ]
  },
  {
   "cell_type": "code",
   "execution_count": 7,
   "id": "fad23c04-3809-4671-96a6-a9d3210c8183",
   "metadata": {},
   "outputs": [
    {
     "data": {
      "text/plain": [
       "1    1.0\n",
       "2    2.0\n",
       "3    NaN\n",
       "4    NaN\n",
       "dtype: float64"
      ]
     },
     "execution_count": 7,
     "metadata": {},
     "output_type": "execute_result"
    }
   ],
   "source": [
    "ser.reindex(np.arange(1, 5))"
   ]
  },
  {
   "cell_type": "markdown",
   "id": "fb161448-d176-415e-8633-64c13597090e",
   "metadata": {},
   "source": [
    "`reindex`で、インデックスを付け直すことができる。\n",
    "\n",
    "pandasでは、存在しないindexを取ろうとするとnanを返すのではなくエラーになる。存在しないindexにアクセスするには、reindexでインデックスを貼り直す必要がある。"
   ]
  }
 ],
 "metadata": {
  "kernelspec": {
   "display_name": "Python 3 (ipykernel)",
   "language": "python",
   "name": "python3"
  },
  "language_info": {
   "codemirror_mode": {
    "name": "ipython",
    "version": 3
   },
   "file_extension": ".py",
   "mimetype": "text/x-python",
   "name": "python",
   "nbconvert_exporter": "python",
   "pygments_lexer": "ipython3",
   "version": "3.9.5"
  }
 },
 "nbformat": 4,
 "nbformat_minor": 5
}
