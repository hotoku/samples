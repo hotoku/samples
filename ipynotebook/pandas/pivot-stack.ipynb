{
 "cells": [
  {
   "cell_type": "code",
   "execution_count": 1,
   "metadata": {},
   "outputs": [],
   "source": [
    "import pandas as pd"
   ]
  },
  {
   "cell_type": "markdown",
   "metadata": {},
   "source": [
    "tidyverseの哲学に従えば、\n",
    "\n",
    "- 観測/個体 = 行\n",
    "- 変数 = 列\n",
    "- セルの値 = その観測での、その変数の値\n",
    "\n",
    "ということになる。つまり、テーブルデータとは、**複数の変数からなる個体に関する情報を、複数の個体に亘って集めたもの**ということ。\n",
    "なので、何を個体と見なし、何を変数とみなすかに意識的である必要がある。しかし、実際のところは、何が個体で何が変数なのかは、場合によって判断が別れ得るし、意味の側面だけではなく取り回しのしやすさから制約がかかる場合もあると思われる。\n",
    "\n",
    "例えば、あるチェーン店について、$N$時台の売上、というデータを取ったとする。この場合、\n",
    "\n",
    "- 個体 = 店\n",
    "- 変数 = $N$時台の売上（$N$=0,1,2,..,23)\n",
    "\n",
    "と考えるのが自然だが、クエリを書く上では、$N$の部分は列名ではなく値として扱えた方が楽になる。つまり、\n",
    "\n",
    "```\n",
    "店id,0時台の売上,1時台の売上,...,23時台の売上\n",
    "```\n",
    "というスキーマよりも、\n",
    "```\n",
    "店id,時間,売上\n",
    "```\n",
    "というスキーマの方がありがたい、気がする。\n",
    "\n",
    "ともあれ、操作方法を学ぶ。"
   ]
  },
  {
   "cell_type": "markdown",
   "metadata": {},
   "source": [
    "## wide → long"
   ]
  },
  {
   "cell_type": "markdown",
   "metadata": {},
   "source": [
    "横持ちを縦持ちにしたい。これは、横に広がった値を縦に「積む」ので`stack`、と覚える。"
   ]
  },
  {
   "cell_type": "code",
   "execution_count": 7,
   "metadata": {},
   "outputs": [],
   "source": [
    "from io import StringIO"
   ]
  },
  {
   "cell_type": "code",
   "execution_count": 22,
   "metadata": {},
   "outputs": [],
   "source": [
    "csv = \"\"\"\n",
    "id,hour0,hour1,hour2\n",
    "1,2,3,4\n",
    "5,6,7,8\n",
    "9,10,11,12\n",
    "\"\"\"\n",
    "df = pd.read_csv(StringIO(csv), index_col=\"id\")"
   ]
  },
  {
   "cell_type": "code",
   "execution_count": 26,
   "metadata": {},
   "outputs": [
    {
     "data": {
      "text/plain": [
       "id       \n",
       "1   hour0     2\n",
       "    hour1     3\n",
       "    hour2     4\n",
       "5   hour0     6\n",
       "    hour1     7\n",
       "    hour2     8\n",
       "9   hour0    10\n",
       "    hour1    11\n",
       "    hour2    12\n",
       "dtype: int64"
      ]
     },
     "execution_count": 26,
     "metadata": {},
     "output_type": "execute_result"
    }
   ],
   "source": [
    "df.stack()"
   ]
  },
  {
   "cell_type": "markdown",
   "metadata": {},
   "source": [
    "### 注意点\n",
    "\n",
    "- 「個体」を識別する列は、インデックスにしておく必要がある\n",
    "- 列名をあとからハンドリングするのは面倒かもしれない\n",
    "\n",
    "上が注意点だが、逆に言うと、これだけ意識しておけば直観的に使える。気がする"
   ]
  },
  {
   "cell_type": "markdown",
   "metadata": {},
   "source": [
    "## long → wide"
   ]
  },
  {
   "cell_type": "markdown",
   "metadata": {},
   "source": [
    "縦持ちを横持ちにするのは、Excelで言う`pivot table`の機能なので、`pivot`と覚える。"
   ]
  },
  {
   "cell_type": "code",
   "execution_count": 32,
   "metadata": {},
   "outputs": [],
   "source": [
    "csv2 = \"\"\"\n",
    "id,hour,sales\n",
    "1,0,10\n",
    "1,1,20\n",
    "2,0,30\n",
    "2,1,40\n",
    "2,2,50\n",
    "\"\"\"\n",
    "df2 = pd.read_csv(StringIO(csv2))"
   ]
  },
  {
   "cell_type": "code",
   "execution_count": 33,
   "metadata": {},
   "outputs": [
    {
     "data": {
      "text/html": [
       "<div>\n",
       "<style scoped>\n",
       "    .dataframe tbody tr th:only-of-type {\n",
       "        vertical-align: middle;\n",
       "    }\n",
       "\n",
       "    .dataframe tbody tr th {\n",
       "        vertical-align: top;\n",
       "    }\n",
       "\n",
       "    .dataframe thead th {\n",
       "        text-align: right;\n",
       "    }\n",
       "</style>\n",
       "<table border=\"1\" class=\"dataframe\">\n",
       "  <thead>\n",
       "    <tr style=\"text-align: right;\">\n",
       "      <th>hour</th>\n",
       "      <th>0</th>\n",
       "      <th>1</th>\n",
       "      <th>2</th>\n",
       "    </tr>\n",
       "    <tr>\n",
       "      <th>id</th>\n",
       "      <th></th>\n",
       "      <th></th>\n",
       "      <th></th>\n",
       "    </tr>\n",
       "  </thead>\n",
       "  <tbody>\n",
       "    <tr>\n",
       "      <th>1</th>\n",
       "      <td>10.0</td>\n",
       "      <td>20.0</td>\n",
       "      <td>NaN</td>\n",
       "    </tr>\n",
       "    <tr>\n",
       "      <th>2</th>\n",
       "      <td>30.0</td>\n",
       "      <td>40.0</td>\n",
       "      <td>50.0</td>\n",
       "    </tr>\n",
       "  </tbody>\n",
       "</table>\n",
       "</div>"
      ],
      "text/plain": [
       "hour     0     1     2\n",
       "id                    \n",
       "1     10.0  20.0   NaN\n",
       "2     30.0  40.0  50.0"
      ]
     },
     "execution_count": 33,
     "metadata": {},
     "output_type": "execute_result"
    }
   ],
   "source": [
    "df2.pivot(index=\"id\", columns=\"hour\", values=\"sales\")"
   ]
  },
  {
   "cell_type": "markdown",
   "metadata": {},
   "source": [
    "インデックスにすべき値の入った列、列にすべき値の入った列、セルの値にすべき列を指定する、という動作は、Excelでpivotテーブルを作るときと同じなので、分かりやすい。"
   ]
  }
 ],
 "metadata": {
  "kernelspec": {
   "display_name": "Python 3",
   "language": "python",
   "name": "python3"
  },
  "language_info": {
   "codemirror_mode": {
    "name": "ipython",
    "version": 3
   },
   "file_extension": ".py",
   "mimetype": "text/x-python",
   "name": "python",
   "nbconvert_exporter": "python",
   "pygments_lexer": "ipython3",
   "version": "3.8.5"
  }
 },
 "nbformat": 4,
 "nbformat_minor": 4
}
