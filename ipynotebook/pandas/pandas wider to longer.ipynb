{
 "cells": [
  {
   "cell_type": "code",
   "execution_count": 1,
   "metadata": {},
   "outputs": [],
   "source": [
    "import pandas as pd"
   ]
  },
  {
   "cell_type": "markdown",
   "metadata": {},
   "source": [
    "pandasでtidyverseのgather/spreadをやりたい。今どきはpivot_longer/widerというらしい"
   ]
  },
  {
   "cell_type": "code",
   "execution_count": 14,
   "metadata": {},
   "outputs": [],
   "source": [
    "df = pd.DataFrame(dict(\n",
    "    x=[1,2,3],\n",
    "    y=[4,5,6]\n",
    "), index=[0,1,2])"
   ]
  },
  {
   "cell_type": "code",
   "execution_count": 15,
   "metadata": {},
   "outputs": [
    {
     "data": {
      "text/html": [
       "<div>\n",
       "<style scoped>\n",
       "    .dataframe tbody tr th:only-of-type {\n",
       "        vertical-align: middle;\n",
       "    }\n",
       "\n",
       "    .dataframe tbody tr th {\n",
       "        vertical-align: top;\n",
       "    }\n",
       "\n",
       "    .dataframe thead th {\n",
       "        text-align: right;\n",
       "    }\n",
       "</style>\n",
       "<table border=\"1\" class=\"dataframe\">\n",
       "  <thead>\n",
       "    <tr style=\"text-align: right;\">\n",
       "      <th></th>\n",
       "      <th>x</th>\n",
       "      <th>y</th>\n",
       "    </tr>\n",
       "  </thead>\n",
       "  <tbody>\n",
       "    <tr>\n",
       "      <th>0</th>\n",
       "      <td>1</td>\n",
       "      <td>4</td>\n",
       "    </tr>\n",
       "    <tr>\n",
       "      <th>1</th>\n",
       "      <td>2</td>\n",
       "      <td>5</td>\n",
       "    </tr>\n",
       "    <tr>\n",
       "      <th>2</th>\n",
       "      <td>3</td>\n",
       "      <td>6</td>\n",
       "    </tr>\n",
       "  </tbody>\n",
       "</table>\n",
       "</div>"
      ],
      "text/plain": [
       "   x  y\n",
       "0  1  4\n",
       "1  2  5\n",
       "2  3  6"
      ]
     },
     "execution_count": 15,
     "metadata": {},
     "output_type": "execute_result"
    }
   ],
   "source": [
    "df"
   ]
  },
  {
   "cell_type": "markdown",
   "metadata": {},
   "source": [
    "## pivot_longer"
   ]
  },
  {
   "cell_type": "markdown",
   "metadata": {},
   "source": [
    "### stack"
   ]
  },
  {
   "cell_type": "markdown",
   "metadata": {},
   "source": [
    "### stackの説明\n",
    "Signature: df.stack(level=-1, dropna=True)\n",
    "\n",
    "Stack the prescribed level(s) from columns to index.\n",
    "\n",
    "Return a reshaped DataFrame or Series having a multi-level\n",
    "index with one or more new inner-most levels compared to the current\n",
    "DataFrame. The new inner-most levels are created by pivoting the\n",
    "columns of the current dataframe:\n",
    "\n",
    "  - if the columns have a single level, the output is a Series;\n",
    "  - if the columns have multiple levels, the new index\n",
    "    level(s) is (are) taken from the prescribed level(s) and\n",
    "    the output is a DataFrame.\n",
    "\n",
    "The new index levels are sorted.\n",
    "\n",
    "#### Parameters\n",
    "level : int, str, list, default -1\n",
    "    Level(s) to stack from the column axis onto the index\n",
    "    axis, defined as one index or label, or a list of indices\n",
    "    or labels.\n",
    "\n",
    "dropna : bool, default True\n",
    "    Whether to drop rows in the resulting Frame/Series with\n",
    "    missing values. Stacking a column level onto the index\n",
    "    axis can create combinations of index and column values\n",
    "    that are missing from the original dataframe. See Examples\n",
    "    section."
   ]
  },
  {
   "cell_type": "code",
   "execution_count": 6,
   "metadata": {},
   "outputs": [
    {
     "data": {
      "text/plain": [
       "0  x    1\n",
       "   y    4\n",
       "1  x    2\n",
       "   y    5\n",
       "2  x    3\n",
       "   y    6\n",
       "dtype: int64"
      ]
     },
     "execution_count": 6,
     "metadata": {},
     "output_type": "execute_result"
    }
   ],
   "source": [
    "df.stack()"
   ]
  },
  {
   "cell_type": "code",
   "execution_count": 16,
   "metadata": {},
   "outputs": [
    {
     "data": {
      "text/html": [
       "<div>\n",
       "<style scoped>\n",
       "    .dataframe tbody tr th:only-of-type {\n",
       "        vertical-align: middle;\n",
       "    }\n",
       "\n",
       "    .dataframe tbody tr th {\n",
       "        vertical-align: top;\n",
       "    }\n",
       "\n",
       "    .dataframe thead th {\n",
       "        text-align: right;\n",
       "    }\n",
       "</style>\n",
       "<table border=\"1\" class=\"dataframe\">\n",
       "  <thead>\n",
       "    <tr style=\"text-align: right;\">\n",
       "      <th></th>\n",
       "      <th>level_0</th>\n",
       "      <th>level_1</th>\n",
       "      <th>0</th>\n",
       "    </tr>\n",
       "  </thead>\n",
       "  <tbody>\n",
       "    <tr>\n",
       "      <th>0</th>\n",
       "      <td>0</td>\n",
       "      <td>x</td>\n",
       "      <td>1</td>\n",
       "    </tr>\n",
       "    <tr>\n",
       "      <th>1</th>\n",
       "      <td>0</td>\n",
       "      <td>y</td>\n",
       "      <td>4</td>\n",
       "    </tr>\n",
       "    <tr>\n",
       "      <th>2</th>\n",
       "      <td>1</td>\n",
       "      <td>x</td>\n",
       "      <td>2</td>\n",
       "    </tr>\n",
       "    <tr>\n",
       "      <th>3</th>\n",
       "      <td>1</td>\n",
       "      <td>y</td>\n",
       "      <td>5</td>\n",
       "    </tr>\n",
       "    <tr>\n",
       "      <th>4</th>\n",
       "      <td>2</td>\n",
       "      <td>x</td>\n",
       "      <td>3</td>\n",
       "    </tr>\n",
       "    <tr>\n",
       "      <th>5</th>\n",
       "      <td>2</td>\n",
       "      <td>y</td>\n",
       "      <td>6</td>\n",
       "    </tr>\n",
       "  </tbody>\n",
       "</table>\n",
       "</div>"
      ],
      "text/plain": [
       "   level_0 level_1  0\n",
       "0        0       x  1\n",
       "1        0       y  4\n",
       "2        1       x  2\n",
       "3        1       y  5\n",
       "4        2       x  3\n",
       "5        2       y  6"
      ]
     },
     "execution_count": 16,
     "metadata": {},
     "output_type": "execute_result"
    }
   ],
   "source": [
    "df.stack().reset_index()"
   ]
  },
  {
   "cell_type": "markdown",
   "metadata": {},
   "source": [
    "### pivot_wide_to_long"
   ]
  },
  {
   "cell_type": "markdown",
   "metadata": {},
   "source": [
    "#### Signature:\n",
    "pd.wide_to_long(\n",
    "    df: pandas.core.frame.DataFrame,\n",
    "    stubnames,\n",
    "    i,\n",
    "    j,\n",
    "    sep: str = '',\n",
    "    suffix: str = '\\\\d+',\n",
    ") -> pandas.core.frame.DataFrame\n",
    "\n",
    "#### Docstring:\n",
    "Wide panel to long format. Less flexible but more user-friendly than melt.\n",
    "\n",
    "With stubnames ['A', 'B'], this function expects to find one or more\n",
    "group of columns with format\n",
    "A-suffix1, A-suffix2,..., B-suffix1, B-suffix2,...\n",
    "You specify what you want to call this suffix in the resulting long format\n",
    "with `j` (for example `j='year'`)\n",
    "\n",
    "Each row of these wide variables are assumed to be uniquely identified by\n",
    "`i` (can be a single column name or a list of column names)\n",
    "\n",
    "All remaining variables in the data frame are left intact.\n",
    "\n",
    "#### Parameters\n",
    "- df : DataFrame\n",
    "    The wide-format DataFrame.\n",
    "- stubnames : str or list-like\n",
    "    The stub name(s). The wide format variables are assumed to\n",
    "    start with the stub names.\n",
    "- i : str or list-like\n",
    "    Column(s) to use as id variable(s).\n",
    "- j : str\n",
    "    The name of the sub-observation variable. What you wish to name your\n",
    "    suffix in the long format.\n",
    "- sep : str, default \"\"\n",
    "    A character indicating the separation of the variable names\n",
    "    in the wide format, to be stripped from the names in the long format.\n",
    "    For example, if your column names are A-suffix1, A-suffix2, you\n",
    "    can strip the hyphen by specifying `sep='-'`.\n",
    "- suffix : str, default '\\\\d+'\n",
    "    A regular expression capturing the wanted suffixes. '\\\\d+' captures\n",
    "    numeric suffixes. Suffixes with no numbers could be specified with the\n",
    "    negated character class '\\\\D+'. You can also further disambiguate\n",
    "    suffixes, for example, if your wide variables are of the form\n",
    "    A-one, B-two,.., and you have an unrelated column A-rating, you can\n",
    "    ignore the last one by specifying `suffix='(!?one|two)'`.\n",
    "\n",
    "    .. versionchanged:: 0.23.0\n",
    "        When all suffixes are numeric, they are cast to int64/float64.\n",
    "\n",
    "#### Returns\n",
    "DataFrame\n",
    "    A DataFrame that contains each stub name as a variable, with new index\n",
    "    (i, j).\n",
    "\n",
    "#### Notes\n",
    "All extra variables are left untouched. This simply uses\n",
    "`pandas.melt` under the hood, but is hard-coded to \"do the right thing\"\n",
    "in a typical case.\n",
    "\n",
    "列名が、特定の形になってないと使えない・・・？"
   ]
  },
  {
   "cell_type": "markdown",
   "metadata": {},
   "source": [
    "### melt"
   ]
  },
  {
   "cell_type": "markdown",
   "metadata": {},
   "source": [
    "### meltの説明\n",
    "#### Signature:\n",
    "pd.melt(\n",
    "    frame: pandas.core.frame.DataFrame,\n",
    "    id_vars=None,\n",
    "    value_vars=None,\n",
    "    var_name=None,\n",
    "    value_name='value',\n",
    "    col_level=None,\n",
    ") -> pandas.core.frame.DataFrame\n",
    "\n",
    "#### Docstring:\n",
    "Unpivot a DataFrame from wide to long format, optionally leaving identifiers set.\n",
    "\n",
    "This function is useful to massage a DataFrame into a format where one\n",
    "or more columns are identifier variables (`id_vars`), while all other\n",
    "columns, considered measured variables (`value_vars`), are \"unpivoted\" to\n",
    "the row axis, leaving just two non-identifier columns, 'variable' and\n",
    "'value'.\n",
    "\n",
    "#### Parameters\n",
    "- id_vars : tuple, list, or ndarray, optional\n",
    "    Column(s) to use as identifier variables.\n",
    "- value_vars : tuple, list, or ndarray, optional\n",
    "    Column(s) to unpivot. If not specified, uses all columns that\n",
    "    are not set as `id_vars`.\n",
    "- var_name : scalar\n",
    "    Name to use for the 'variable' column. If None it uses\n",
    "    ``frame.columns.name`` or 'variable'.\n",
    "- value_name : scalar, default 'value'\n",
    "    Name to use for the 'value' column.\n",
    "- col_level : int or str, optional\n",
    "    If columns are a MultiIndex then use this level to melt.\n",
    "\n",
    "#### Returns\n",
    "DataFrame\n",
    "    Unpivoted DataFrame.\n"
   ]
  },
  {
   "cell_type": "code",
   "execution_count": 17,
   "metadata": {},
   "outputs": [
    {
     "data": {
      "text/html": [
       "<div>\n",
       "<style scoped>\n",
       "    .dataframe tbody tr th:only-of-type {\n",
       "        vertical-align: middle;\n",
       "    }\n",
       "\n",
       "    .dataframe tbody tr th {\n",
       "        vertical-align: top;\n",
       "    }\n",
       "\n",
       "    .dataframe thead th {\n",
       "        text-align: right;\n",
       "    }\n",
       "</style>\n",
       "<table border=\"1\" class=\"dataframe\">\n",
       "  <thead>\n",
       "    <tr style=\"text-align: right;\">\n",
       "      <th></th>\n",
       "      <th>variable</th>\n",
       "      <th>value</th>\n",
       "    </tr>\n",
       "  </thead>\n",
       "  <tbody>\n",
       "    <tr>\n",
       "      <th>0</th>\n",
       "      <td>x</td>\n",
       "      <td>1</td>\n",
       "    </tr>\n",
       "    <tr>\n",
       "      <th>1</th>\n",
       "      <td>x</td>\n",
       "      <td>2</td>\n",
       "    </tr>\n",
       "    <tr>\n",
       "      <th>2</th>\n",
       "      <td>x</td>\n",
       "      <td>3</td>\n",
       "    </tr>\n",
       "    <tr>\n",
       "      <th>3</th>\n",
       "      <td>y</td>\n",
       "      <td>4</td>\n",
       "    </tr>\n",
       "    <tr>\n",
       "      <th>4</th>\n",
       "      <td>y</td>\n",
       "      <td>5</td>\n",
       "    </tr>\n",
       "    <tr>\n",
       "      <th>5</th>\n",
       "      <td>y</td>\n",
       "      <td>6</td>\n",
       "    </tr>\n",
       "  </tbody>\n",
       "</table>\n",
       "</div>"
      ],
      "text/plain": [
       "  variable  value\n",
       "0        x      1\n",
       "1        x      2\n",
       "2        x      3\n",
       "3        y      4\n",
       "4        y      5\n",
       "5        y      6"
      ]
     },
     "execution_count": 17,
     "metadata": {},
     "output_type": "execute_result"
    }
   ],
   "source": [
    "pd.melt(df)"
   ]
  },
  {
   "cell_type": "markdown",
   "metadata": {},
   "source": [
    "元のindexの情報が失われている。\n",
    "\n",
    "> one or more columns are identifier variables (id_vars),\n",
    "\n",
    "と言っているので、dimensionがindexではなくて列になっていることが想定されている？"
   ]
  },
  {
   "cell_type": "code",
   "execution_count": 20,
   "metadata": {},
   "outputs": [
    {
     "data": {
      "text/html": [
       "<div>\n",
       "<style scoped>\n",
       "    .dataframe tbody tr th:only-of-type {\n",
       "        vertical-align: middle;\n",
       "    }\n",
       "\n",
       "    .dataframe tbody tr th {\n",
       "        vertical-align: top;\n",
       "    }\n",
       "\n",
       "    .dataframe thead th {\n",
       "        text-align: right;\n",
       "    }\n",
       "</style>\n",
       "<table border=\"1\" class=\"dataframe\">\n",
       "  <thead>\n",
       "    <tr style=\"text-align: right;\">\n",
       "      <th></th>\n",
       "      <th>idx</th>\n",
       "      <th>variable</th>\n",
       "      <th>value</th>\n",
       "    </tr>\n",
       "  </thead>\n",
       "  <tbody>\n",
       "    <tr>\n",
       "      <th>0</th>\n",
       "      <td>0</td>\n",
       "      <td>x</td>\n",
       "      <td>1</td>\n",
       "    </tr>\n",
       "    <tr>\n",
       "      <th>1</th>\n",
       "      <td>1</td>\n",
       "      <td>x</td>\n",
       "      <td>2</td>\n",
       "    </tr>\n",
       "    <tr>\n",
       "      <th>2</th>\n",
       "      <td>2</td>\n",
       "      <td>x</td>\n",
       "      <td>3</td>\n",
       "    </tr>\n",
       "    <tr>\n",
       "      <th>3</th>\n",
       "      <td>0</td>\n",
       "      <td>y</td>\n",
       "      <td>4</td>\n",
       "    </tr>\n",
       "    <tr>\n",
       "      <th>4</th>\n",
       "      <td>1</td>\n",
       "      <td>y</td>\n",
       "      <td>5</td>\n",
       "    </tr>\n",
       "    <tr>\n",
       "      <th>5</th>\n",
       "      <td>2</td>\n",
       "      <td>y</td>\n",
       "      <td>6</td>\n",
       "    </tr>\n",
       "  </tbody>\n",
       "</table>\n",
       "</div>"
      ],
      "text/plain": [
       "   idx variable  value\n",
       "0    0        x      1\n",
       "1    1        x      2\n",
       "2    2        x      3\n",
       "3    0        y      4\n",
       "4    1        y      5\n",
       "5    2        y      6"
      ]
     },
     "execution_count": 20,
     "metadata": {},
     "output_type": "execute_result"
    }
   ],
   "source": [
    "df2 = df.copy()\n",
    "df2[\"idx\"] = df2.index\n",
    "df2.melt(id_vars=\"idx\", value_vars=[\"x\", \"y\"])"
   ]
  },
  {
   "cell_type": "markdown",
   "metadata": {},
   "source": [
    "これが、やりたいことと直感に一番合っていると思われる"
   ]
  }
 ],
 "metadata": {
  "kernelspec": {
   "display_name": "Python 3",
   "language": "python",
   "name": "python3"
  },
  "language_info": {
   "codemirror_mode": {
    "name": "ipython",
    "version": 3
   },
   "file_extension": ".py",
   "mimetype": "text/x-python",
   "name": "python",
   "nbconvert_exporter": "python",
   "pygments_lexer": "ipython3",
   "version": "3.7.6"
  }
 },
 "nbformat": 4,
 "nbformat_minor": 4
}
