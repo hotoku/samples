{
 "cells": [
  {
   "cell_type": "code",
   "execution_count": 1,
   "metadata": {
    "execution": {
     "iopub.execute_input": "2020-12-16T05:52:42.997074Z",
     "iopub.status.busy": "2020-12-16T05:52:42.996644Z",
     "iopub.status.idle": "2020-12-16T05:52:43.002664Z",
     "shell.execute_reply": "2020-12-16T05:52:43.001518Z",
     "shell.execute_reply.started": "2020-12-16T05:52:42.996973Z"
    },
    "tags": [
     "parameters"
    ]
   },
   "outputs": [],
   "source": [
    "X = 100\n",
    "S = \"abc\""
   ]
  },
  {
   "cell_type": "code",
   "execution_count": 2,
   "metadata": {
    "execution": {
     "iopub.execute_input": "2020-12-16T05:53:18.856832Z",
     "iopub.status.busy": "2020-12-16T05:53:18.856410Z",
     "iopub.status.idle": "2020-12-16T05:53:18.863506Z",
     "shell.execute_reply": "2020-12-16T05:53:18.862503Z",
     "shell.execute_reply.started": "2020-12-16T05:53:18.856784Z"
    }
   },
   "outputs": [
    {
     "name": "stdout",
     "output_type": "stream",
     "text": [
      "X=100, S=abc\n"
     ]
    }
   ],
   "source": [
    "print(f\"X={X}, S={S}\")"
   ]
  }
 ],
 "metadata": {
  "kernelspec": {
   "display_name": "Python 3",
   "language": "python",
   "name": "python3"
  },
  "language_info": {
   "codemirror_mode": {
    "name": "ipython",
    "version": 3
   },
   "file_extension": ".py",
   "mimetype": "text/x-python",
   "name": "python",
   "nbconvert_exporter": "python",
   "pygments_lexer": "ipython3",
   "version": "3.8.5"
  }
 },
 "nbformat": 4,
 "nbformat_minor": 4
}
