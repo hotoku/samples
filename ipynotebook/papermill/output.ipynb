{
 "cells": [
  {
   "cell_type": "code",
   "execution_count": 1,
   "metadata": {
    "execution": {
     "iopub.execute_input": "2020-12-16T05:56:15.465011Z",
     "iopub.status.busy": "2020-12-16T05:56:15.464381Z",
     "iopub.status.idle": "2020-12-16T05:56:15.467301Z",
     "shell.execute_reply": "2020-12-16T05:56:15.466586Z",
     "shell.execute_reply.started": "2020-12-16T05:52:42.996973Z"
    },
    "papermill": {
     "duration": 0.014738,
     "end_time": "2020-12-16T05:56:15.467500",
     "exception": false,
     "start_time": "2020-12-16T05:56:15.452762",
     "status": "completed"
    },
    "tags": [
     "parameters"
    ]
   },
   "outputs": [],
   "source": [
    "X = 100\n",
    "S = \"abc\""
   ]
  },
  {
   "cell_type": "code",
   "execution_count": 2,
   "metadata": {
    "execution": {
     "iopub.execute_input": "2020-12-16T05:56:15.476008Z",
     "iopub.status.busy": "2020-12-16T05:56:15.475517Z",
     "iopub.status.idle": "2020-12-16T05:56:15.477583Z",
     "shell.execute_reply": "2020-12-16T05:56:15.477090Z"
    },
    "papermill": {
     "duration": 0.007016,
     "end_time": "2020-12-16T05:56:15.477688",
     "exception": false,
     "start_time": "2020-12-16T05:56:15.470672",
     "status": "completed"
    },
    "tags": [
     "injected-parameters"
    ]
   },
   "outputs": [],
   "source": [
    "# Parameters\n",
    "X = 1000\n",
    "S = \"xyz\"\n"
   ]
  },
  {
   "cell_type": "code",
   "execution_count": 3,
   "metadata": {
    "execution": {
     "iopub.execute_input": "2020-12-16T05:56:15.485074Z",
     "iopub.status.busy": "2020-12-16T05:56:15.484649Z",
     "iopub.status.idle": "2020-12-16T05:56:15.487103Z",
     "shell.execute_reply": "2020-12-16T05:56:15.486678Z",
     "shell.execute_reply.started": "2020-12-16T05:53:18.856784Z"
    },
    "papermill": {
     "duration": 0.007024,
     "end_time": "2020-12-16T05:56:15.487195",
     "exception": false,
     "start_time": "2020-12-16T05:56:15.480171",
     "status": "completed"
    },
    "tags": []
   },
   "outputs": [
    {
     "name": "stdout",
     "output_type": "stream",
     "text": [
      "X=1000, S=xyz\n"
     ]
    }
   ],
   "source": [
    "print(f\"X={X}, S={S}\")"
   ]
  }
 ],
 "metadata": {
  "kernelspec": {
   "display_name": "Python 3",
   "language": "python",
   "name": "python3"
  },
  "language_info": {
   "codemirror_mode": {
    "name": "ipython",
    "version": 3
   },
   "file_extension": ".py",
   "mimetype": "text/x-python",
   "name": "python",
   "nbconvert_exporter": "python",
   "pygments_lexer": "ipython3",
   "version": "3.8.5"
  },
  "papermill": {
   "default_parameters": {},
   "duration": 1.127158,
   "end_time": "2020-12-16T05:56:15.698743",
   "environment_variables": {},
   "exception": null,
   "input_path": "./sample.ipynb",
   "output_path": "./output.ipynb",
   "parameters": {
    "S": "xyz",
    "X": 1000
   },
   "start_time": "2020-12-16T05:56:14.571585",
   "version": "2.2.2"
  }
 },
 "nbformat": 4,
 "nbformat_minor": 4
}