{
 "cells": [
  {
   "cell_type": "markdown",
   "metadata": {},
   "source": [
    "まずは基本的な使い方"
   ]
  },
  {
   "cell_type": "code",
   "execution_count": 1,
   "metadata": {},
   "outputs": [],
   "source": [
    "import sqlparse as sp"
   ]
  },
  {
   "cell_type": "code",
   "execution_count": 2,
   "metadata": {},
   "outputs": [],
   "source": [
    "sql = \"\"\"\n",
    "create or replace table `d.e.f`\n",
    "select\n",
    "*\n",
    "From\n",
    "  `a.b.c`;\n",
    "\n",
    "create or replace table `a.b.c`\n",
    "select\n",
    "*\n",
    "From\n",
    "  hoge\n",
    "\"\"\""
   ]
  },
  {
   "cell_type": "code",
   "execution_count": 3,
   "metadata": {},
   "outputs": [],
   "source": [
    "obj = sp.parse(sql)"
   ]
  },
  {
   "cell_type": "code",
   "execution_count": 4,
   "metadata": {},
   "outputs": [
    {
     "data": {
      "text/plain": [
       "tuple"
      ]
     },
     "execution_count": 4,
     "metadata": {},
     "output_type": "execute_result"
    }
   ],
   "source": [
    "type(obj)"
   ]
  },
  {
   "cell_type": "code",
   "execution_count": 5,
   "metadata": {},
   "outputs": [
    {
     "data": {
      "text/plain": [
       "2"
      ]
     },
     "execution_count": 5,
     "metadata": {},
     "output_type": "execute_result"
    }
   ],
   "source": [
    "len(obj)"
   ]
  },
  {
   "cell_type": "code",
   "execution_count": 6,
   "metadata": {},
   "outputs": [
    {
     "data": {
      "text/plain": [
       "<Statement ' creat...' at 0x1105C3570>"
      ]
     },
     "execution_count": 6,
     "metadata": {},
     "output_type": "execute_result"
    }
   ],
   "source": [
    "obj[0]"
   ]
  },
  {
   "cell_type": "code",
   "execution_count": 7,
   "metadata": {},
   "outputs": [
    {
     "data": {
      "text/plain": [
       "['__class__',\n",
       " '__delattr__',\n",
       " '__dict__',\n",
       " '__dir__',\n",
       " '__doc__',\n",
       " '__eq__',\n",
       " '__format__',\n",
       " '__ge__',\n",
       " '__getattribute__',\n",
       " '__getitem__',\n",
       " '__gt__',\n",
       " '__hash__',\n",
       " '__init__',\n",
       " '__init_subclass__',\n",
       " '__iter__',\n",
       " '__le__',\n",
       " '__lt__',\n",
       " '__module__',\n",
       " '__ne__',\n",
       " '__new__',\n",
       " '__reduce__',\n",
       " '__reduce_ex__',\n",
       " '__repr__',\n",
       " '__setattr__',\n",
       " '__sizeof__',\n",
       " '__slots__',\n",
       " '__str__',\n",
       " '__subclasshook__',\n",
       " '__weakref__',\n",
       " '_get_first_name',\n",
       " '_get_repr_name',\n",
       " '_get_repr_value',\n",
       " '_groupable_tokens',\n",
       " '_pprint_tree',\n",
       " '_token_matching',\n",
       " 'flatten',\n",
       " 'get_alias',\n",
       " 'get_name',\n",
       " 'get_parent_name',\n",
       " 'get_real_name',\n",
       " 'get_sublists',\n",
       " 'get_token_at_offset',\n",
       " 'get_type',\n",
       " 'group_tokens',\n",
       " 'has_alias',\n",
       " 'has_ancestor',\n",
       " 'insert_after',\n",
       " 'insert_before',\n",
       " 'is_child_of',\n",
       " 'is_group',\n",
       " 'is_keyword',\n",
       " 'is_whitespace',\n",
       " 'match',\n",
       " 'normalized',\n",
       " 'parent',\n",
       " 'token_first',\n",
       " 'token_index',\n",
       " 'token_matching',\n",
       " 'token_next',\n",
       " 'token_next_by',\n",
       " 'token_not_matching',\n",
       " 'token_prev',\n",
       " 'tokens',\n",
       " 'ttype',\n",
       " 'value',\n",
       " 'within']"
      ]
     },
     "execution_count": 7,
     "metadata": {},
     "output_type": "execute_result"
    }
   ],
   "source": [
    "stm = obj[0]\n",
    "dir(stm)"
   ]
  },
  {
   "cell_type": "code",
   "execution_count": 8,
   "metadata": {},
   "outputs": [
    {
     "data": {
      "text/plain": [
       "[<Newline ' ' at 0x1103BD948>,\n",
       " <DDL 'create...' at 0x1105C4D68>,\n",
       " <Whitespace ' ' at 0x1105C4DC8>,\n",
       " <Keyword 'table' at 0x1105C4E28>,\n",
       " <Whitespace ' ' at 0x1105C4E88>,\n",
       " <Identifier '`d.e.f`' at 0x1105C3660>,\n",
       " <Newline ' ' at 0x1105C4F48>,\n",
       " <DML 'select' at 0x1105C4FA8>,\n",
       " <Newline ' ' at 0x1105F2048>,\n",
       " <Wildcard '*' at 0x1105F20A8>,\n",
       " <Newline ' ' at 0x1105F2108>,\n",
       " <Keyword 'From' at 0x1105F2168>,\n",
       " <Newline ' ' at 0x1105F21C8>,\n",
       " <Whitespace ' ' at 0x1105F2228>,\n",
       " <Whitespace ' ' at 0x1105F2288>,\n",
       " <Identifier '`a.b.c`' at 0x1105C36D8>,\n",
       " <Punctuation ';' at 0x1105F2348>]"
      ]
     },
     "execution_count": 8,
     "metadata": {},
     "output_type": "execute_result"
    }
   ],
   "source": [
    "stm.tokens"
   ]
  },
  {
   "cell_type": "code",
   "execution_count": 9,
   "metadata": {},
   "outputs": [],
   "source": [
    "table = stm.tokens[3]"
   ]
  },
  {
   "cell_type": "code",
   "execution_count": 10,
   "metadata": {},
   "outputs": [
    {
     "data": {
      "text/plain": [
       "'table'"
      ]
     },
     "execution_count": 10,
     "metadata": {},
     "output_type": "execute_result"
    }
   ],
   "source": [
    "table.value"
   ]
  },
  {
   "cell_type": "code",
   "execution_count": 15,
   "metadata": {},
   "outputs": [
    {
     "data": {
      "text/plain": [
       "Token.Keyword"
      ]
     },
     "execution_count": 15,
     "metadata": {},
     "output_type": "execute_result"
    }
   ],
   "source": [
    "table.ttype"
   ]
  }
 ],
 "metadata": {
  "kernelspec": {
   "display_name": "Python 3",
   "language": "python",
   "name": "python3"
  },
  "language_info": {
   "codemirror_mode": {
    "name": "ipython",
    "version": 3
   },
   "file_extension": ".py",
   "mimetype": "text/x-python",
   "name": "python",
   "nbconvert_exporter": "python",
   "pygments_lexer": "ipython3",
   "version": "3.7.4"
  }
 },
 "nbformat": 4,
 "nbformat_minor": 4
}
