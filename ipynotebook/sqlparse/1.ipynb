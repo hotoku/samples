{
 "cells": [
  {
   "cell_type": "markdown",
   "metadata": {},
   "source": [
    "まずは基本的な使い方"
   ]
  },
  {
   "cell_type": "code",
   "execution_count": 60,
   "metadata": {},
   "outputs": [],
   "source": [
    "import sqlparse as sp"
   ]
  },
  {
   "cell_type": "code",
   "execution_count": 67,
   "metadata": {},
   "outputs": [],
   "source": [
    "sql = \"\"\"\n",
    "create or replace table `d.e.f`\n",
    "select\n",
    "*\n",
    "From\n",
    "  `a.b.c`;\n",
    "\n",
    "create or replace table `a.b.c`\n",
    "select\n",
    "*\n",
    "From\n",
    "  hoge\n",
    "\"\"\""
   ]
  },
  {
   "cell_type": "code",
   "execution_count": 68,
   "metadata": {},
   "outputs": [],
   "source": [
    "obj = sp.parse(sql)"
   ]
  },
  {
   "cell_type": "code",
   "execution_count": 69,
   "metadata": {},
   "outputs": [
    {
     "data": {
      "text/plain": [
       "tuple"
      ]
     },
     "execution_count": 69,
     "metadata": {},
     "output_type": "execute_result"
    }
   ],
   "source": [
    "type(obj)"
   ]
  },
  {
   "cell_type": "code",
   "execution_count": 70,
   "metadata": {},
   "outputs": [
    {
     "data": {
      "text/plain": [
       "2"
      ]
     },
     "execution_count": 70,
     "metadata": {},
     "output_type": "execute_result"
    }
   ],
   "source": [
    "len(obj)"
   ]
  },
  {
   "cell_type": "code",
   "execution_count": 71,
   "metadata": {},
   "outputs": [
    {
     "data": {
      "text/plain": [
       "<Statement ' creat...' at 0x10CBD00C0>"
      ]
     },
     "execution_count": 71,
     "metadata": {},
     "output_type": "execute_result"
    }
   ],
   "source": [
    "obj[0]"
   ]
  },
  {
   "cell_type": "code",
   "execution_count": 72,
   "metadata": {},
   "outputs": [
    {
     "data": {
      "text/plain": [
       "['__class__',\n",
       " '__delattr__',\n",
       " '__dict__',\n",
       " '__dir__',\n",
       " '__doc__',\n",
       " '__eq__',\n",
       " '__format__',\n",
       " '__ge__',\n",
       " '__getattribute__',\n",
       " '__getitem__',\n",
       " '__gt__',\n",
       " '__hash__',\n",
       " '__init__',\n",
       " '__init_subclass__',\n",
       " '__iter__',\n",
       " '__le__',\n",
       " '__lt__',\n",
       " '__module__',\n",
       " '__ne__',\n",
       " '__new__',\n",
       " '__reduce__',\n",
       " '__reduce_ex__',\n",
       " '__repr__',\n",
       " '__setattr__',\n",
       " '__sizeof__',\n",
       " '__slots__',\n",
       " '__str__',\n",
       " '__subclasshook__',\n",
       " '__weakref__',\n",
       " '_get_first_name',\n",
       " '_get_repr_name',\n",
       " '_get_repr_value',\n",
       " '_groupable_tokens',\n",
       " '_pprint_tree',\n",
       " '_token_matching',\n",
       " 'flatten',\n",
       " 'get_alias',\n",
       " 'get_name',\n",
       " 'get_parent_name',\n",
       " 'get_real_name',\n",
       " 'get_sublists',\n",
       " 'get_token_at_offset',\n",
       " 'get_type',\n",
       " 'group_tokens',\n",
       " 'has_alias',\n",
       " 'has_ancestor',\n",
       " 'insert_after',\n",
       " 'insert_before',\n",
       " 'is_child_of',\n",
       " 'is_group',\n",
       " 'is_keyword',\n",
       " 'is_whitespace',\n",
       " 'match',\n",
       " 'normalized',\n",
       " 'parent',\n",
       " 'token_first',\n",
       " 'token_index',\n",
       " 'token_matching',\n",
       " 'token_next',\n",
       " 'token_next_by',\n",
       " 'token_not_matching',\n",
       " 'token_prev',\n",
       " 'tokens',\n",
       " 'ttype',\n",
       " 'value',\n",
       " 'within']"
      ]
     },
     "execution_count": 72,
     "metadata": {},
     "output_type": "execute_result"
    }
   ],
   "source": [
    "stm = obj[0]\n",
    "dir(stm)"
   ]
  },
  {
   "cell_type": "code",
   "execution_count": 73,
   "metadata": {},
   "outputs": [
    {
     "data": {
      "text/plain": [
       "[<Newline ' ' at 0x10CBBEAC8>,\n",
       " <DDL 'create...' at 0x10CBE7B28>,\n",
       " <Whitespace ' ' at 0x10CBE74C8>,\n",
       " <Keyword 'table' at 0x10CBE7BE8>,\n",
       " <Whitespace ' ' at 0x10CBE7C48>,\n",
       " <Identifier '`d.e.f`' at 0x10CBD07C8>,\n",
       " <Newline ' ' at 0x10CBE7D08>,\n",
       " <DML 'select' at 0x10CBE7D68>,\n",
       " <Newline ' ' at 0x10CBE7DC8>,\n",
       " <Wildcard '*' at 0x10CBE7E28>,\n",
       " <Newline ' ' at 0x10CBE7E88>,\n",
       " <Keyword 'From' at 0x10CBE7EE8>,\n",
       " <Newline ' ' at 0x10CBE7F48>,\n",
       " <Whitespace ' ' at 0x10CBE7FA8>,\n",
       " <Whitespace ' ' at 0x10CBF7048>,\n",
       " <Identifier '`a.b.c`' at 0x10CBD0840>,\n",
       " <Punctuation ';' at 0x10CBF7108>]"
      ]
     },
     "execution_count": 73,
     "metadata": {},
     "output_type": "execute_result"
    }
   ],
   "source": [
    "stm.tokens"
   ]
  },
  {
   "cell_type": "code",
   "execution_count": 74,
   "metadata": {},
   "outputs": [],
   "source": [
    "table = stm.tokens[3]"
   ]
  },
  {
   "cell_type": "code",
   "execution_count": 79,
   "metadata": {},
   "outputs": [
    {
     "data": {
      "text/plain": [
       "'table'"
      ]
     },
     "execution_count": 79,
     "metadata": {},
     "output_type": "execute_result"
    }
   ],
   "source": [
    "table.value"
   ]
  }
 ],
 "metadata": {
  "kernelspec": {
   "display_name": "Python 3",
   "language": "python",
   "name": "python3"
  },
  "language_info": {
   "codemirror_mode": {
    "name": "ipython",
    "version": 3
   },
   "file_extension": ".py",
   "mimetype": "text/x-python",
   "name": "python",
   "nbconvert_exporter": "python",
   "pygments_lexer": "ipython3",
   "version": "3.7.3"
  }
 },
 "nbformat": 4,
 "nbformat_minor": 4
}
