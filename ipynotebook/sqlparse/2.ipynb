{
 "cells": [
  {
   "cell_type": "markdown",
   "metadata": {},
   "source": [
    "classとttypeの確認。"
   ]
  },
  {
   "cell_type": "code",
   "execution_count": 1,
   "metadata": {},
   "outputs": [],
   "source": [
    "import sqlparse as sp"
   ]
  },
  {
   "cell_type": "code",
   "execution_count": 21,
   "metadata": {},
   "outputs": [],
   "source": [
    "sql = \"\"\"\n",
    "create or replace table `d.e.f`\n",
    "select\n",
    "*\n",
    "From\n",
    "  `a.b.c`\n",
    "where\n",
    "  x=y and x=z\n",
    ";\n",
    "\n",
    "create or replace table `a.b.c`\n",
    "select\n",
    "*\n",
    "From\n",
    "  hoge\n",
    "\"\"\""
   ]
  },
  {
   "cell_type": "code",
   "execution_count": 22,
   "metadata": {},
   "outputs": [],
   "source": [
    "sts = sp.parse(sql)"
   ]
  },
  {
   "cell_type": "code",
   "execution_count": 23,
   "metadata": {
    "jupyter": {
     "source_hidden": true
    }
   },
   "outputs": [],
   "source": [
    "st = sts[0]"
   ]
  },
  {
   "cell_type": "code",
   "execution_count": 24,
   "metadata": {},
   "outputs": [
    {
     "data": {
      "text/plain": [
       "sqlparse.sql.Statement"
      ]
     },
     "execution_count": 24,
     "metadata": {},
     "output_type": "execute_result"
    }
   ],
   "source": [
    "type(st)"
   ]
  },
  {
   "cell_type": "code",
   "execution_count": 25,
   "metadata": {},
   "outputs": [
    {
     "name": "stdout",
     "output_type": "stream",
     "text": [
      "<class 'sqlparse.sql.Token'> : Token.Text.Whitespace.Newline : \n",
      "\n",
      "<class 'sqlparse.sql.Token'> : Token.Keyword.DDL : create or replace\n",
      "<class 'sqlparse.sql.Token'> : Token.Text.Whitespace :  \n",
      "<class 'sqlparse.sql.Token'> : Token.Keyword : table\n",
      "<class 'sqlparse.sql.Token'> : Token.Text.Whitespace :  \n",
      "<class 'sqlparse.sql.Identifier'> : None : `d.e.f`\n",
      "<class 'sqlparse.sql.Token'> : Token.Text.Whitespace.Newline : \n",
      "\n",
      "<class 'sqlparse.sql.Token'> : Token.Keyword.DML : select\n",
      "<class 'sqlparse.sql.Token'> : Token.Text.Whitespace.Newline : \n",
      "\n",
      "<class 'sqlparse.sql.Token'> : Token.Wildcard : *\n",
      "<class 'sqlparse.sql.Token'> : Token.Text.Whitespace.Newline : \n",
      "\n",
      "<class 'sqlparse.sql.Token'> : Token.Keyword : From\n",
      "<class 'sqlparse.sql.Token'> : Token.Text.Whitespace.Newline : \n",
      "\n",
      "<class 'sqlparse.sql.Token'> : Token.Text.Whitespace :  \n",
      "<class 'sqlparse.sql.Token'> : Token.Text.Whitespace :  \n",
      "<class 'sqlparse.sql.Identifier'> : None : `a.b.c`\n",
      "<class 'sqlparse.sql.Token'> : Token.Text.Whitespace.Newline : \n",
      "\n",
      "<class 'sqlparse.sql.Where'> : None : where\n",
      "  x=y and x=z\n",
      ";\n"
     ]
    }
   ],
   "source": [
    "for t in st:\n",
    "    print(type(t), \":\", t.ttype, \":\", t.value)"
   ]
  },
  {
   "cell_type": "code",
   "execution_count": 27,
   "metadata": {},
   "outputs": [
    {
     "name": "stdout",
     "output_type": "stream",
     "text": [
      "<class 'sqlparse.sql.Token'> : Token.Keyword : where\n",
      "<class 'sqlparse.sql.Token'> : Token.Text.Whitespace.Newline : \n",
      "\n",
      "<class 'sqlparse.sql.Token'> : Token.Text.Whitespace :  \n",
      "<class 'sqlparse.sql.Token'> : Token.Text.Whitespace :  \n",
      "<class 'sqlparse.sql.Comparison'> : None : x=y\n",
      "<class 'sqlparse.sql.Token'> : Token.Text.Whitespace :  \n",
      "<class 'sqlparse.sql.Token'> : Token.Keyword : and\n",
      "<class 'sqlparse.sql.Token'> : Token.Text.Whitespace :  \n",
      "<class 'sqlparse.sql.Comparison'> : None : x=z\n",
      "<class 'sqlparse.sql.Token'> : Token.Text.Whitespace.Newline : \n",
      "\n",
      "<class 'sqlparse.sql.Token'> : Token.Punctuation : ;\n"
     ]
    }
   ],
   "source": [
    "for t in st[-1]:\n",
    "    print(type(t), \":\", t.ttype, \":\", t.value)"
   ]
  }
 ],
 "metadata": {
  "kernelspec": {
   "display_name": "Python 3",
   "language": "python",
   "name": "python3"
  },
  "language_info": {
   "codemirror_mode": {
    "name": "ipython",
    "version": 3
   },
   "file_extension": ".py",
   "mimetype": "text/x-python",
   "name": "python",
   "nbconvert_exporter": "python",
   "pygments_lexer": "ipython3",
   "version": "3.7.4"
  }
 },
 "nbformat": 4,
 "nbformat_minor": 4
}
