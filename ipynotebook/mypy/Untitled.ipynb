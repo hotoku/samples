{
 "cells": [
  {
   "cell_type": "code",
   "execution_count": 1,
   "id": "durable-subcommittee",
   "metadata": {},
   "outputs": [],
   "source": [
    "x = 1"
   ]
  },
  {
   "cell_type": "code",
   "execution_count": null,
   "id": "outstanding-connectivity",
   "metadata": {},
   "outputs": [],
   "source": [
    "y = 2"
   ]
  },
  {
   "cell_type": "code",
   "execution_count": 4,
   "id": "architectural-cruise",
   "metadata": {},
   "outputs": [],
   "source": [
    "from notebook.config_manager import BaseJSONConfigManager"
   ]
  },
  {
   "cell_type": "code",
   "execution_count": 5,
   "id": "optimum-briefing",
   "metadata": {},
   "outputs": [],
   "source": [
    "cm = BaseJSONConfigManager(parent=None, config_dir=\"/Users/hotoku/.jupyter\")"
   ]
  },
  {
   "cell_type": "code",
   "execution_count": 7,
   "id": "quarterly-diving",
   "metadata": {},
   "outputs": [
    {
     "data": {
      "text/plain": [
       "['__class__',\n",
       " '__delattr__',\n",
       " '__dict__',\n",
       " '__dir__',\n",
       " '__doc__',\n",
       " '__eq__',\n",
       " '__format__',\n",
       " '__ge__',\n",
       " '__getattribute__',\n",
       " '__getstate__',\n",
       " '__gt__',\n",
       " '__hash__',\n",
       " '__init__',\n",
       " '__init_subclass__',\n",
       " '__le__',\n",
       " '__lt__',\n",
       " '__module__',\n",
       " '__ne__',\n",
       " '__new__',\n",
       " '__reduce__',\n",
       " '__reduce_ex__',\n",
       " '__repr__',\n",
       " '__setattr__',\n",
       " '__setstate__',\n",
       " '__sizeof__',\n",
       " '__str__',\n",
       " '__subclasshook__',\n",
       " '__weakref__',\n",
       " '_add_notifiers',\n",
       " '_config_changed',\n",
       " '_cross_validation_lock',\n",
       " '_defining_class',\n",
       " '_find_my_config',\n",
       " '_get_log_handler',\n",
       " '_get_trait_default_generator',\n",
       " '_load_config',\n",
       " '_log_default',\n",
       " '_notify_observers',\n",
       " '_notify_trait',\n",
       " '_register_validator',\n",
       " '_remove_notifiers',\n",
       " '_trait_default_generators',\n",
       " '_trait_notifiers',\n",
       " '_trait_validators',\n",
       " '_trait_values',\n",
       " '_validate_log',\n",
       " 'add_traits',\n",
       " 'class_config_rst_doc',\n",
       " 'class_config_section',\n",
       " 'class_get_help',\n",
       " 'class_get_trait_help',\n",
       " 'class_own_trait_events',\n",
       " 'class_own_traits',\n",
       " 'class_print_help',\n",
       " 'class_trait_names',\n",
       " 'class_traits',\n",
       " 'config',\n",
       " 'config_dir',\n",
       " 'cross_validation_lock',\n",
       " 'directory',\n",
       " 'ensure_config_dir_exists',\n",
       " 'file_name',\n",
       " 'get',\n",
       " 'has_trait',\n",
       " 'hold_trait_notifications',\n",
       " 'log',\n",
       " 'notify_change',\n",
       " 'observe',\n",
       " 'on_trait_change',\n",
       " 'parent',\n",
       " 'read_directory',\n",
       " 'section_names',\n",
       " 'set',\n",
       " 'set_trait',\n",
       " 'setup_instance',\n",
       " 'trait_defaults',\n",
       " 'trait_events',\n",
       " 'trait_has_value',\n",
       " 'trait_metadata',\n",
       " 'trait_names',\n",
       " 'trait_values',\n",
       " 'traits',\n",
       " 'unobserve',\n",
       " 'unobserve_all',\n",
       " 'update',\n",
       " 'update_config']"
      ]
     },
     "execution_count": 7,
     "metadata": {},
     "output_type": "execute_result"
    }
   ],
   "source": [
    "dir(cm)"
   ]
  },
  {
   "cell_type": "code",
   "execution_count": 9,
   "id": "polar-auction",
   "metadata": {},
   "outputs": [
    {
     "ename": "TypeError",
     "evalue": "get() missing 1 required positional argument: 'section_name'",
     "output_type": "error",
     "traceback": [
      "\u001b[0;31m---------------------------------------------------------------------------\u001b[0m",
      "\u001b[0;31mTypeError\u001b[0m                                 Traceback (most recent call last)",
      "\u001b[0;32m<ipython-input-9-a118229e4250>\u001b[0m in \u001b[0;36m<module>\u001b[0;34m\u001b[0m\n\u001b[0;32m----> 1\u001b[0;31m \u001b[0mcm\u001b[0m\u001b[0;34m.\u001b[0m\u001b[0mget\u001b[0m\u001b[0;34m(\u001b[0m\u001b[0;34m)\u001b[0m\u001b[0;34m\u001b[0m\u001b[0;34m\u001b[0m\u001b[0m\n\u001b[0m",
      "\u001b[0;31mTypeError\u001b[0m: get() missing 1 required positional argument: 'section_name'"
     ]
    }
   ],
   "source": [
    "cm.get()"
   ]
  }
 ],
 "metadata": {
  "kernelspec": {
   "display_name": "Python 3",
   "language": "python",
   "name": "python3"
  },
  "language_info": {
   "codemirror_mode": {
    "name": "ipython",
    "version": 3
   },
   "file_extension": ".py",
   "mimetype": "text/x-python",
   "name": "python",
   "nbconvert_exporter": "python",
   "pygments_lexer": "ipython3",
   "version": "3.9.1"
  }
 },
 "nbformat": 4,
 "nbformat_minor": 5
}
