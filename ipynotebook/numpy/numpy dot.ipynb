{
 "cells": [
  {
   "cell_type": "code",
   "execution_count": 3,
   "metadata": {},
   "outputs": [],
   "source": [
    "import numpy as np"
   ]
  },
  {
   "cell_type": "code",
   "execution_count": 3,
   "metadata": {},
   "outputs": [
    {
     "name": "stdout",
     "output_type": "stream",
     "text": [
      "[[0 1]\n",
      " [2 3]]\n"
     ]
    }
   ],
   "source": [
    "x = np.arange(4).reshape((-1,2))\n",
    "print(x)"
   ]
  },
  {
   "cell_type": "code",
   "execution_count": 4,
   "metadata": {},
   "outputs": [
    {
     "name": "stdout",
     "output_type": "stream",
     "text": [
      "[0 1]\n"
     ]
    }
   ],
   "source": [
    "a = np.arange(2)\n",
    "print(a)"
   ]
  },
  {
   "cell_type": "code",
   "execution_count": 6,
   "metadata": {},
   "outputs": [
    {
     "name": "stdout",
     "output_type": "stream",
     "text": [
      "[1 3]\n",
      "(2,)\n"
     ]
    }
   ],
   "source": [
    "y = np.dot(x, a)\n",
    "print(y)\n",
    "print(y.shape)"
   ]
  },
  {
   "cell_type": "markdown",
   "metadata": {},
   "source": [
    "aは、縦ベクトルとみなされる。自然な挙動"
   ]
  },
  {
   "cell_type": "markdown",
   "metadata": {},
   "source": [
    "いつも縦ベクトルとみなされると思っているとハマる例"
   ]
  },
  {
   "cell_type": "code",
   "execution_count": 12,
   "metadata": {},
   "outputs": [
    {
     "name": "stdout",
     "output_type": "stream",
     "text": [
      "[[1.63649252]\n",
      " [0.81033067]]\n",
      "(2, 1)\n"
     ]
    }
   ],
   "source": [
    "z = np.random.randn(2,1)\n",
    "print(z)\n",
    "print(z.shape)"
   ]
  },
  {
   "cell_type": "code",
   "execution_count": 13,
   "metadata": {},
   "outputs": [
    {
     "name": "stdout",
     "output_type": "stream",
     "text": [
      "[[2.63649252 4.63649252]\n",
      " [1.81033067 3.81033067]]\n"
     ]
    }
   ],
   "source": [
    "print(y+z)"
   ]
  },
  {
   "cell_type": "markdown",
   "metadata": {},
   "source": [
    "(2,)の形と(2,1)の形のベクトルを足すと、ブロードキャストのせいで変なことになる。"
   ]
  },
  {
   "cell_type": "code",
   "execution_count": 14,
   "metadata": {},
   "outputs": [
    {
     "name": "stdout",
     "output_type": "stream",
     "text": [
      "[[2.63649252 4.63649252]\n",
      " [1.81033067 3.81033067]]\n"
     ]
    }
   ],
   "source": [
    "print(z+y)"
   ]
  },
  {
   "cell_type": "markdown",
   "metadata": {},
   "source": [
    "ブロードキャストの一般的なルールが分からないな・・・"
   ]
  },
  {
   "cell_type": "markdown",
   "metadata": {},
   "source": [
    "# 軸方向にdotをかける"
   ]
  },
  {
   "cell_type": "code",
   "execution_count": 11,
   "metadata": {},
   "outputs": [
    {
     "name": "stdout",
     "output_type": "stream",
     "text": [
      "[[[ 0  1  2  3]\n",
      "  [ 4  5  6  7]\n",
      "  [ 8  9 10 11]]\n",
      "\n",
      " [[12 13 14 15]\n",
      "  [16 17 18 19]\n",
      "  [20 21 22 23]]]\n"
     ]
    }
   ],
   "source": [
    "x = np.arange(2*3*4).reshape((2,3,4))\n",
    "print(x)"
   ]
  },
  {
   "cell_type": "code",
   "execution_count": 12,
   "metadata": {},
   "outputs": [
    {
     "name": "stdout",
     "output_type": "stream",
     "text": [
      "[[ 0  1]\n",
      " [ 2  3]\n",
      " [ 4  5]\n",
      " [ 6  7]\n",
      " [ 8  9]\n",
      " [10 11]\n",
      " [12 13]\n",
      " [14 15]\n",
      " [16 17]\n",
      " [18 19]]\n"
     ]
    }
   ],
   "source": [
    "y = np.arange(2*10).reshape((10,2))\n",
    "print(y)"
   ]
  },
  {
   "cell_type": "code",
   "execution_count": 14,
   "metadata": {},
   "outputs": [
    {
     "ename": "ValueError",
     "evalue": "shapes (2,3,4) and (10,2) not aligned: 4 (dim 2) != 10 (dim 0)",
     "output_type": "error",
     "traceback": [
      "\u001b[0;31m---------------------------------------------------------------------------\u001b[0m",
      "\u001b[0;31mValueError\u001b[0m                                Traceback (most recent call last)",
      "\u001b[0;32m<ipython-input-14-c3a58f1d73f8>\u001b[0m in \u001b[0;36m<module>\u001b[0;34m\u001b[0m\n\u001b[0;32m----> 1\u001b[0;31m \u001b[0mnp\u001b[0m\u001b[0;34m.\u001b[0m\u001b[0mdot\u001b[0m\u001b[0;34m(\u001b[0m\u001b[0mx\u001b[0m\u001b[0;34m,\u001b[0m \u001b[0my\u001b[0m\u001b[0;34m)\u001b[0m\u001b[0;34m\u001b[0m\u001b[0;34m\u001b[0m\u001b[0m\n\u001b[0m",
      "\u001b[0;31mValueError\u001b[0m: shapes (2,3,4) and (10,2) not aligned: 4 (dim 2) != 10 (dim 0)"
     ]
    }
   ],
   "source": [
    "np.dot(x, y)"
   ]
  },
  {
   "cell_type": "markdown",
   "metadata": {},
   "source": [
    "デフォルトでは、一番最後の軸 x 一番最初の軸 に沿って積和をとる。行列の積を考えると自然な定義。デフォルトでは、というか、軸を指定する方法はnp.dotには無いのでtensordotを使う。\n",
    "\n",
    "https://docs.scipy.org/doc/numpy/reference/generated/numpy.tensordot.html#numpy.tensordot"
   ]
  },
  {
   "cell_type": "code",
   "execution_count": 19,
   "metadata": {},
   "outputs": [
    {
     "name": "stdout",
     "output_type": "stream",
     "text": [
      "[[[ 12  36  60  84 108 132 156 180 204 228]\n",
      "  [ 13  41  69  97 125 153 181 209 237 265]\n",
      "  [ 14  46  78 110 142 174 206 238 270 302]\n",
      "  [ 15  51  87 123 159 195 231 267 303 339]]\n",
      "\n",
      " [[ 16  56  96 136 176 216 256 296 336 376]\n",
      "  [ 17  61 105 149 193 237 281 325 369 413]\n",
      "  [ 18  66 114 162 210 258 306 354 402 450]\n",
      "  [ 19  71 123 175 227 279 331 383 435 487]]\n",
      "\n",
      " [[ 20  76 132 188 244 300 356 412 468 524]\n",
      "  [ 21  81 141 201 261 321 381 441 501 561]\n",
      "  [ 22  86 150 214 278 342 406 470 534 598]\n",
      "  [ 23  91 159 227 295 363 431 499 567 635]]]\n"
     ]
    }
   ],
   "source": [
    "z = np.tensordot(x, y, (0, 1))\n",
    "print(z)"
   ]
  },
  {
   "cell_type": "code",
   "execution_count": 20,
   "metadata": {},
   "outputs": [
    {
     "name": "stdout",
     "output_type": "stream",
     "text": [
      "(3, 4, 10)\n"
     ]
    }
   ],
   "source": [
    "print(z.shape)"
   ]
  }
 ],
 "metadata": {
  "anaconda-cloud": {},
  "kernelspec": {
   "display_name": "Python 3",
   "language": "python",
   "name": "python3"
  },
  "language_info": {
   "codemirror_mode": {
    "name": "ipython",
    "version": 3
   },
   "file_extension": ".py",
   "mimetype": "text/x-python",
   "name": "python",
   "nbconvert_exporter": "python",
   "pygments_lexer": "ipython3",
   "version": "3.6.8"
  }
 },
 "nbformat": 4,
 "nbformat_minor": 1
}
