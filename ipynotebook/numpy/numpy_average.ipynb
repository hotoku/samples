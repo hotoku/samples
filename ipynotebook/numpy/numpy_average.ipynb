{
 "cells": [
  {
   "cell_type": "code",
   "execution_count": 4,
   "metadata": {
    "collapsed": false
   },
   "outputs": [
    {
     "name": "stdout",
     "output_type": "stream",
     "text": [
      "[[[ 8.96223498e-01 -1.35172823e+00  9.00560771e-01 -5.68712228e-01]\n",
      "  [-1.07189712e+00 -5.58557713e-01  6.16530437e-01  5.99582668e-01]\n",
      "  [-1.06811246e+00  7.41180986e-01 -4.14372615e-04 -1.16513892e+00]]\n",
      "\n",
      " [[-2.89017624e-01  1.09436198e-01  1.93610925e+00 -1.74516059e+00]\n",
      "  [-4.48094210e-01  1.52515410e+00  3.18480346e+00  1.47172248e+00]\n",
      "  [ 7.07353876e-01 -2.00333833e+00  2.19711054e-01 -1.38384148e-01]]]\n",
      "0.10415886879542184\n"
     ]
    }
   ],
   "source": [
    "import numpy as np\n",
    "x = np.random.randn(2,3,4)\n",
    "print(x)\n",
    "print(np.average(x))"
   ]
  },
  {
   "cell_type": "code",
   "execution_count": null,
   "metadata": {
    "collapsed": true
   },
   "outputs": [],
   "source": []
  }
 ],
 "metadata": {
  "kernelspec": {
   "display_name": "Python [Root]",
   "language": "python",
   "name": "Python [Root]"
  },
  "language_info": {
   "codemirror_mode": {
    "name": "ipython",
    "version": 3
   },
   "file_extension": ".py",
   "mimetype": "text/x-python",
   "name": "python",
   "nbconvert_exporter": "python",
   "pygments_lexer": "ipython3",
   "version": "3.5.2"
  }
 },
 "nbformat": 4,
 "nbformat_minor": 0
}
