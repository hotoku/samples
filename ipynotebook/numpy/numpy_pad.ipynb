{
 "cells": [
  {
   "cell_type": "code",
   "execution_count": 1,
   "metadata": {},
   "outputs": [],
   "source": [
    "import numpy as np"
   ]
  },
  {
   "cell_type": "code",
   "execution_count": 2,
   "metadata": {},
   "outputs": [],
   "source": [
    "x = np.random.randn(3,3)"
   ]
  },
  {
   "cell_type": "code",
   "execution_count": 3,
   "metadata": {},
   "outputs": [
    {
     "name": "stdout",
     "output_type": "stream",
     "text": [
      "[[-0.52300258 -0.9665125  -0.51508444]\n",
      " [ 1.46504742  1.35774671  0.9556658 ]\n",
      " [ 0.55646023 -0.88865311 -0.55548743]]\n"
     ]
    }
   ],
   "source": [
    "print(x)"
   ]
  },
  {
   "cell_type": "code",
   "execution_count": 8,
   "metadata": {},
   "outputs": [
    {
     "name": "stdout",
     "output_type": "stream",
     "text": [
      "[[ 1.          1.          1.        ]\n",
      " [-0.52300258 -0.9665125  -0.51508444]\n",
      " [ 1.46504742  1.35774671  0.9556658 ]\n",
      " [ 0.55646023 -0.88865311 -0.55548743]\n",
      " [ 2.          2.          2.        ]\n",
      " [ 2.          2.          2.        ]]\n"
     ]
    }
   ],
   "source": [
    "print(np.pad(x, ((1,2),(0,0)), \"constant\", constant_values=(1,2)))"
   ]
  },
  {
   "cell_type": "code",
   "execution_count": 10,
   "metadata": {},
   "outputs": [
    {
     "name": "stdout",
     "output_type": "stream",
     "text": [
      "[[ 2.          1.          1.          1.        ]\n",
      " [ 2.         -0.52300258 -0.9665125  -0.51508444]\n",
      " [ 2.          1.46504742  1.35774671  0.9556658 ]\n",
      " [ 2.          0.55646023 -0.88865311 -0.55548743]]\n"
     ]
    }
   ],
   "source": [
    "print(np.pad(x, ((1,0),(1,0)), \"constant\", constant_values=((1,0),(2,0))))"
   ]
  },
  {
   "cell_type": "code",
   "execution_count": null,
   "metadata": {},
   "outputs": [],
   "source": []
  }
 ],
 "metadata": {
  "kernelspec": {
   "display_name": "Python 3",
   "language": "python",
   "name": "python3"
  },
  "language_info": {
   "codemirror_mode": {
    "name": "ipython",
    "version": 3
   },
   "file_extension": ".py",
   "mimetype": "text/x-python",
   "name": "python",
   "nbconvert_exporter": "python",
   "pygments_lexer": "ipython3",
   "version": "3.6.4"
  }
 },
 "nbformat": 4,
 "nbformat_minor": 2
}
