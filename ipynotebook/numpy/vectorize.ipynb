{
 "cells": [
  {
   "cell_type": "code",
   "execution_count": 1,
   "metadata": {},
   "outputs": [],
   "source": [
    "import numpy as np\n",
    "import itertools"
   ]
  },
  {
   "cell_type": "code",
   "execution_count": 2,
   "metadata": {},
   "outputs": [],
   "source": [
    "def diffsize(x, y):\n",
    "    return np.sqrt(np.sum((x-y)**2))\n",
    "\n",
    "vdiffsize = np.vectorize(diffsize, signature=\"(n),(n)->()\")"
   ]
  },
  {
   "cell_type": "code",
   "execution_count": 3,
   "metadata": {},
   "outputs": [],
   "source": [
    "x = np.random.rand(10, 3)\n",
    "y = np.random.rand(10, 3)"
   ]
  },
  {
   "cell_type": "code",
   "execution_count": 4,
   "metadata": {},
   "outputs": [
    {
     "name": "stdout",
     "output_type": "stream",
     "text": [
      "0.7528007709107929\n",
      "0.6081202249332686\n",
      "0.9191688870519302\n",
      "0.9139800957957566\n",
      "0.3553731264452894\n",
      "0.6130580069891284\n",
      "0.8311462675137394\n",
      "0.6735201803021905\n",
      "0.5939851019640897\n",
      "1.047918762185776\n"
     ]
    }
   ],
   "source": [
    "for i in range(x.shape[0]):\n",
    "    print(diffsize(x[i,:], y[i,:]))"
   ]
  },
  {
   "cell_type": "code",
   "execution_count": 5,
   "metadata": {},
   "outputs": [
    {
     "data": {
      "text/plain": [
       "array([0.75280077, 0.60812022, 0.91916889, 0.9139801 , 0.35537313,\n",
       "       0.61305801, 0.83114627, 0.67352018, 0.5939851 , 1.04791876])"
      ]
     },
     "execution_count": 5,
     "metadata": {},
     "output_type": "execute_result"
    }
   ],
   "source": [
    "vdiffsize(x,y)"
   ]
  },
  {
   "cell_type": "markdown",
   "metadata": {},
   "source": [
    "# 行列化"
   ]
  },
  {
   "cell_type": "markdown",
   "metadata": {},
   "source": [
    "`m[i,j] = f(x[i,:], y[j,:])` となるような行列を作る"
   ]
  },
  {
   "cell_type": "markdown",
   "metadata": {},
   "source": [
    "## vectorize"
   ]
  },
  {
   "cell_type": "code",
   "execution_count": 6,
   "metadata": {},
   "outputs": [
    {
     "name": "stdout",
     "output_type": "stream",
     "text": [
      "[[0. 0.]\n",
      " [1. 0.]\n",
      " [2. 0.]]\n",
      "[[0. 0.]\n",
      " [1. 0.]\n",
      " [2. 0.]\n",
      " [3. 0.]]\n"
     ]
    }
   ],
   "source": [
    "def f(x, y):\n",
    "    return x[0] + y[0]/10\n",
    "\n",
    "dim = 2\n",
    "numx = 3\n",
    "numy = 4\n",
    "vf = np.vectorize(f, signature=\"(n),(n)->()\")\n",
    "xs, ys = np.zeros((numx,dim)), np.zeros((numy,dim))\n",
    "xs[:,0] = np.arange(numx)\n",
    "ys[:,0] = np.arange(numy)\n",
    "print(xs)\n",
    "print(ys)"
   ]
  },
  {
   "cell_type": "code",
   "execution_count": 7,
   "metadata": {},
   "outputs": [
    {
     "data": {
      "text/plain": [
       "array([[0. , 0.1, 0.2, 0.3],\n",
       "       [1. , 1.1, 1.2, 1.3],\n",
       "       [2. , 2.1, 2.2, 2.3]])"
      ]
     },
     "execution_count": 7,
     "metadata": {},
     "output_type": "execute_result"
    }
   ],
   "source": [
    "# step1.\n",
    "# ブロードキャストによって、必要な要素数になるまでコピーする.\n",
    "# この時、最後の2つの次元が、xs,ysに合うように次元を調整する.\n",
    "xs2, ys2 = np.zeros((numy,numx,dim)), np.zeros((numx,numy,dim))\n",
    "xs2[:,:,:] = xs\n",
    "ys2[:,:,:] = ys\n",
    "# step2.\n",
    "# xs2, ys2が同じ形になるように、転地によって次元を調整する.\n",
    "xs2 = xs2.transpose((1,0,2))\n",
    "vf(xs2, ys2)"
   ]
  },
  {
   "cell_type": "markdown",
   "metadata": {},
   "source": [
    "## broadcastのみ\n",
    "vecorizeを使うと場合によっては激遅いので、ブロードキャストで頑張ってみる"
   ]
  },
  {
   "cell_type": "code",
   "execution_count": 8,
   "metadata": {},
   "outputs": [],
   "source": [
    "xs3, ys3 = np.zeros((numy,numx,dim)), np.zeros((numx,numy,dim))\n",
    "xs3[:,:,:] = xs\n",
    "ys3[:,:,:] = ys\n",
    "xs3 = xs3.transpose((1,0,2)).reshape(-1,dim)\n",
    "ys3 = ys3.reshape(-1,dim)"
   ]
  },
  {
   "cell_type": "code",
   "execution_count": 9,
   "metadata": {},
   "outputs": [
    {
     "data": {
      "text/plain": [
       "array([[0. , 0.1, 0.2, 0.3],\n",
       "       [1. , 1.1, 1.2, 1.3],\n",
       "       [2. , 2.1, 2.2, 2.3]])"
      ]
     },
     "execution_count": 9,
     "metadata": {},
     "output_type": "execute_result"
    }
   ],
   "source": [
    "mat = np.array([f(x,y) for x,y in zip(xs3, ys3)]).reshape(numx,numy)\n",
    "mat"
   ]
  },
  {
   "cell_type": "markdown",
   "metadata": {},
   "source": [
    "## apply_along_axis化する"
   ]
  },
  {
   "cell_type": "code",
   "execution_count": 10,
   "metadata": {},
   "outputs": [
    {
     "data": {
      "text/plain": [
       "array([[0. , 0.1, 0.2, 0.3],\n",
       "       [1. , 1.1, 1.2, 1.3],\n",
       "       [2. , 2.1, 2.2, 2.3]])"
      ]
     },
     "execution_count": 10,
     "metadata": {},
     "output_type": "execute_result"
    }
   ],
   "source": [
    "def argconcat(f, d):\n",
    "    def ret(x):\n",
    "        return f(x[:d], x[d:])\n",
    "    return ret\n",
    "f2 = argconcat(f, 2)\n",
    "\n",
    "xys = np.concatenate([xs3, ys3], axis=1)\n",
    "np.apply_along_axis(f2, 1, xys).reshape(numx, numy)"
   ]
  },
  {
   "cell_type": "markdown",
   "metadata": {},
   "source": [
    "## ベンチマークしてみる"
   ]
  },
  {
   "cell_type": "code",
   "execution_count": 11,
   "metadata": {},
   "outputs": [],
   "source": [
    "def cross_prod0(xs, ys, f):\n",
    "    N, M = len(xs), len(ys)\n",
    "    ret = np.zeros((N, M))\n",
    "    for i, j in itertools.product(range(N), range(M)):\n",
    "        ret[i,j] = f(xs[i], ys[i])\n",
    "    return ret"
   ]
  },
  {
   "cell_type": "code",
   "execution_count": 12,
   "metadata": {},
   "outputs": [],
   "source": [
    "def cross_prod1(xs, ys, vf):\n",
    "    dim = xs.shape[1]\n",
    "    nx = xs.shape[0]\n",
    "    ny = ys.shape[0]\n",
    "    xs2, ys2 = np.zeros((ny, nx, dim)), np.zeros((nx, ny, dim))\n",
    "    xs2[:,:,:] = xs\n",
    "    ys2[:,:,:] = ys\n",
    "    xs2 = xs2.transpose((1,0,2))\n",
    "    return vf(xs2, ys2)"
   ]
  },
  {
   "cell_type": "code",
   "execution_count": 13,
   "metadata": {},
   "outputs": [],
   "source": [
    "def cross_prod2(xs, ys, f):\n",
    "    dim = xs.shape[1]\n",
    "    nx = xs.shape[0]\n",
    "    ny = ys.shape[0]\n",
    "    xs2, ys2 = np.zeros((ny, nx, dim)), np.zeros((nx, ny, dim))\n",
    "    xs2[:,:,:] = xs\n",
    "    ys2[:,:,:] = ys\n",
    "    xs2 = xs2.transpose((1,0,2)).reshape(-1,dim)\n",
    "    ys2 = ys2.reshape(-1,dim)\n",
    "    mat = np.array([f(x, y) for x, y in zip(xs2, ys2)]).reshape(nx, ny)\n",
    "    return mat"
   ]
  },
  {
   "cell_type": "code",
   "execution_count": 14,
   "metadata": {},
   "outputs": [],
   "source": [
    "def cross_prod3(xs, ys, f):\n",
    "    dim = xs.shape[1]\n",
    "    nx = xs.shape[0]\n",
    "    ny = ys.shape[0]\n",
    "    xs2, ys2 = np.zeros((ny, nx, dim)), np.zeros((nx, ny, dim))\n",
    "    xs2[:,:,:] = xs\n",
    "    ys2[:,:,:] = ys\n",
    "    xs2 = xs2.transpose((1,0,2)).reshape(-1,dim)\n",
    "    ys2 = ys2.reshape(-1,dim)\n",
    "    xys = np.concatenate([xs2, ys2], axis=1)\n",
    "    mat = np.apply_along_axis(f, 1, xys).reshape(nx, ny)\n",
    "    return mat"
   ]
  },
  {
   "cell_type": "code",
   "execution_count": 15,
   "metadata": {},
   "outputs": [],
   "source": [
    "dim = 2\n",
    "nx, ny = 100, 100\n",
    "xs = np.random.randn(nx, dim)\n",
    "ys = np.random.randn(ny, dim)"
   ]
  },
  {
   "cell_type": "code",
   "execution_count": 16,
   "metadata": {},
   "outputs": [
    {
     "name": "stdout",
     "output_type": "stream",
     "text": [
      "9.9 ms ± 86.5 µs per loop (mean ± std. dev. of 7 runs, 100 loops each)\n"
     ]
    }
   ],
   "source": [
    "%%timeit\n",
    "cross_prod0(xs, ys, f)"
   ]
  },
  {
   "cell_type": "code",
   "execution_count": 17,
   "metadata": {},
   "outputs": [
    {
     "name": "stdout",
     "output_type": "stream",
     "text": [
      "22.5 ms ± 359 µs per loop (mean ± std. dev. of 7 runs, 10 loops each)\n"
     ]
    }
   ],
   "source": [
    "%%timeit\n",
    "cross_prod1(xs, ys, vf)"
   ]
  },
  {
   "cell_type": "code",
   "execution_count": 18,
   "metadata": {},
   "outputs": [
    {
     "name": "stdout",
     "output_type": "stream",
     "text": [
      "9.29 ms ± 150 µs per loop (mean ± std. dev. of 7 runs, 100 loops each)\n"
     ]
    }
   ],
   "source": [
    "%%timeit\n",
    "cross_prod2(xs, ys, f)"
   ]
  },
  {
   "cell_type": "code",
   "execution_count": 19,
   "metadata": {},
   "outputs": [
    {
     "name": "stdout",
     "output_type": "stream",
     "text": [
      "27.7 ms ± 164 µs per loop (mean ± std. dev. of 7 runs, 10 loops each)\n"
     ]
    }
   ],
   "source": [
    "%%timeit\n",
    "cross_prod3(xs, ys, f2)"
   ]
  },
  {
   "cell_type": "markdown",
   "metadata": {},
   "source": [
    "クロージャーは遅いことが多い気がするので、グローバルの関数を定義してみる"
   ]
  },
  {
   "cell_type": "code",
   "execution_count": 20,
   "metadata": {},
   "outputs": [],
   "source": [
    "def f3(x):\n",
    "    return f(x[:2], x[2:])"
   ]
  },
  {
   "cell_type": "code",
   "execution_count": 21,
   "metadata": {},
   "outputs": [
    {
     "name": "stdout",
     "output_type": "stream",
     "text": [
      "28 ms ± 725 µs per loop (mean ± std. dev. of 7 runs, 10 loops each)\n"
     ]
    }
   ],
   "source": [
    "%%timeit\n",
    "cross_prod3(xs, ys, f3)"
   ]
  },
  {
   "cell_type": "markdown",
   "metadata": {},
   "source": [
    "あんま変わらん・・"
   ]
  },
  {
   "cell_type": "markdown",
   "metadata": {},
   "source": [
    "## 結論\n",
    "cross_prod2が一番早いが、シンプルなcross_prod0でもほとんど変わらない"
   ]
  },
  {
   "cell_type": "markdown",
   "metadata": {},
   "source": [
    "### 結果が一致することを確認"
   ]
  },
  {
   "cell_type": "code",
   "execution_count": 22,
   "metadata": {},
   "outputs": [
    {
     "name": "stdout",
     "output_type": "stream",
     "text": [
      "[[-0.101323   -0.101323   -0.101323   ... -0.101323   -0.101323\n",
      "  -0.101323  ]\n",
      " [-0.4045156  -0.4045156  -0.4045156  ... -0.4045156  -0.4045156\n",
      "  -0.4045156 ]\n",
      " [ 0.94170384  0.94170384  0.94170384 ...  0.94170384  0.94170384\n",
      "   0.94170384]\n",
      " ...\n",
      " [ 0.54846271  0.54846271  0.54846271 ...  0.54846271  0.54846271\n",
      "   0.54846271]\n",
      " [-0.70333874 -0.70333874 -0.70333874 ... -0.70333874 -0.70333874\n",
      "  -0.70333874]\n",
      " [ 1.45900788  1.45900788  1.45900788 ...  1.45900788  1.45900788\n",
      "   1.45900788]]\n",
      "[[-0.101323    0.01763912 -0.21205154 ... -0.09396191 -0.03468006\n",
      "   0.00576916]\n",
      " [-0.52347772 -0.4045156  -0.63420626 ... -0.51611663 -0.45683477\n",
      "  -0.41638556]\n",
      " [ 1.05243238  1.1713945   0.94170384 ...  1.05979347  1.11907532\n",
      "   1.15952454]\n",
      " ...\n",
      " [ 0.54110163  0.66006374  0.43037309 ...  0.54846271  0.60774457\n",
      "   0.64819379]\n",
      " [-0.76998168 -0.65101956 -0.88071022 ... -0.76262059 -0.70333874\n",
      "  -0.66288952]\n",
      " [ 1.35191572  1.47087784  1.24118718 ...  1.35927681  1.41855867\n",
      "   1.45900788]]\n",
      "[[-0.101323    0.01763912 -0.21205154 ... -0.09396191 -0.03468006\n",
      "   0.00576916]\n",
      " [-0.52347772 -0.4045156  -0.63420626 ... -0.51611663 -0.45683477\n",
      "  -0.41638556]\n",
      " [ 1.05243238  1.1713945   0.94170384 ...  1.05979347  1.11907532\n",
      "   1.15952454]\n",
      " ...\n",
      " [ 0.54110163  0.66006374  0.43037309 ...  0.54846271  0.60774457\n",
      "   0.64819379]\n",
      " [-0.76998168 -0.65101956 -0.88071022 ... -0.76262059 -0.70333874\n",
      "  -0.66288952]\n",
      " [ 1.35191572  1.47087784  1.24118718 ...  1.35927681  1.41855867\n",
      "   1.45900788]]\n",
      "[[-0.101323    0.01763912 -0.21205154 ... -0.09396191 -0.03468006\n",
      "   0.00576916]\n",
      " [-0.52347772 -0.4045156  -0.63420626 ... -0.51611663 -0.45683477\n",
      "  -0.41638556]\n",
      " [ 1.05243238  1.1713945   0.94170384 ...  1.05979347  1.11907532\n",
      "   1.15952454]\n",
      " ...\n",
      " [ 0.54110163  0.66006374  0.43037309 ...  0.54846271  0.60774457\n",
      "   0.64819379]\n",
      " [-0.76998168 -0.65101956 -0.88071022 ... -0.76262059 -0.70333874\n",
      "  -0.66288952]\n",
      " [ 1.35191572  1.47087784  1.24118718 ...  1.35927681  1.41855867\n",
      "   1.45900788]]\n",
      "[[-0.101323    0.01763912 -0.21205154 ... -0.09396191 -0.03468006\n",
      "   0.00576916]\n",
      " [-0.52347772 -0.4045156  -0.63420626 ... -0.51611663 -0.45683477\n",
      "  -0.41638556]\n",
      " [ 1.05243238  1.1713945   0.94170384 ...  1.05979347  1.11907532\n",
      "   1.15952454]\n",
      " ...\n",
      " [ 0.54110163  0.66006374  0.43037309 ...  0.54846271  0.60774457\n",
      "   0.64819379]\n",
      " [-0.76998168 -0.65101956 -0.88071022 ... -0.76262059 -0.70333874\n",
      "  -0.66288952]\n",
      " [ 1.35191572  1.47087784  1.24118718 ...  1.35927681  1.41855867\n",
      "   1.45900788]]\n"
     ]
    }
   ],
   "source": [
    "print(cross_prod0(xs, ys, vf))\n",
    "print(cross_prod1(xs, ys, vf))\n",
    "print(cross_prod2(xs, ys, f))\n",
    "print(cross_prod3(xs, ys, f2))\n",
    "print(cross_prod3(xs, ys, f3))"
   ]
  }
 ],
 "metadata": {
  "kernelspec": {
   "display_name": "Python 3",
   "language": "python",
   "name": "python3"
  },
  "language_info": {
   "codemirror_mode": {
    "name": "ipython",
    "version": 3
   },
   "file_extension": ".py",
   "mimetype": "text/x-python",
   "name": "python",
   "nbconvert_exporter": "python",
   "pygments_lexer": "ipython3",
   "version": "3.7.6"
  }
 },
 "nbformat": 4,
 "nbformat_minor": 4
}
