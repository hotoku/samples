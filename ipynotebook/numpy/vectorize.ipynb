{
 "cells": [
  {
   "cell_type": "code",
   "execution_count": 1,
   "metadata": {},
   "outputs": [],
   "source": [
    "import numpy as np"
   ]
  },
  {
   "cell_type": "code",
   "execution_count": 2,
   "metadata": {},
   "outputs": [],
   "source": [
    "def diffsize(x, y):\n",
    "    return np.sqrt(np.sum((x-y)**2))\n",
    "\n",
    "vdiffsize = np.vectorize(diffsize, signature=\"(n),(n)->()\")"
   ]
  },
  {
   "cell_type": "code",
   "execution_count": 3,
   "metadata": {},
   "outputs": [],
   "source": [
    "x = np.random.rand(10, 3)\n",
    "y = np.random.rand(10, 3)"
   ]
  },
  {
   "cell_type": "code",
   "execution_count": 4,
   "metadata": {},
   "outputs": [
    {
     "name": "stdout",
     "output_type": "stream",
     "text": [
      "0.8042900952586733\n",
      "0.5179234454291365\n",
      "0.46810367849412865\n",
      "0.45295014904531267\n",
      "1.412724884089182\n",
      "0.7678116867250895\n",
      "0.6347081138730593\n",
      "0.4202205012479076\n",
      "0.6832359412149869\n",
      "0.7138988140284894\n"
     ]
    }
   ],
   "source": [
    "for i in range(x.shape[0]):\n",
    "    print(diffsize(x[i,:], y[i,:]))"
   ]
  },
  {
   "cell_type": "code",
   "execution_count": 5,
   "metadata": {},
   "outputs": [
    {
     "data": {
      "text/plain": [
       "array([0.8042901 , 0.51792345, 0.46810368, 0.45295015, 1.41272488,\n",
       "       0.76781169, 0.63470811, 0.4202205 , 0.68323594, 0.71389881])"
      ]
     },
     "execution_count": 5,
     "metadata": {},
     "output_type": "execute_result"
    }
   ],
   "source": [
    "vdiffsize(x,y)"
   ]
  },
  {
   "cell_type": "markdown",
   "metadata": {},
   "source": [
    "# 行列化"
   ]
  },
  {
   "cell_type": "markdown",
   "metadata": {},
   "source": [
    "`m[i,j] = f(x[i,:], y[j,:])` となるような行列を作る"
   ]
  },
  {
   "cell_type": "code",
   "execution_count": 9,
   "metadata": {},
   "outputs": [
    {
     "name": "stdout",
     "output_type": "stream",
     "text": [
      "[[0. 0.]\n",
      " [1. 0.]\n",
      " [2. 0.]]\n",
      "[[0. 0.]\n",
      " [1. 0.]\n",
      " [2. 0.]\n",
      " [3. 0.]]\n"
     ]
    }
   ],
   "source": [
    "def f(x, y):\n",
    "    return x[0] + y[0]/10\n",
    "\n",
    "dim = 2\n",
    "numx = 3\n",
    "numy = 4\n",
    "vf = np.vectorize(f, signature=\"(n),(n)->()\")\n",
    "xs, ys = np.zeros((numx,dim)), np.zeros((numy,dim))\n",
    "xs[:,0] = np.arange(numx)\n",
    "ys[:,0] = np.arange(numy)\n",
    "print(xs)\n",
    "print(ys)"
   ]
  },
  {
   "cell_type": "code",
   "execution_count": 14,
   "metadata": {},
   "outputs": [
    {
     "data": {
      "text/plain": [
       "array([[0. , 0.1, 0.2, 0.3],\n",
       "       [1. , 1.1, 1.2, 1.3],\n",
       "       [2. , 2.1, 2.2, 2.3]])"
      ]
     },
     "execution_count": 14,
     "metadata": {},
     "output_type": "execute_result"
    }
   ],
   "source": [
    "# step1.\n",
    "# ブロードキャストによって、必要な要素数になるまでコピーする.\n",
    "# この時、最後の2つの次元が、xs,ysに合うように次元を調整する.\n",
    "xs2, ys2 = np.zeros((numy,numx,dim)), np.zeros((numx,numy,dim))\n",
    "xs2[:,:,:] = xs\n",
    "ys2[:,:,:] = ys\n",
    "# step2.\n",
    "# xs2, ys2が同じ形になるように、転地によって次元を調整する.\n",
    "xs2 = xs2.transpose((1,0,2))\n",
    "vf(xs2, ys2)"
   ]
  }
 ],
 "metadata": {
  "kernelspec": {
   "display_name": "Python 3",
   "language": "python",
   "name": "python3"
  },
  "language_info": {
   "codemirror_mode": {
    "name": "ipython",
    "version": 3
   },
   "file_extension": ".py",
   "mimetype": "text/x-python",
   "name": "python",
   "nbconvert_exporter": "python",
   "pygments_lexer": "ipython3",
   "version": "3.7.6"
  }
 },
 "nbformat": 4,
 "nbformat_minor": 4
}
