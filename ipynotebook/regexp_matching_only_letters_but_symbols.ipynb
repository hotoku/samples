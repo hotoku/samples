{
 "cells": [
  {
   "cell_type": "markdown",
   "id": "495a30f6-3d5c-4b78-8f3f-1e8432111027",
   "metadata": {},
   "source": [
    "# トライ1"
   ]
  },
  {
   "cell_type": "code",
   "execution_count": 67,
   "id": "f3d72611-ef7d-4f7f-8aa9-9511bc66fdb6",
   "metadata": {},
   "outputs": [],
   "source": [
    "import re"
   ]
  },
  {
   "cell_type": "code",
   "execution_count": 68,
   "id": "3d3b58e8-237d-403c-a2e0-135e0c070b65",
   "metadata": {},
   "outputs": [
    {
     "data": {
      "text/plain": [
       "<re.Match object; span=(0, 1), match='あ'>"
      ]
     },
     "execution_count": 68,
     "metadata": {},
     "output_type": "execute_result"
    }
   ],
   "source": [
    "re.match(r\"[\\u3041-\\u3096\\u30A0-\\u30FF\\x3400-\\x4DB5\\x4E00-\\x9FCB\\xF900-\\xFA6A]+\", \"あ\")"
   ]
  },
  {
   "cell_type": "markdown",
   "id": "14ba473c-4d86-488f-94a6-6ec49f4fafac",
   "metadata": {},
   "source": [
    "`\\u番号`でコードポイントを指定できるぽい。各文字のコードポイントの範囲は、下を参照"
   ]
  },
  {
   "cell_type": "markdown",
   "id": "1bee2b43-e5ed-4827-a34d-99036b700d2e",
   "metadata": {},
   "source": [
    "記号だけの文字列を判定するには"
   ]
  },
  {
   "cell_type": "code",
   "execution_count": 69,
   "id": "14b0936d-7f74-43e7-be1b-9a4c5ed1fcb0",
   "metadata": {},
   "outputs": [
    {
     "name": "stdout",
     "output_type": "stream",
     "text": [
      "あいうえお None\n",
      "abcde None\n",
      "{}*`{ <re.Match object; span=(0, 5), match='{}*`{'>\n",
      "：＊＊＊＊ <re.Match object; span=(0, 5), match='：＊＊＊＊'>\n"
     ]
    }
   ],
   "source": [
    "range1 = r\"\\uff5f-\\uff65\" # 半角カナの記号\n",
    "range2 = r\"\\u3000-\\u303F\" # 全角記号(日本語)\n",
    "range3 = r\"\\u31F0-\\u31FF\\u3220-\\u3243\\u3280-\\u337F\" # 全角記号(日本語その他)\n",
    "range4 = r\"\\uFF01-\\uff20\\uff3b-\\uff40\\uff5b-\\uff5e\" # 全角記号(英数)\n",
    "range5 = r\"\\u0001-\\u0040\\u005b-\\u0060\\u007b-\\u00ff\" # ascii記号\n",
    "symbol_range = range1 + range2 + range3 + range4 + range5\n",
    "is_symbols = re.compile(f\"[{symbol_range}]+\")\n",
    "\n",
    "def _doit(s):\n",
    "    print(s, is_symbols.match(s))\n",
    "\n",
    "_doit(\"あいうえお\")\n",
    "_doit(\"abcde\")\n",
    "_doit(\"{}*`{\")\n",
    "_doit(\"：＊＊＊＊\")"
   ]
  },
  {
   "cell_type": "markdown",
   "id": "d0b98d9e-3c12-4774-8e56-8a2943b6f99f",
   "metadata": {},
   "source": [
    "cf:\n",
    "\n",
    "1. https://stackoverflow.com/questions/19899554/unicode-range-for-japanese\n",
    "1. http://www.localizingjapan.com/blog/2012/01/20/regular-expressions-for-japanese-text/"
   ]
  },
  {
   "cell_type": "markdown",
   "id": "a5b9e62c-2f47-4e8f-9fb4-f3dc0b750b74",
   "metadata": {},
   "source": [
    "上の2.から\n",
    "\n",
    "### Hiragana\n",
    "\n",
    "Unicode code points regex: [\\x3041-\\x3096]\n",
    "Unicode block property regex: \\p{Hiragana}\n",
    "\n",
    "ぁ あ ぃ い ぅ う ぇ え ぉ お か が き ぎ く ぐ け げ こ ご さ ざ し じ す ず せ ぜ そ ぞ た だ ち ぢ っ つ づ て で と ど な に ぬ ね の は ば ぱ ひ び ぴ ふ ぶ ぷ へ べ ぺ ほ ぼ ぽ ま み む め も ゃ や ゅ ゆ ょ よ ら り る れ ろ ゎ わ ゐ ゑ を ん ゔ ゕ ゖ  ゙ ゚ ゛ ゜ ゝ ゞ ゟ\n",
    "\n",
    "### Katakana (Full Width)\n",
    "\n",
    "Unicode code points regex: [\\x30A0-\\x30FF]\n",
    "Unicode block property regex: \\p{Katakana}\n",
    "\n",
    "゠ ァ ア ィ イ ゥ ウ ェ エ ォ オ カ ガ キ ギ ク グ ケ ゲ コ ゴ サ ザ シ ジ ス ズ セ ゼ ソ ゾ タ ダ チ ヂ ッ ツ ヅ テ デ ト ド ナ ニ ヌ ネ ノ ハ バ パ ヒ ビ ピ フ ブ プ ヘ ベ ペ ホ ボ ポ マ ミ ム メ モ ャ ヤ ュ ユ ョ ヨ ラ リ ル レ ロ ヮ ワ ヰ ヱ ヲ ン ヴ ヵ ヶ ヷ ヸ ヹ ヺ ・ ー ヽ ヾ ヿ\n",
    "\n",
    "### Kanji\n",
    "\n",
    "Unicode code points regex: [\\x3400-\\x4DB5\\x4E00-\\x9FCB\\xF900-\\xFA6A]\n",
    "Unicode block property regex: \\p{Han}\n",
    "\n",
    "漢字 日本語 文字 言語 言葉 etc. Too many characters to list.\n",
    "\n",
    "This regular expression will match all the kanji, including those used in Chinese.\n",
    "\n",
    "### Kanji Radicals\n",
    "\n",
    "Unicode code points regex: [\\x2E80-\\x2FD5]\n",
    "\n",
    "⺀ ⺁ ⺂ ⺃ ⺄ ⺅ ⺆ ⺇ ⺈ ⺉ ⺊ ⺋ ⺌ ⺍ ⺎ ⺏ ⺐ ⺑ ⺒ ⺓ ⺔ ⺕ ⺖ ⺗ ⺘ ⺙ ⺚ ⺛ ⺜ ⺝ ⺞ ⺟ ⺠ ⺡ ⺢ ⺣ ⺤ ⺥ ⺦ ⺧ ⺨ ⺩ ⺪ ⺫ ⺬ ⺭ ⺮ ⺯ ⺰ ⺱ ⺲ ⺳ ⺴ ⺵ ⺶ ⺷ ⺸ ⺹ ⺺ ⺻ ⺼ ⺽ ⺾ ⺿ ⻀ ⻁ ⻂ ⻃ ⻄ ⻅ ⻆ ⻇ ⻈ ⻉ ⻊ ⻋ ⻌ ⻍ ⻎ ⻏ ⻐ ⻑ ⻒ ⻓ ⻔ ⻕ ⻖ ⻗ ⻘ ⻙ ⻚ ⻛ ⻜ ⻝ ⻞ ⻟ ⻠ ⻡ ⻢ ⻣ ⻤ ⻥ ⻦ ⻧ ⻨ ⻩ ⻪ ⻫ ⻬ ⻭ ⻮ ⻯ ⻰ ⻱ ⻲ ⻳\n",
    "⼀ ⼁ ⼂ ⼃ ⼄ ⼅ ⼆ ⼇ ⼈ ⼉ ⼊ ⼋ ⼌ ⼍ ⼎ ⼏ ⼐ ⼑ ⼒ ⼓ ⼔ ⼕ ⼖ ⼗ ⼘ ⼙ ⼚ ⼛ ⼜ ⼝ ⼞ ⼟ ⼠ ⼡ ⼢ ⼣ ⼤ ⼥ ⼦ ⼧ ⼨ ⼩ ⼪ ⼫ ⼬ ⼭ ⼮ ⼯ ⼰ ⼱ ⼲ ⼳ ⼴ ⼵ ⼶ ⼷ ⼸ ⼹ ⼺ ⼻ ⼼ ⼽ ⼾ ⼿ ⽀ ⽁ ⽂ ⽃ ⽄ ⽅ ⽆ ⽇ ⽈ ⽉ ⽊ ⽋ ⽌ ⽍ ⽎ ⽏ ⽐ ⽑ ⽒ ⽓ ⽔ ⽕ ⽖ ⽗ ⽘ ⽙ ⽚ ⽛ ⽜ ⽝ ⽞ ⽟ ⽠ ⽡ ⽢ ⽣ ⽤ ⽥ ⽦ ⽧ ⽨ ⽩ ⽪ ⽫ ⽬ ⽭ ⽮ ⽯ ⽰ ⽱ ⽲ ⽳ ⽴ ⽵ ⽶ ⽷ ⽸ ⽹ ⽺ ⽻ ⽼ ⽽ ⽾ ⽿ ⾀ ⾁ ⾂ ⾃ ⾄ ⾅ ⾆ ⾇ ⾈ ⾉ ⾊ ⾋ ⾌ ⾍ ⾎ ⾏ ⾐ ⾑ ⾒ ⾓ ⾔ ⾕ ⾖ ⾗ ⾘ ⾙ ⾚ ⾛ ⾜ ⾝ ⾞ ⾟ ⾠ ⾡ ⾢ ⾣ ⾤ ⾥ ⾦ ⾧ ⾨ ⾩ ⾪ ⾫ ⾬ ⾭ ⾮ ⾯ ⾰ ⾱ ⾲ ⾳ ⾴ ⾵ ⾶ ⾷ ⾸ ⾹ ⾺ ⾻ ⾼ ⾽ ⾾ ⾿ ⿀ ⿁ ⿂ ⿃ ⿄ ⿅ ⿆ ⿇ ⿈ ⿉ ⿊ ⿋ ⿌ ⿍ ⿎ ⿏ ⿐ ⿑ ⿒ ⿓ ⿔ ⿕\n",
    "\n",
    "### Katakana and Punctuation (Half Width)\n",
    "\n",
    "Unicode code points regex: [\\xFF5F-\\xFF9F]\n",
    "\n",
    "｟ ｠ ｡ ｢ ｣ ､ ･ ｦ ｧ ｨ ｩ ｪ ｫ ｬ ｭ ｮ ｯ ｰ ｱ ｲ ｳ ｴ ｵ ｶ ｷ ｸ ｹ ｺ ｻ ｼ ｽ ｾ ｿ ﾀ ﾁ ﾂ ﾃ ﾄ ﾅ ﾆ ﾇ ﾈ ﾉ ﾊ ﾋ ﾌ ﾍ ﾎ ﾏ ﾐ ﾑ ﾒ ﾓ ﾔ ﾕ ﾖ ﾗ ﾘ ﾙ ﾚ ﾛ ﾜ ﾝ ﾞ\n",
    "\n",
    "### Japanese Symbols and Punctuation\n",
    "\n",
    "Unicode code points regex: [\\x3000-\\x303F]\n",
    "\n",
    "、 。 〃 〄 々 〆 〇 〈 〉 《 》 「 」 『 』 【 】 〒 〓 〔 〕 〖 〗 〘 〙 〚 〛 〜 〝 〞 〟 〠 〡 〢 〣 〤 〥 〦 〧 〨 〩 〪 〫 〬 〭 〮 〯 〰 〱 〲 〳 〴 〵 〶 〷 〸 〹 〺 〻 〼 〽 〾 〿\n",
    "\n",
    "### Miscellaneous Japanese Symbols and Characters\n",
    "\n",
    "Unicode code points regex: [\\x31F0-\\x31FF\\x3220-\\x3243\\x3280-\\x337F]\n",
    "\n",
    "ㇰ ㇱ ㇲ ㇳ ㇴ ㇵ ㇶ ㇷ ㇸ ㇹ ㇺ ㇻ ㇼ ㇽ ㇾ ㇿ\n",
    "㈠ ㈡ ㈢ ㈣ ㈤ ㈥ ㈦ ㈧ ㈨ ㈩ ㈪ ㈫ ㈬ ㈭ ㈮ ㈯ ㈰ ㈱ ㈲ ㈳ ㈴ ㈵ ㈶ ㈷ ㈸ ㈹ ㈺ ㈻ ㈼ ㈽ ㈾ ㈿ ㉀ ㉁ ㉂ ㉃\n",
    "㊀ ㊁ ㊂ ㊃ ㊄ ㊅ ㊆ ㊇ ㊈ ㊉ ㊊ ㊋ ㊌ ㊍ ㊎ ㊏ ㊐ ㊑ ㊒ ㊓ ㊔ ㊕ ㊖ ㊗ ㊘ ㊙ ㊚ ㊛ ㊜ ㊝ ㊞ ㊟ ㊠ ㊡ ㊢ ㊣ ㊤ ㊥ ㊦ ㊧ ㊨ ㊩ ㊪ ㊫ ㊬ ㊭ ㊮ ㊯ ㊰ ㊱ ㊲ ㊳ ㊴ ㊵ ㊶ ㊷ ㊸ ㊹ ㊺ ㊻ ㊼ ㊽ ㊾ ㊿\n",
    "㋀ ㋁ ㋂ ㋃ ㋄ ㋅ ㋆ ㋇ ㋈ ㋉ ㋊ ㋋  ㋐ ㋑ ㋒ ㋓ ㋔ ㋕ ㋖ ㋗ ㋘ ㋙ ㋚ ㋛ ㋜ ㋝ ㋞ ㋟ ㋠ ㋡ ㋢ ㋣ ㋤ ㋥ ㋦ ㋧ ㋨ ㋩ ㋪ ㋫ ㋬ ㋭ ㋮ ㋯ ㋰ ㋱ ㋲ ㋳ ㋴ ㋵ ㋶ ㋷ ㋸ ㋹ ㋺ ㋻ ㋼ ㋽ ㋾\n",
    "㌀ ㌁ ㌂ ㌃ ㌄ ㌅ ㌆ ㌇ ㌈ ㌉ ㌊ ㌋ ㌌ ㌍ ㌎ ㌏ ㌐ ㌑ ㌒ ㌓ ㌔ ㌕ ㌖ ㌗ ㌘ ㌙ ㌚ ㌛ ㌜ ㌝ ㌞ ㌟ ㌠ ㌡ ㌢ ㌣ ㌤ ㌥ ㌦ ㌧ ㌨ ㌩ ㌪ ㌫ ㌬ ㌭ ㌮ ㌯ ㌰ ㌱ ㌲ ㌳ ㌴ ㌵ ㌶ ㌷ ㌸ ㌹ ㌺ ㌻ ㌼ ㌽ ㌾ ㌿ ㍀ ㍁ ㍂ ㍃ ㍄ ㍅ ㍆ ㍇ ㍈ ㍉ ㍊ ㍋ ㍌ ㍍ ㍎ ㍏ ㍐ ㍑ ㍒ ㍓ ㍔ ㍕ ㍖ ㍗ ㍘ ㍙ ㍚ ㍛ ㍜ ㍝ ㍞ ㍟ ㍠ ㍡ ㍢ ㍣ ㍤ ㍥ ㍦ ㍧ ㍨ ㍩ ㍪ ㍫ ㍬ ㍭ ㍮ ㍯ ㍰ ㍱ ㍲ ㍳ ㍴ ㍵ ㍶  ㍻ ㍼ ㍽ ㍾ ㍿\n",
    "\n",
    "### Alphanumeric and Punctuation (Full Width)\n",
    "\n",
    "Unicode code points regex: [\\xFF01-\\xFF5E]\n",
    "\n",
    "！ ＂ ＃ ＄ ％ ＆ ＇ （ ） ＊ ＋ ， － ． ／ ０ １ ２ ３ ４ ５ ６ ７ ８ ９ ： ； ＜ ＝ ＞ ？\n",
    "＠ Ａ Ｂ Ｃ Ｄ Ｅ Ｆ Ｇ Ｈ Ｉ Ｊ Ｋ Ｌ Ｍ Ｎ Ｏ Ｐ Ｑ Ｒ Ｓ Ｔ Ｕ Ｖ Ｗ Ｘ Ｙ Ｚ ［ ＼ ］ ＾ ＿\n",
    "｀ ａ ｂ ｃ ｄ ｅ ｆ ｇ ｈ ｉ ｊ ｋ ｌ ｍ ｎ ｏ ｐ ｑ ｒ ｓ ｔ ｕ ｖ ｗ ｘ ｙ ｚ ｛ ｜ ｝ ～"
   ]
  },
  {
   "cell_type": "markdown",
   "id": "3b10b629-caac-4b7d-95db-d52fc2efcf02",
   "metadata": {},
   "source": [
    "# トライ2\n",
    "\n",
    "上の例では、日本語の記号 or asciiの記号、しか除外できない\n",
    "\n",
    "https://www.compart.com/en/unicode/category <br>\n",
    "これを見ると、コードポイントにはカテゴリーがあるので、文字以外のカテゴリーを弾いたら良いのでは\n",
    "\n",
    "https://stackoverflow.com/questions/1832893/python-regex-matching-unicode-properties <br>\n",
    "regexライブラリでいけるらしい"
   ]
  },
  {
   "cell_type": "code",
   "execution_count": 84,
   "id": "23d2da66-a2c9-4e64-9a3c-b698535a4bb6",
   "metadata": {},
   "outputs": [],
   "source": [
    "import regex"
   ]
  },
  {
   "cell_type": "code",
   "execution_count": 85,
   "id": "14e998a8-2732-4fb2-a193-938a3bb9d4d9",
   "metadata": {},
   "outputs": [
    {
     "data": {
      "text/plain": [
       "<regex.Match object; span=(0, 3), match='abc'>"
      ]
     },
     "execution_count": 85,
     "metadata": {},
     "output_type": "execute_result"
    }
   ],
   "source": [
    "regex.match(r\"\\p{Ll}+\", \"abcA\")"
   ]
  },
  {
   "cell_type": "markdown",
   "id": "28e40f63-a48c-47a0-9268-ef01f460e615",
   "metadata": {},
   "source": [
    "Llは小文字にだけマッチする"
   ]
  },
  {
   "cell_type": "code",
   "execution_count": 78,
   "id": "111d87f0-afb7-4d52-937e-31cd11924780",
   "metadata": {},
   "outputs": [
    {
     "data": {
      "text/plain": [
       "<regex.Match object; span=(0, 4), match='abcA'>"
      ]
     },
     "execution_count": 78,
     "metadata": {},
     "output_type": "execute_result"
    }
   ],
   "source": [
    "regex.match(r\"[\\p{Ll}\\p{Lu}]+\", \"abcA\")"
   ]
  },
  {
   "cell_type": "markdown",
   "id": "de688eec-2347-4486-a0d1-f24c148dfc0b",
   "metadata": {},
   "source": [
    "Luは大文字にマッチする"
   ]
  },
  {
   "cell_type": "code",
   "execution_count": 86,
   "id": "f79bbfa5-f0bc-4738-a01d-7f04b865ed5f",
   "metadata": {},
   "outputs": [],
   "source": [
    "regex.match(r\"[\\p{Ll}\\p{Lu}]+\", \"*＊\")"
   ]
  },
  {
   "cell_type": "markdown",
   "id": "b4c06489-3ffe-4190-8d62-ad49b3ffff0b",
   "metadata": {},
   "source": [
    "記号にはマッチしない"
   ]
  },
  {
   "cell_type": "code",
   "execution_count": 87,
   "id": "5b7de089-18d7-4c3a-9dec-c090db104875",
   "metadata": {},
   "outputs": [
    {
     "data": {
      "text/plain": [
       "<regex.Match object; span=(0, 1), match='あ'>"
      ]
     },
     "execution_count": 87,
     "metadata": {},
     "output_type": "execute_result"
    }
   ],
   "source": [
    "regex.match(r\"[\\p{Ll}\\p{Lu}\\p{Lo}]+\", \"あ\")"
   ]
  },
  {
   "cell_type": "markdown",
   "id": "e37d601f-776b-4437-892e-3e59ae80513a",
   "metadata": {},
   "source": [
    "Loが、その他の文字にマッチする"
   ]
  }
 ],
 "metadata": {
  "kernelspec": {
   "display_name": "Python 3 (ipykernel)",
   "language": "python",
   "name": "python3"
  },
  "language_info": {
   "codemirror_mode": {
    "name": "ipython",
    "version": 3
   },
   "file_extension": ".py",
   "mimetype": "text/x-python",
   "name": "python",
   "nbconvert_exporter": "python",
   "pygments_lexer": "ipython3",
   "version": "3.9.5"
  }
 },
 "nbformat": 4,
 "nbformat_minor": 5
}
