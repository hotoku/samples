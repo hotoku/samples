{
 "cells": [
  {
   "cell_type": "markdown",
   "metadata": {},
   "source": [
    "https://matplotlib.org/3.1.0/tutorials/colors/colormaps.html\n",
    "https://matplotlib.org/3.1.0/tutorials/colors/colormap-manipulation.html"
   ]
  },
  {
   "cell_type": "code",
   "execution_count": 71,
   "metadata": {},
   "outputs": [],
   "source": [
    "import matplotlib.pyplot as plt\n",
    "from matplotlib import cm\n",
    "from matplotlib.cm import ScalarMappable\n",
    "from matplotlib.colors import Normalize\n",
    "import numpy as np"
   ]
  },
  {
   "cell_type": "code",
   "execution_count": 48,
   "metadata": {},
   "outputs": [
    {
     "data": {
      "text/plain": [
       "(0.5687606112054329, 1.0, 0.398981324278438, 1.0)"
      ]
     },
     "execution_count": 48,
     "metadata": {},
     "output_type": "execute_result"
    }
   ],
   "source": [
    "n = 20\n",
    "cmap = cm.get_cmap(\"jet\", n)\n",
    "cmap(0.5)"
   ]
  },
  {
   "cell_type": "markdown",
   "metadata": {},
   "source": [
    "👆 RGBとalphaの値（多分）"
   ]
  },
  {
   "cell_type": "code",
   "execution_count": 55,
   "metadata": {},
   "outputs": [
    {
     "data": {
      "image/png": "[encoded data removed]",
      "text/plain": [
       "<Figure size 432x288 with 1 Axes>"
      ]
     },
     "metadata": {
      "needs_background": "light"
     },
     "output_type": "display_data"
    }
   ],
   "source": [
    "fig, ax = plt.subplots()\n",
    "for i in range(n):\n",
    "    ax.plot(i,1,marker=\".\", markersize=20, color=cmap(i))"
   ]
  },
  {
   "cell_type": "markdown",
   "metadata": {},
   "source": [
    "👆 基本的な使い方"
   ]
  },
  {
   "cell_type": "code",
   "execution_count": 64,
   "metadata": {},
   "outputs": [
    {
     "name": "stdout",
     "output_type": "stream",
     "text": [
      "-30 (0.0, 0.0, 0.5, 1.0)\n",
      "-27 (0.0, 0.0, 0.5, 1.0)\n",
      "-24 (0.0, 0.0, 0.5, 1.0)\n",
      "-21 (0.0, 0.0, 0.5, 1.0)\n",
      "-18 (0.0, 0.0, 0.5, 1.0)\n",
      "-15 (0.0, 0.0, 0.5, 1.0)\n",
      "-12 (0.0, 0.0, 0.5, 1.0)\n",
      "-9 (0.0, 0.0, 0.5, 1.0)\n",
      "-6 (0.0, 0.0, 0.5, 1.0)\n",
      "-3 (0.0, 0.0, 0.5, 1.0)\n",
      "0 (0.0, 0.0, 0.5, 1.0)\n",
      "3 (0.0, 0.13157894736842105, 1.0, 1.0)\n",
      "6 (0.0, 0.7631578947368421, 1.0, 1.0)\n",
      "9 (0.398981324278438, 1.0, 0.568760611205433, 1.0)\n",
      "12 (0.9083191850594227, 1.0, 0.05942275042444822, 1.0)\n",
      "15 (1.0, 0.4463937621832358, 0.0, 1.0)\n",
      "18 (0.7392344497607656, 0.0, 0.0, 1.0)\n",
      "21 (0.5, 0.0, 0.0, 1.0)\n",
      "24 (0.5, 0.0, 0.0, 1.0)\n",
      "27 (0.5, 0.0, 0.0, 1.0)\n",
      "30 (0.5, 0.0, 0.0, 1.0)\n",
      "33 (0.5, 0.0, 0.0, 1.0)\n",
      "36 (0.5, 0.0, 0.0, 1.0)\n",
      "39 (0.5, 0.0, 0.0, 1.0)\n",
      "42 (0.5, 0.0, 0.0, 1.0)\n",
      "45 (0.5, 0.0, 0.0, 1.0)\n",
      "48 (0.5, 0.0, 0.0, 1.0)\n"
     ]
    }
   ],
   "source": [
    "for i in range(-30, n+30, 3):\n",
    "    print(i, cmap(i))"
   ]
  },
  {
   "cell_type": "markdown",
   "metadata": {},
   "source": [
    "👆 範囲外では定数が返ってくる"
   ]
  },
  {
   "cell_type": "markdown",
   "metadata": {},
   "source": [
    "👇 カラーバーを作ってみる\n",
    "\n",
    "https://qiita.com/ykatsu111/items/c69122fc3e3b77ec50a8"
   ]
  },
  {
   "cell_type": "code",
   "execution_count": 69,
   "metadata": {},
   "outputs": [],
   "source": [
    "norm = Normalize(vmin=0, vmax=n)"
   ]
  },
  {
   "cell_type": "code",
   "execution_count": null,
   "metadata": {},
   "outputs": [],
   "source": [
    "fig, ax = plt.subplots()\n",
    "for i in range(n):\n",
    "    ax.plot(i,1,marker=\".\", markersize=20, color=cmap(i))"
   ]
  }
 ],
 "metadata": {
  "kernelspec": {
   "display_name": "Python 3",
   "language": "python",
   "name": "python3"
  },
  "language_info": {
   "codemirror_mode": {
    "name": "ipython",
    "version": 3
   },
   "file_extension": ".py",
   "mimetype": "text/x-python",
   "name": "python",
   "nbconvert_exporter": "python",
   "pygments_lexer": "ipython3",
   "version": "3.7.6"
  }
 },
 "nbformat": 4,
 "nbformat_minor": 4
}
