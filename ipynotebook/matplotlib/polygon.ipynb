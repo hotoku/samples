{
 "cells": [
  {
   "cell_type": "code",
   "execution_count": 1,
   "metadata": {},
   "outputs": [
    {
     "data": {
      "text/plain": [
       "(0, 15)"
      ]
     },
     "execution_count": 1,
     "metadata": {},
     "output_type": "execute_result"
    },
    {
     "data": {
      "image/png": "[encoded data removed]",
      "text/plain": [
       "<Figure size 432x288 with 1 Axes>"
      ]
     },
     "metadata": {
      "needs_background": "light"
     },
     "output_type": "display_data"
    }
   ],
   "source": [
    "import numpy as np\n",
    "ps = np.array([\n",
    "    (0, 0),\n",
    "    (9, 14),\n",
    "    (8, 1.5),\n",
    "    (4, 2.5),\n",
    "    (7, 7),\n",
    "    (11, 0)\n",
    "])\n",
    "\n",
    "import matplotlib.pyplot as plt\n",
    "\n",
    "fig, ax = plt.subplots()\n",
    "ax.add_patch(plt.Polygon(ps, edgecolor=\"red\", fill=False))\n",
    "ax.set_xlim(0,12)\n",
    "ax.set_ylim(0,15)"
   ]
  },
  {
   "cell_type": "code",
   "execution_count": 2,
   "metadata": {},
   "outputs": [],
   "source": [
    "import math"
   ]
  },
  {
   "cell_type": "code",
   "execution_count": 3,
   "metadata": {},
   "outputs": [],
   "source": [
    "def angle(p1, p2, p3):\n",
    "    v1 = p1 - p2\n",
    "    v2 = p3 - p2\n",
    "    dot = np.dot(v1, v2)\n",
    "    l1 = math.sqrt(np.sum(v1**2))\n",
    "    l2 = math.sqrt(np.sum(v2**2))\n",
    "    return math.acos(dot / l1 / l2) * 180 / math.pi"
   ]
  },
  {
   "cell_type": "code",
   "execution_count": 7,
   "metadata": {},
   "outputs": [],
   "source": [
    "def rotate(xs, a):\n",
    "    buf = list(xs)\n",
    "    n = len(buf)\n",
    "    i = a\n",
    "    while True:\n",
    "        yield buf[i % n]\n",
    "        i += 1"
   ]
  },
  {
   "cell_type": "code",
   "execution_count": 14,
   "metadata": {},
   "outputs": [
    {
     "name": "stdout",
     "output_type": "stream",
     "text": [
      "28.161305012206746\n",
      "80.53767779197437\n",
      "70.3461759419467\n",
      "63.43494882292201\n",
      "60.25511870305777\n",
      "57.264773727892404\n",
      "s=360.0\n"
     ]
    }
   ],
   "source": [
    "s = 0\n",
    "for p1, p2, p3 in zip(ps, rotate(ps, 1), rotate(ps, 2)):\n",
    "    a = angle(p1, p2, p3)\n",
    "    print(a)\n",
    "    s += a\n",
    "print(f\"s={s}\")"
   ]
  }
 ],
 "metadata": {
  "kernelspec": {
   "display_name": "Python 3",
   "language": "python",
   "name": "python3"
  },
  "language_info": {
   "codemirror_mode": {
    "name": "ipython",
    "version": 3
   },
   "file_extension": ".py",
   "mimetype": "text/x-python",
   "name": "python",
   "nbconvert_exporter": "python",
   "pygments_lexer": "ipython3",
   "version": "3.8.1"
  }
 },
 "nbformat": 4,
 "nbformat_minor": 4
}
