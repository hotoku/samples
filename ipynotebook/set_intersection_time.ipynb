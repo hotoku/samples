{
 "cells": [
  {
   "cell_type": "code",
   "execution_count": 1,
   "metadata": {
    "execution": {
     "iopub.execute_input": "2021-01-13T01:41:34.353958Z",
     "iopub.status.busy": "2021-01-13T01:41:34.353645Z",
     "iopub.status.idle": "2021-01-13T01:41:34.513416Z",
     "shell.execute_reply": "2021-01-13T01:41:34.512923Z",
     "shell.execute_reply.started": "2021-01-13T01:41:34.353875Z"
    }
   },
   "outputs": [],
   "source": [
    "import numpy as np\n",
    "import time"
   ]
  },
  {
   "cell_type": "code",
   "execution_count": 2,
   "metadata": {
    "execution": {
     "iopub.execute_input": "2021-01-13T01:41:34.514339Z",
     "iopub.status.busy": "2021-01-13T01:41:34.514193Z",
     "iopub.status.idle": "2021-01-13T01:41:34.518834Z",
     "shell.execute_reply": "2021-01-13T01:41:34.517989Z",
     "shell.execute_reply.started": "2021-01-13T01:41:34.514317Z"
    }
   },
   "outputs": [],
   "source": [
    "def clock(f):\n",
    "    def ret(*args, **kwargs):\n",
    "        start = time.time()\n",
    "        val = f(*args, **kwargs)\n",
    "        end = time.time()\n",
    "        return val, end - start\n",
    "    return ret"
   ]
  },
  {
   "cell_type": "code",
   "execution_count": 3,
   "metadata": {
    "execution": {
     "iopub.execute_input": "2021-01-13T01:41:34.520644Z",
     "iopub.status.busy": "2021-01-13T01:41:34.520245Z",
     "iopub.status.idle": "2021-01-13T01:41:34.551143Z",
     "shell.execute_reply": "2021-01-13T01:41:34.550510Z",
     "shell.execute_reply.started": "2021-01-13T01:41:34.520603Z"
    }
   },
   "outputs": [],
   "source": [
    "@clock\n",
    "def test1(a, b):\n",
    "    a2 = set(a)\n",
    "    b2 = set(b)\n",
    "    return list(set.intersection(a2, b2))"
   ]
  },
  {
   "cell_type": "code",
   "execution_count": 4,
   "metadata": {
    "execution": {
     "iopub.execute_input": "2021-01-13T01:41:34.552291Z",
     "iopub.status.busy": "2021-01-13T01:41:34.552161Z",
     "iopub.status.idle": "2021-01-13T01:41:34.559864Z",
     "shell.execute_reply": "2021-01-13T01:41:34.559107Z",
     "shell.execute_reply.started": "2021-01-13T01:41:34.552274Z"
    }
   },
   "outputs": [
    {
     "data": {
      "text/plain": [
       "([3], 3.0994415283203125e-06)"
      ]
     },
     "execution_count": 4,
     "metadata": {},
     "output_type": "execute_result"
    }
   ],
   "source": [
    "test1([1,2,3], [3,4])"
   ]
  },
  {
   "cell_type": "code",
   "execution_count": 90,
   "metadata": {
    "execution": {
     "iopub.execute_input": "2021-01-13T05:45:43.064032Z",
     "iopub.status.busy": "2021-01-13T05:45:43.063773Z",
     "iopub.status.idle": "2021-01-13T05:46:09.595559Z",
     "shell.execute_reply": "2021-01-13T05:46:09.595067Z",
     "shell.execute_reply.started": "2021-01-13T05:45:43.064004Z"
    }
   },
   "outputs": [],
   "source": [
    "times = []\n",
    "for _ in range(10):\n",
    "    for n in np.linspace(2, 7, 10):\n",
    "        x = int(np.power(10, n))\n",
    "        _, t = test1(range(x), range(x))\n",
    "        times.append((x, t))"
   ]
  },
  {
   "cell_type": "code",
   "execution_count": 91,
   "metadata": {
    "collapsed": true,
    "execution": {
     "iopub.execute_input": "2021-01-13T05:46:25.845624Z",
     "iopub.status.busy": "2021-01-13T05:46:25.845430Z",
     "iopub.status.idle": "2021-01-13T05:46:25.853013Z",
     "shell.execute_reply": "2021-01-13T05:46:25.852333Z",
     "shell.execute_reply.started": "2021-01-13T05:46:25.845603Z"
    },
    "jupyter": {
     "outputs_hidden": true
    }
   },
   "outputs": [
    {
     "data": {
      "text/plain": [
       "[(100, 1.621246337890625e-05),\n",
       " (359, 2.4080276489257812e-05),\n",
       " (1291, 0.0003209114074707031),\n",
       " (4641, 0.00037598609924316406),\n",
       " (16681, 0.001814126968383789),\n",
       " (59948, 0.006801128387451172),\n",
       " (215443, 0.03313112258911133),\n",
       " (774263, 0.15571212768554688),\n",
       " (2782559, 0.6049847602844238),\n",
       " (10000000, 1.7199029922485352),\n",
       " (100, 1.5974044799804688e-05),\n",
       " (359, 2.5033950805664062e-05),\n",
       " (1291, 0.0003440380096435547),\n",
       " (4641, 0.0003421306610107422),\n",
       " (16681, 0.0018031597137451172),\n",
       " (59948, 0.006997108459472656),\n",
       " (215443, 0.031203031539916992),\n",
       " (774263, 0.14743566513061523),\n",
       " (2782559, 0.6064853668212891),\n",
       " (10000000, 1.7344470024108887),\n",
       " (100, 1.6927719116210938e-05),\n",
       " (359, 2.5987625122070312e-05),\n",
       " (1291, 0.00033211708068847656),\n",
       " (4641, 0.00034928321838378906),\n",
       " (16681, 0.0017180442810058594),\n",
       " (59948, 0.006625175476074219),\n",
       " (215443, 0.029460906982421875),\n",
       " (774263, 0.14785504341125488),\n",
       " (2782559, 0.6139671802520752),\n",
       " (10000000, 1.7137799263000488),\n",
       " (100, 1.5974044799804688e-05),\n",
       " (359, 2.6226043701171875e-05),\n",
       " (1291, 0.0003190040588378906),\n",
       " (4641, 0.0003409385681152344),\n",
       " (16681, 0.0017769336700439453),\n",
       " (59948, 0.006579875946044922),\n",
       " (215443, 0.029366016387939453),\n",
       " (774263, 0.14693403244018555),\n",
       " (2782559, 0.601377010345459),\n",
       " (10000000, 1.7137749195098877),\n",
       " (100, 1.5020370483398438e-05),\n",
       " (359, 5.125999450683594e-05),\n",
       " (1291, 0.000324249267578125),\n",
       " (4641, 0.00034689903259277344),\n",
       " (16681, 0.0020339488983154297),\n",
       " (59948, 0.006681919097900391),\n",
       " (215443, 0.03136396408081055),\n",
       " (774263, 0.15361523628234863),\n",
       " (2782559, 0.6065340042114258),\n",
       " (10000000, 1.690554141998291),\n",
       " (100, 1.52587890625e-05),\n",
       " (359, 2.5033950805664062e-05),\n",
       " (1291, 0.0003161430358886719),\n",
       " (4641, 0.0003440380096435547),\n",
       " (16681, 0.0017750263214111328),\n",
       " (59948, 0.006606101989746094),\n",
       " (215443, 0.02924633026123047),\n",
       " (774263, 0.14555788040161133),\n",
       " (2782559, 0.5923519134521484),\n",
       " (10000000, 1.697390079498291),\n",
       " (100, 1.5974044799804688e-05),\n",
       " (359, 2.4080276489257812e-05),\n",
       " (1291, 0.0003211498260498047),\n",
       " (4641, 0.0003719329833984375),\n",
       " (16681, 0.001802206039428711),\n",
       " (59948, 0.0066680908203125),\n",
       " (215443, 0.030391693115234375),\n",
       " (774263, 0.14660239219665527),\n",
       " (2782559, 0.5874731540679932),\n",
       " (10000000, 1.722005844116211),\n",
       " (100, 1.5974044799804688e-05),\n",
       " (359, 2.5033950805664062e-05),\n",
       " (1291, 0.0003349781036376953),\n",
       " (4641, 0.0003421306610107422),\n",
       " (16681, 0.0017380714416503906),\n",
       " (59948, 0.006894111633300781),\n",
       " (215443, 0.029725074768066406),\n",
       " (774263, 0.14502906799316406),\n",
       " (2782559, 0.591231107711792),\n",
       " (10000000, 1.6839139461517334),\n",
       " (100, 1.621246337890625e-05),\n",
       " (359, 2.5033950805664062e-05),\n",
       " (1291, 0.0003120899200439453),\n",
       " (4641, 0.0003440380096435547),\n",
       " (16681, 0.0017898082733154297),\n",
       " (59948, 0.006738901138305664),\n",
       " (215443, 0.029948711395263672),\n",
       " (774263, 0.1447761058807373),\n",
       " (2782559, 0.6136109828948975),\n",
       " (10000000, 1.7053871154785156),\n",
       " (100, 1.5020370483398438e-05),\n",
       " (359, 2.5033950805664062e-05),\n",
       " (1291, 0.0003330707550048828),\n",
       " (4641, 0.0003662109375),\n",
       " (16681, 0.0017750263214111328),\n",
       " (59948, 0.006726980209350586),\n",
       " (215443, 0.029735326766967773),\n",
       " (774263, 0.14758968353271484),\n",
       " (2782559, 0.593754768371582),\n",
       " (10000000, 1.6914141178131104)]"
      ]
     },
     "execution_count": 91,
     "metadata": {},
     "output_type": "execute_result"
    }
   ],
   "source": [
    "times"
   ]
  },
  {
   "cell_type": "code",
   "execution_count": 92,
   "metadata": {
    "execution": {
     "iopub.execute_input": "2021-01-13T05:49:47.490607Z",
     "iopub.status.busy": "2021-01-13T05:49:47.490410Z",
     "iopub.status.idle": "2021-01-13T05:49:47.494658Z",
     "shell.execute_reply": "2021-01-13T05:49:47.494021Z",
     "shell.execute_reply.started": "2021-01-13T05:49:47.490587Z"
    }
   },
   "outputs": [],
   "source": [
    "import matplotlib.pyplot as plt\n",
    "import pandas as pd"
   ]
  },
  {
   "cell_type": "code",
   "execution_count": 93,
   "metadata": {
    "execution": {
     "iopub.execute_input": "2021-01-13T05:49:47.608031Z",
     "iopub.status.busy": "2021-01-13T05:49:47.607688Z",
     "iopub.status.idle": "2021-01-13T05:49:47.623417Z",
     "shell.execute_reply": "2021-01-13T05:49:47.622919Z",
     "shell.execute_reply.started": "2021-01-13T05:49:47.607996Z"
    }
   },
   "outputs": [],
   "source": [
    "df = pd.DataFrame(times)\n",
    "df.columns = [\"x\", \"time\"]\n",
    "df[\"log_x\"] = np.log(df.x)\n",
    "df[\"log_time\"] = np.log(df.time)"
   ]
  },
  {
   "cell_type": "code",
   "execution_count": 97,
   "metadata": {
    "execution": {
     "iopub.execute_input": "2021-01-13T05:50:33.917373Z",
     "iopub.status.busy": "2021-01-13T05:50:33.917109Z",
     "iopub.status.idle": "2021-01-13T05:50:45.954944Z",
     "shell.execute_reply": "2021-01-13T05:50:45.954361Z",
     "shell.execute_reply.started": "2021-01-13T05:50:33.917342Z"
    }
   },
   "outputs": [
    {
     "data": {
      "text/plain": [
       "<AxesSubplot:xlabel='log_x', ylabel='log_time'>"
      ]
     },
     "execution_count": 97,
     "metadata": {},
     "output_type": "execute_result"
    },
    {
     "data": {
      "image/png": "[encoded data removed]",
      "text/plain": [
       "<Figure size 432x288 with 1 Axes>"
      ]
     },
     "metadata": {
      "needs_background": "light"
     },
     "output_type": "display_data"
    }
   ],
   "source": [
    "df.plot(\"log_x\", \"log_time\", \"scatter\")"
   ]
  },
  {
   "cell_type": "code",
   "execution_count": 99,
   "metadata": {
    "execution": {
     "iopub.execute_input": "2021-01-13T05:51:24.564681Z",
     "iopub.status.busy": "2021-01-13T05:51:24.564341Z",
     "iopub.status.idle": "2021-01-13T05:51:24.580463Z",
     "shell.execute_reply": "2021-01-13T05:51:24.579184Z",
     "shell.execute_reply.started": "2021-01-13T05:51:24.564643Z"
    }
   },
   "outputs": [
    {
     "data": {
      "text/plain": [
       "(array([1.04069945]), -16.208882547301524)"
      ]
     },
     "execution_count": 99,
     "metadata": {},
     "output_type": "execute_result"
    }
   ],
   "source": [
    "from sklearn.linear_model import LinearRegression\n",
    "model = LinearRegression()\n",
    "model.fit(df.log_x.values.reshape((-1, 1)), df.log_time)\n",
    "model.coef_, model.intercept_"
   ]
  },
  {
   "cell_type": "markdown",
   "metadata": {},
   "source": [
    "pythonのset.intersectionは線形時間で計算できるぽい"
   ]
  }
 ],
 "metadata": {
  "kernelspec": {
   "display_name": "Python 3",
   "language": "python",
   "name": "python3"
  },
  "language_info": {
   "codemirror_mode": {
    "name": "ipython",
    "version": 3
   },
   "file_extension": ".py",
   "mimetype": "text/x-python",
   "name": "python",
   "nbconvert_exporter": "python",
   "pygments_lexer": "ipython3",
   "version": "3.8.5"
  }
 },
 "nbformat": 4,
 "nbformat_minor": 4
}
