{
 "cells": [
  {
   "cell_type": "code",
   "execution_count": 15,
   "id": "bab2cd09-c3ee-442f-b78f-7d957bd8e7f4",
   "metadata": {},
   "outputs": [],
   "source": [
    "from sklearn.feature_extraction.text import TfidfTransformer, CountVectorizer"
   ]
  },
  {
   "cell_type": "markdown",
   "id": "92cd6e84-76de-4cec-a40a-f5ad46df6b90",
   "metadata": {},
   "source": [
    "## ワードカウント"
   ]
  },
  {
   "cell_type": "markdown",
   "id": "641ec647-714b-40c8-bee8-44c6c3b48bb7",
   "metadata": {},
   "source": [
    "ワードカウントには`CountVectorizer`"
   ]
  },
  {
   "cell_type": "code",
   "execution_count": 28,
   "id": "6a0a10b9-3a0f-494b-ad62-73d0ee27a197",
   "metadata": {},
   "outputs": [],
   "source": [
    "cv = CountVectorizer()"
   ]
  },
  {
   "cell_type": "markdown",
   "id": "921fea9f-fe4e-4ecd-89a6-b51ef0542335",
   "metadata": {},
   "source": [
    "このコーパスを分析してみる"
   ]
  },
  {
   "cell_type": "code",
   "execution_count": 29,
   "id": "0de7df68-ba2a-4761-99a9-ac846bb94e46",
   "metadata": {},
   "outputs": [],
   "source": [
    "corpus = [\n",
    "    'This is the first document.',\n",
    "    'This is the second second document.',\n",
    "    'And the third one.',\n",
    "    'Is this the first document?',\n",
    "]"
   ]
  },
  {
   "cell_type": "markdown",
   "id": "6bc21ac0-3b8f-4076-b76d-14b2e42d2020",
   "metadata": {},
   "source": [
    "vectorize = オブジェクト(文書)を一定次元のベクトルに変換"
   ]
  },
  {
   "cell_type": "code",
   "execution_count": 35,
   "id": "50a3b0fc-1574-4df2-8775-58214cc52739",
   "metadata": {},
   "outputs": [],
   "source": [
    "X = cv.fit_transform(corpus)"
   ]
  },
  {
   "cell_type": "code",
   "execution_count": 37,
   "id": "4409e7ca-ede8-4bcd-a6ac-0ca599b5b288",
   "metadata": {},
   "outputs": [
    {
     "name": "stdout",
     "output_type": "stream",
     "text": [
      "(4, 9)\n"
     ]
    }
   ],
   "source": [
    "print(X.shape)"
   ]
  },
  {
   "cell_type": "markdown",
   "id": "e30ec6e5-c120-4a4c-b757-b3484bf6c2b7",
   "metadata": {},
   "source": [
    "- 4行: 4文書\n",
    "- 9列: ボキャブラリーサイズが9"
   ]
  },
  {
   "cell_type": "code",
   "execution_count": 38,
   "id": "63618af4-c7a8-4158-965e-0d01b987952f",
   "metadata": {},
   "outputs": [
    {
     "name": "stdout",
     "output_type": "stream",
     "text": [
      "  (0, 8)\t1\n",
      "  (0, 3)\t1\n",
      "  (0, 6)\t1\n",
      "  (0, 2)\t1\n",
      "  (0, 1)\t1\n",
      "  (1, 8)\t1\n",
      "  (1, 3)\t1\n",
      "  (1, 6)\t1\n",
      "  (1, 1)\t1\n",
      "  (1, 5)\t2\n",
      "  (2, 6)\t1\n",
      "  (2, 0)\t1\n",
      "  (2, 7)\t1\n",
      "  (2, 4)\t1\n",
      "  (3, 8)\t1\n",
      "  (3, 3)\t1\n",
      "  (3, 6)\t1\n",
      "  (3, 2)\t1\n",
      "  (3, 1)\t1\n"
     ]
    }
   ],
   "source": [
    "print(X)"
   ]
  },
  {
   "cell_type": "markdown",
   "id": "a4874045-9ad3-4607-bb84-18b619bbc4bd",
   "metadata": {},
   "source": [
    "疎行列で表現される"
   ]
  },
  {
   "cell_type": "code",
   "execution_count": 39,
   "id": "d9be63fd-9b0d-42cb-ba54-967c3bc45a46",
   "metadata": {},
   "outputs": [
    {
     "data": {
      "text/plain": [
       "array([[0, 1, 1, 1, 0, 0, 1, 0, 1],\n",
       "       [0, 1, 0, 1, 0, 2, 1, 0, 1],\n",
       "       [1, 0, 0, 0, 1, 0, 1, 1, 0],\n",
       "       [0, 1, 1, 1, 0, 0, 1, 0, 1]])"
      ]
     },
     "execution_count": 39,
     "metadata": {},
     "output_type": "execute_result"
    }
   ],
   "source": [
    "X.toarray()"
   ]
  },
  {
   "cell_type": "markdown",
   "id": "462eba71-d1b3-491d-b0f1-bfd09ec4cbd8",
   "metadata": {},
   "source": [
    "通常の行列にするには`toarray`"
   ]
  },
  {
   "cell_type": "code",
   "execution_count": 41,
   "id": "40fc74d6-34e5-4845-94c1-caa54f17adb0",
   "metadata": {},
   "outputs": [
    {
     "data": {
      "text/plain": [
       "array(['and', 'document', 'first', 'is', 'one', 'second', 'the', 'third',\n",
       "       'this'], dtype=object)"
      ]
     },
     "execution_count": 41,
     "metadata": {},
     "output_type": "execute_result"
    }
   ],
   "source": [
    "vocs = cv.get_feature_names_out()\n",
    "vocs"
   ]
  },
  {
   "cell_type": "markdown",
   "id": "9c1468a6-b38f-4b3e-99ac-61265f205587",
   "metadata": {},
   "source": [
    "列名にアクセスすれば単語が得られる"
   ]
  },
  {
   "cell_type": "code",
   "execution_count": 59,
   "id": "cb7a25d4-399f-4deb-b701-09c0737fc7d2",
   "metadata": {},
   "outputs": [],
   "source": [
    "cv2 = CountVectorizer(vocabulary=list(reversed(vocs)))"
   ]
  },
  {
   "cell_type": "markdown",
   "id": "44db34e3-6304-444c-9fd6-ca7a1e8f49db",
   "metadata": {},
   "source": [
    "vocabulary(単語→idの辞書)を外から与えることも可能"
   ]
  },
  {
   "cell_type": "code",
   "execution_count": 61,
   "id": "8f3563c0-9b8e-4f05-8b7e-9c32ce0583fc",
   "metadata": {},
   "outputs": [
    {
     "data": {
      "text/plain": [
       "array([[1, 0, 1, 0, 0, 1, 1, 1, 0],\n",
       "       [1, 0, 1, 2, 0, 1, 0, 1, 0],\n",
       "       [0, 1, 1, 0, 1, 0, 0, 0, 1],\n",
       "       [1, 0, 1, 0, 0, 1, 1, 1, 0]])"
      ]
     },
     "execution_count": 61,
     "metadata": {},
     "output_type": "execute_result"
    }
   ],
   "source": [
    "X2 = cv2.fit_transform(corpus)\n",
    "X2.toarray()"
   ]
  },
  {
   "cell_type": "markdown",
   "id": "33a72703-c1b9-4c4e-97f2-c9f140f4586a",
   "metadata": {},
   "source": [
    "↑X2はXを左右反転した形になっている(辞書の単語順を逆転させたので)"
   ]
  },
  {
   "cell_type": "code",
   "execution_count": 62,
   "id": "aa94cf0c-9730-4e9a-ad18-f0af7977fa0b",
   "metadata": {},
   "outputs": [],
   "source": [
    "tit = TfidfTransformer(smooth_idf=False)"
   ]
  },
  {
   "cell_type": "code",
   "execution_count": 67,
   "id": "c2a7b4a2-e91a-4e87-a141-e5b2afe6fcfd",
   "metadata": {},
   "outputs": [
    {
     "data": {
      "text/plain": [
       "array([[0.        , 0.43306685, 0.56943086, 0.43306685, 0.        ,\n",
       "        0.        , 0.33631504, 0.        , 0.43306685],\n",
       "       [0.        , 0.24014568, 0.        , 0.24014568, 0.        ,\n",
       "        0.89006176, 0.18649454, 0.        , 0.24014568],\n",
       "       [0.56115953, 0.        , 0.        , 0.        , 0.56115953,\n",
       "        0.        , 0.23515939, 0.56115953, 0.        ],\n",
       "       [0.        , 0.43306685, 0.56943086, 0.43306685, 0.        ,\n",
       "        0.        , 0.33631504, 0.        , 0.43306685]])"
      ]
     },
     "execution_count": 67,
     "metadata": {},
     "output_type": "execute_result"
    }
   ],
   "source": [
    "X3 = tit.fit_transform(X)\n",
    "X3.toarray()"
   ]
  },
  {
   "cell_type": "code",
   "execution_count": 68,
   "id": "47c4da39-2b4e-4fdd-91cb-0e72535cd36f",
   "metadata": {},
   "outputs": [
    {
     "data": {
      "text/plain": [
       "(4, 9)"
      ]
     },
     "execution_count": 68,
     "metadata": {},
     "output_type": "execute_result"
    }
   ],
   "source": [
    "X3.shape"
   ]
  }
 ],
 "metadata": {
  "kernelspec": {
   "display_name": "Python 3 (ipykernel)",
   "language": "python",
   "name": "python3"
  },
  "language_info": {
   "codemirror_mode": {
    "name": "ipython",
    "version": 3
   },
   "file_extension": ".py",
   "mimetype": "text/x-python",
   "name": "python",
   "nbconvert_exporter": "python",
   "pygments_lexer": "ipython3",
   "version": "3.10.5"
  }
 },
 "nbformat": 4,
 "nbformat_minor": 5
}
