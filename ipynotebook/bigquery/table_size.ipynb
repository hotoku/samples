{
 "cells": [
  {
   "cell_type": "code",
   "execution_count": 1,
   "metadata": {
    "execution": {
     "iopub.execute_input": "2020-12-22T02:11:38.663030Z",
     "iopub.status.busy": "2020-12-22T02:11:38.662652Z",
     "iopub.status.idle": "2020-12-22T02:11:38.669400Z",
     "shell.execute_reply": "2020-12-22T02:11:38.668499Z",
     "shell.execute_reply.started": "2020-12-22T02:11:38.662937Z"
    }
   },
   "outputs": [],
   "source": [
    "import os\n",
    "os.environ[\"GOOGLE_APPLICATION_CREDENTIALS\"]=\"/Users/hotoku/.config/gcloud/legacy_credentials/dtws_yasunori_horikoshi@oaklawn.co.jp/adc.json\""
   ]
  },
  {
   "cell_type": "code",
   "execution_count": 2,
   "metadata": {
    "execution": {
     "iopub.execute_input": "2020-12-22T02:11:39.493789Z",
     "iopub.status.busy": "2020-12-22T02:11:39.493251Z",
     "iopub.status.idle": "2020-12-22T02:11:41.212971Z",
     "shell.execute_reply": "2020-12-22T02:11:41.212308Z",
     "shell.execute_reply.started": "2020-12-22T02:11:39.493714Z"
    }
   },
   "outputs": [],
   "source": [
    "from google.cloud import bigquery\n",
    "\n",
    "client = bigquery.Client(\n",
    "    project=\"olm-pipeline-dev\",\n",
    "    location=\"asia-northeast1\"\n",
    ")"
   ]
  },
  {
   "cell_type": "code",
   "execution_count": 3,
   "metadata": {
    "execution": {
     "iopub.execute_input": "2020-12-22T02:13:19.438578Z",
     "iopub.status.busy": "2020-12-22T02:13:19.438128Z",
     "iopub.status.idle": "2020-12-22T02:13:19.872053Z",
     "shell.execute_reply": "2020-12-22T02:13:19.870343Z",
     "shell.execute_reply.started": "2020-12-22T02:13:19.438539Z"
    }
   },
   "outputs": [],
   "source": [
    "table = client.get_table(\"olm-datamart-prd.gps.filter6_staymove6_homework7_total7_mean_median_20201210\")"
   ]
  },
  {
   "cell_type": "code",
   "execution_count": 5,
   "metadata": {
    "execution": {
     "iopub.execute_input": "2020-12-22T02:14:05.398291Z",
     "iopub.status.busy": "2020-12-22T02:14:05.397638Z",
     "iopub.status.idle": "2020-12-22T02:14:05.497077Z",
     "shell.execute_reply": "2020-12-22T02:14:05.468867Z",
     "shell.execute_reply.started": "2020-12-22T02:14:05.398258Z"
    }
   },
   "outputs": [
    {
     "data": {
      "text/plain": [
       "(18071746852, 100235292)"
      ]
     },
     "execution_count": 5,
     "metadata": {},
     "output_type": "execute_result"
    }
   ],
   "source": [
    "table.num_bytes, table.num_rows"
   ]
  }
 ],
 "metadata": {
  "kernelspec": {
   "display_name": "Python 3",
   "language": "python",
   "name": "python3"
  },
  "language_info": {
   "codemirror_mode": {
    "name": "ipython",
    "version": 3
   },
   "file_extension": ".py",
   "mimetype": "text/x-python",
   "name": "python",
   "nbconvert_exporter": "python",
   "pygments_lexer": "ipython3",
   "version": "3.8.5"
  }
 },
 "nbformat": 4,
 "nbformat_minor": 4
}
