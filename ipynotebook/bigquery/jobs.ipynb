{
 "cells": [
  {
   "cell_type": "markdown",
   "metadata": {},
   "source": [
    "環境変数`GOOGLE_APPLICATION_CREDENTIALS`が設定されている必要がある。\n",
    "値は👇"
   ]
  },
  {
   "cell_type": "code",
   "execution_count": 3,
   "metadata": {},
   "outputs": [
    {
     "name": "stdout",
     "output_type": "stream",
     "text": [
      "BASH_EXECUTION_STRING='set | grep GOOGLE'\n",
      "GOOGLE_APPLICATION_CREDENTIALS=/Users/hotoku/.config/gcloud/legacy_credentials/dtws_yasunori_horikoshi@oaklawn.co.jp/adc.json\n"
     ]
    }
   ],
   "source": [
    "!set | grep GOOGLE"
   ]
  },
  {
   "cell_type": "code",
   "execution_count": 1,
   "metadata": {},
   "outputs": [],
   "source": [
    "from google.cloud import bigquery\n",
    "\n",
    "client = bigquery.Client(\n",
    "    project=\"olm-pipeline-dev\",\n",
    "    location=\"asia-northeast1\"\n",
    ")"
   ]
  },
  {
   "cell_type": "code",
   "execution_count": 17,
   "metadata": {},
   "outputs": [],
   "source": [
    "jobs = client.list_jobs(all_users=True)\n",
    "itr = iter(jobs)\n",
    "job = next(itr)"
   ]
  },
  {
   "cell_type": "code",
   "execution_count": 22,
   "metadata": {},
   "outputs": [
    {
     "data": {
      "text/plain": [
       "['add_done_callback',\n",
       " 'allow_large_results',\n",
       " 'billing_tier',\n",
       " 'cache_hit',\n",
       " 'cancel',\n",
       " 'cancelled',\n",
       " 'clustering_fields',\n",
       " 'create_disposition',\n",
       " 'created',\n",
       " 'ddl_operation_performed',\n",
       " 'ddl_target_routine',\n",
       " 'ddl_target_table',\n",
       " 'default_dataset',\n",
       " 'destination',\n",
       " 'destination_encryption_configuration',\n",
       " 'done',\n",
       " 'dry_run',\n",
       " 'ended',\n",
       " 'error_result',\n",
       " 'errors',\n",
       " 'estimated_bytes_processed',\n",
       " 'etag',\n",
       " 'exception',\n",
       " 'exists',\n",
       " 'flatten_results',\n",
       " 'from_api_repr',\n",
       " 'job_id',\n",
       " 'job_type',\n",
       " 'labels',\n",
       " 'location',\n",
       " 'maximum_billing_tier',\n",
       " 'maximum_bytes_billed',\n",
       " 'num_child_jobs',\n",
       " 'num_dml_affected_rows',\n",
       " 'parent_job_id',\n",
       " 'path',\n",
       " 'priority',\n",
       " 'project',\n",
       " 'query',\n",
       " 'query_parameters',\n",
       " 'query_plan',\n",
       " 'range_partitioning',\n",
       " 'referenced_tables',\n",
       " 'reload',\n",
       " 'result',\n",
       " 'running',\n",
       " 'schema_update_options',\n",
       " 'script_statistics',\n",
       " 'self_link',\n",
       " 'set_exception',\n",
       " 'set_result',\n",
       " 'slot_millis',\n",
       " 'started',\n",
       " 'state',\n",
       " 'statement_type',\n",
       " 'table_definitions',\n",
       " 'time_partitioning',\n",
       " 'timeline',\n",
       " 'to_api_repr',\n",
       " 'to_arrow',\n",
       " 'to_dataframe',\n",
       " 'total_bytes_billed',\n",
       " 'total_bytes_processed',\n",
       " 'udf_resources',\n",
       " 'undeclared_query_parameters',\n",
       " 'use_legacy_sql',\n",
       " 'use_query_cache',\n",
       " 'user_email',\n",
       " 'write_disposition']"
      ]
     },
     "execution_count": 22,
     "metadata": {},
     "output_type": "execute_result"
    }
   ],
   "source": [
    "[l for l in dir(job) if not l[0] == \"_\"]"
   ]
  },
  {
   "cell_type": "code",
   "execution_count": 34,
   "metadata": {},
   "outputs": [
    {
     "name": "stdout",
     "output_type": "stream",
     "text": [
      "job.total_bytes_billed=20971520, job.cache_hit=False, job.job_type='query', job.started=datetime.datetime(2020, 11, 20, 3, 33, 9, 136000, tzinfo=<UTC>), job.job_id='job_cQBXX9TGV8p_w-Zf89oUSSrG4oFx'\n"
     ]
    }
   ],
   "source": [
    "print(f\"{job.total_bytes_billed=}, {job.cache_hit=}, {job.job_type=}, {job.started=}, {job.job_id=}\")"
   ]
  },
  {
   "cell_type": "code",
   "execution_count": 45,
   "metadata": {},
   "outputs": [],
   "source": [
    "from datetime import datetime, timezone\n",
    "import pandas as pd"
   ]
  },
  {
   "cell_type": "code",
   "execution_count": 49,
   "metadata": {},
   "outputs": [],
   "source": [
    "jobs = iter(client.list_jobs(all_users=True))\n",
    "_df = {}\n",
    "for job in jobs:\n",
    "    if job.job_type != \"query\":\n",
    "        continue\n",
    "    if job.cache_hit:\n",
    "        continue\n",
    "    if (datetime.now(tz=timezone.utc) - job.started).days > 10:\n",
    "        break\n",
    "    _df[job.job_id] = dict(\n",
    "        total_bytes_billed = job.total_bytes_billed,\n",
    "        started=job.started,\n",
    "        job_id=job.job_id,\n",
    "        query=job.query\n",
    "    )\n",
    "df = pd.DataFrame.from_dict(_df, orient=\"index\")    "
   ]
  },
  {
   "cell_type": "code",
   "execution_count": 51,
   "metadata": {},
   "outputs": [
    {
     "data": {
      "text/plain": [
       "34098"
      ]
     },
     "execution_count": 51,
     "metadata": {},
     "output_type": "execute_result"
    }
   ],
   "source": [
    "len(df)"
   ]
  },
  {
   "cell_type": "code",
   "execution_count": 55,
   "metadata": {},
   "outputs": [
    {
     "data": {
      "text/html": [
       "<div>\n",
       "<style scoped>\n",
       "    .dataframe tbody tr th:only-of-type {\n",
       "        vertical-align: middle;\n",
       "    }\n",
       "\n",
       "    .dataframe tbody tr th {\n",
       "        vertical-align: top;\n",
       "    }\n",
       "\n",
       "    .dataframe thead th {\n",
       "        text-align: right;\n",
       "    }\n",
       "</style>\n",
       "<table border=\"1\" class=\"dataframe\">\n",
       "  <thead>\n",
       "    <tr style=\"text-align: right;\">\n",
       "      <th></th>\n",
       "      <th>total_bytes_billed</th>\n",
       "      <th>started</th>\n",
       "      <th>job_id</th>\n",
       "      <th>query</th>\n",
       "      <th>scan</th>\n",
       "      <th>scan_gib</th>\n",
       "    </tr>\n",
       "  </thead>\n",
       "  <tbody>\n",
       "    <tr>\n",
       "      <th>job_x7Rj1JN_mVkrbXsTIwY43Ob3WHaU</th>\n",
       "      <td>3.145728e+07</td>\n",
       "      <td>2020-11-20 03:53:14.495000+00:00</td>\n",
       "      <td>job_x7Rj1JN_mVkrbXsTIwY43Ob3WHaU</td>\n",
       "      <td>\\n\\nwith temp1 as (\\nselect\\n  l.uuid,\\n  l.la...</td>\n",
       "      <td>0.031457</td>\n",
       "      <td>0.029297</td>\n",
       "    </tr>\n",
       "    <tr>\n",
       "      <th>job_OQ4viGD4zhARb6sYfJ0eH3lW59Dq</th>\n",
       "      <td>3.145728e+07</td>\n",
       "      <td>2020-11-20 03:53:14.469000+00:00</td>\n",
       "      <td>job_OQ4viGD4zhARb6sYfJ0eH3lW59Dq</td>\n",
       "      <td>\\n\\nwith temp1 as (\\nselect\\n  l.uuid,\\n  l.la...</td>\n",
       "      <td>0.031457</td>\n",
       "      <td>0.029297</td>\n",
       "    </tr>\n",
       "    <tr>\n",
       "      <th>job_NFRYDITud3b-OzhurC3hmOk5CNnm</th>\n",
       "      <td>3.145728e+07</td>\n",
       "      <td>2020-11-20 03:53:14.166000+00:00</td>\n",
       "      <td>job_NFRYDITud3b-OzhurC3hmOk5CNnm</td>\n",
       "      <td>\\n\\nwith temp1 as (\\nselect\\n  l.uuid,\\n  l.la...</td>\n",
       "      <td>0.031457</td>\n",
       "      <td>0.029297</td>\n",
       "    </tr>\n",
       "    <tr>\n",
       "      <th>job_gCX3yRTJHgXKo-KVII4vHUJvc_mg</th>\n",
       "      <td>2.097152e+07</td>\n",
       "      <td>2020-11-20 03:52:59.577000+00:00</td>\n",
       "      <td>job_gCX3yRTJHgXKo-KVII4vHUJvc_mg</td>\n",
       "      <td>\\n\\ncreate temp function mymin(x float64, y fl...</td>\n",
       "      <td>0.020972</td>\n",
       "      <td>0.019531</td>\n",
       "    </tr>\n",
       "    <tr>\n",
       "      <th>job_EI5wFoGVBTVLwKJmyCHeKLDPTyDt</th>\n",
       "      <td>2.097152e+07</td>\n",
       "      <td>2020-11-20 03:52:59.495000+00:00</td>\n",
       "      <td>job_EI5wFoGVBTVLwKJmyCHeKLDPTyDt</td>\n",
       "      <td>\\n\\ncreate temp function mymin(x float64, y fl...</td>\n",
       "      <td>0.020972</td>\n",
       "      <td>0.019531</td>\n",
       "    </tr>\n",
       "    <tr>\n",
       "      <th>...</th>\n",
       "      <td>...</td>\n",
       "      <td>...</td>\n",
       "      <td>...</td>\n",
       "      <td>...</td>\n",
       "      <td>...</td>\n",
       "      <td>...</td>\n",
       "    </tr>\n",
       "    <tr>\n",
       "      <th>5de899ba-7800-4c8f-9423-5869956e5ec0</th>\n",
       "      <td>1.048576e+07</td>\n",
       "      <td>2020-11-09 13:02:42.884000+00:00</td>\n",
       "      <td>5de899ba-7800-4c8f-9423-5869956e5ec0</td>\n",
       "      <td>#standardSQL\\n\\nCREATE TEMP FUNCTION geoToH3(l...</td>\n",
       "      <td>0.010486</td>\n",
       "      <td>0.009766</td>\n",
       "    </tr>\n",
       "    <tr>\n",
       "      <th>job_mVkV-OwEOsfrmt9O2rahvygTdWOC</th>\n",
       "      <td>1.121662e+10</td>\n",
       "      <td>2020-11-09 13:00:17.711000+00:00</td>\n",
       "      <td>job_mVkV-OwEOsfrmt9O2rahvygTdWOC</td>\n",
       "      <td>#standardSQL\\n\\nCREATE TEMP FUNCTION geoToH3(l...</td>\n",
       "      <td>11.216617</td>\n",
       "      <td>10.446289</td>\n",
       "    </tr>\n",
       "    <tr>\n",
       "      <th>bqjob_r46a6039d15a1dbde_00000175ab870305_1</th>\n",
       "      <td>0.000000e+00</td>\n",
       "      <td>2020-11-09 05:42:34.001000+00:00</td>\n",
       "      <td>bqjob_r46a6039d15a1dbde_00000175ab870305_1</td>\n",
       "      <td>#standardSQL\\n\\nwith t as (\\n  (select 1 as x,...</td>\n",
       "      <td>0.000000</td>\n",
       "      <td>0.000000</td>\n",
       "    </tr>\n",
       "    <tr>\n",
       "      <th>bqjob_r1320679255804d15_00000175ab86e616_1</th>\n",
       "      <td>NaN</td>\n",
       "      <td>2020-11-09 05:42:26.470000+00:00</td>\n",
       "      <td>bqjob_r1320679255804d15_00000175ab86e616_1</td>\n",
       "      <td>#standardSQL\\n\\nwith t as (\\n  (select 1 as x,...</td>\n",
       "      <td>NaN</td>\n",
       "      <td>NaN</td>\n",
       "    </tr>\n",
       "    <tr>\n",
       "      <th>bqjob_ra445b32795fa4eb_00000175ab86bd8c_1</th>\n",
       "      <td>0.000000e+00</td>\n",
       "      <td>2020-11-09 05:42:16.741000+00:00</td>\n",
       "      <td>bqjob_ra445b32795fa4eb_00000175ab86bd8c_1</td>\n",
       "      <td>#standardSQL\\n\\nwith t as (\\n  (select 1 as x,...</td>\n",
       "      <td>0.000000</td>\n",
       "      <td>0.000000</td>\n",
       "    </tr>\n",
       "  </tbody>\n",
       "</table>\n",
       "<p>34098 rows × 6 columns</p>\n",
       "</div>"
      ],
      "text/plain": [
       "                                            total_bytes_billed  \\\n",
       "job_x7Rj1JN_mVkrbXsTIwY43Ob3WHaU                  3.145728e+07   \n",
       "job_OQ4viGD4zhARb6sYfJ0eH3lW59Dq                  3.145728e+07   \n",
       "job_NFRYDITud3b-OzhurC3hmOk5CNnm                  3.145728e+07   \n",
       "job_gCX3yRTJHgXKo-KVII4vHUJvc_mg                  2.097152e+07   \n",
       "job_EI5wFoGVBTVLwKJmyCHeKLDPTyDt                  2.097152e+07   \n",
       "...                                                        ...   \n",
       "5de899ba-7800-4c8f-9423-5869956e5ec0              1.048576e+07   \n",
       "job_mVkV-OwEOsfrmt9O2rahvygTdWOC                  1.121662e+10   \n",
       "bqjob_r46a6039d15a1dbde_00000175ab870305_1        0.000000e+00   \n",
       "bqjob_r1320679255804d15_00000175ab86e616_1                 NaN   \n",
       "bqjob_ra445b32795fa4eb_00000175ab86bd8c_1         0.000000e+00   \n",
       "\n",
       "                                                                    started  \\\n",
       "job_x7Rj1JN_mVkrbXsTIwY43Ob3WHaU           2020-11-20 03:53:14.495000+00:00   \n",
       "job_OQ4viGD4zhARb6sYfJ0eH3lW59Dq           2020-11-20 03:53:14.469000+00:00   \n",
       "job_NFRYDITud3b-OzhurC3hmOk5CNnm           2020-11-20 03:53:14.166000+00:00   \n",
       "job_gCX3yRTJHgXKo-KVII4vHUJvc_mg           2020-11-20 03:52:59.577000+00:00   \n",
       "job_EI5wFoGVBTVLwKJmyCHeKLDPTyDt           2020-11-20 03:52:59.495000+00:00   \n",
       "...                                                                     ...   \n",
       "5de899ba-7800-4c8f-9423-5869956e5ec0       2020-11-09 13:02:42.884000+00:00   \n",
       "job_mVkV-OwEOsfrmt9O2rahvygTdWOC           2020-11-09 13:00:17.711000+00:00   \n",
       "bqjob_r46a6039d15a1dbde_00000175ab870305_1 2020-11-09 05:42:34.001000+00:00   \n",
       "bqjob_r1320679255804d15_00000175ab86e616_1 2020-11-09 05:42:26.470000+00:00   \n",
       "bqjob_ra445b32795fa4eb_00000175ab86bd8c_1  2020-11-09 05:42:16.741000+00:00   \n",
       "\n",
       "                                                                                job_id  \\\n",
       "job_x7Rj1JN_mVkrbXsTIwY43Ob3WHaU                      job_x7Rj1JN_mVkrbXsTIwY43Ob3WHaU   \n",
       "job_OQ4viGD4zhARb6sYfJ0eH3lW59Dq                      job_OQ4viGD4zhARb6sYfJ0eH3lW59Dq   \n",
       "job_NFRYDITud3b-OzhurC3hmOk5CNnm                      job_NFRYDITud3b-OzhurC3hmOk5CNnm   \n",
       "job_gCX3yRTJHgXKo-KVII4vHUJvc_mg                      job_gCX3yRTJHgXKo-KVII4vHUJvc_mg   \n",
       "job_EI5wFoGVBTVLwKJmyCHeKLDPTyDt                      job_EI5wFoGVBTVLwKJmyCHeKLDPTyDt   \n",
       "...                                                                                ...   \n",
       "5de899ba-7800-4c8f-9423-5869956e5ec0              5de899ba-7800-4c8f-9423-5869956e5ec0   \n",
       "job_mVkV-OwEOsfrmt9O2rahvygTdWOC                      job_mVkV-OwEOsfrmt9O2rahvygTdWOC   \n",
       "bqjob_r46a6039d15a1dbde_00000175ab870305_1  bqjob_r46a6039d15a1dbde_00000175ab870305_1   \n",
       "bqjob_r1320679255804d15_00000175ab86e616_1  bqjob_r1320679255804d15_00000175ab86e616_1   \n",
       "bqjob_ra445b32795fa4eb_00000175ab86bd8c_1    bqjob_ra445b32795fa4eb_00000175ab86bd8c_1   \n",
       "\n",
       "                                                                                        query  \\\n",
       "job_x7Rj1JN_mVkrbXsTIwY43Ob3WHaU            \\n\\nwith temp1 as (\\nselect\\n  l.uuid,\\n  l.la...   \n",
       "job_OQ4viGD4zhARb6sYfJ0eH3lW59Dq            \\n\\nwith temp1 as (\\nselect\\n  l.uuid,\\n  l.la...   \n",
       "job_NFRYDITud3b-OzhurC3hmOk5CNnm            \\n\\nwith temp1 as (\\nselect\\n  l.uuid,\\n  l.la...   \n",
       "job_gCX3yRTJHgXKo-KVII4vHUJvc_mg            \\n\\ncreate temp function mymin(x float64, y fl...   \n",
       "job_EI5wFoGVBTVLwKJmyCHeKLDPTyDt            \\n\\ncreate temp function mymin(x float64, y fl...   \n",
       "...                                                                                       ...   \n",
       "5de899ba-7800-4c8f-9423-5869956e5ec0        #standardSQL\\n\\nCREATE TEMP FUNCTION geoToH3(l...   \n",
       "job_mVkV-OwEOsfrmt9O2rahvygTdWOC            #standardSQL\\n\\nCREATE TEMP FUNCTION geoToH3(l...   \n",
       "bqjob_r46a6039d15a1dbde_00000175ab870305_1  #standardSQL\\n\\nwith t as (\\n  (select 1 as x,...   \n",
       "bqjob_r1320679255804d15_00000175ab86e616_1  #standardSQL\\n\\nwith t as (\\n  (select 1 as x,...   \n",
       "bqjob_ra445b32795fa4eb_00000175ab86bd8c_1   #standardSQL\\n\\nwith t as (\\n  (select 1 as x,...   \n",
       "\n",
       "                                                 scan   scan_gib  \n",
       "job_x7Rj1JN_mVkrbXsTIwY43Ob3WHaU             0.031457   0.029297  \n",
       "job_OQ4viGD4zhARb6sYfJ0eH3lW59Dq             0.031457   0.029297  \n",
       "job_NFRYDITud3b-OzhurC3hmOk5CNnm             0.031457   0.029297  \n",
       "job_gCX3yRTJHgXKo-KVII4vHUJvc_mg             0.020972   0.019531  \n",
       "job_EI5wFoGVBTVLwKJmyCHeKLDPTyDt             0.020972   0.019531  \n",
       "...                                               ...        ...  \n",
       "5de899ba-7800-4c8f-9423-5869956e5ec0         0.010486   0.009766  \n",
       "job_mVkV-OwEOsfrmt9O2rahvygTdWOC            11.216617  10.446289  \n",
       "bqjob_r46a6039d15a1dbde_00000175ab870305_1   0.000000   0.000000  \n",
       "bqjob_r1320679255804d15_00000175ab86e616_1        NaN        NaN  \n",
       "bqjob_ra445b32795fa4eb_00000175ab86bd8c_1    0.000000   0.000000  \n",
       "\n",
       "[34098 rows x 6 columns]"
      ]
     },
     "execution_count": 55,
     "metadata": {},
     "output_type": "execute_result"
    }
   ],
   "source": [
    "df[\"scan_gib\"] = df.total_bytes_billed / (1024**3)\n",
    "df"
   ]
  }
 ],
 "metadata": {
  "kernelspec": {
   "display_name": "Python 3",
   "language": "python",
   "name": "python3"
  },
  "language_info": {
   "codemirror_mode": {
    "name": "ipython",
    "version": 3
   },
   "file_extension": ".py",
   "mimetype": "text/x-python",
   "name": "python",
   "nbconvert_exporter": "python",
   "pygments_lexer": "ipython3",
   "version": "3.8.5"
  }
 },
 "nbformat": 4,
 "nbformat_minor": 4
}
