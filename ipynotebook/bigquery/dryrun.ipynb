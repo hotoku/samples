{
 "cells": [
  {
   "cell_type": "code",
   "execution_count": 1,
   "metadata": {},
   "outputs": [],
   "source": [
    "import os\n",
    "os.environ[\"GOOGLE_APPLICATION_CREDENTIALS\"] = \"/Users/hotoku/.config/gcloud/legacy_credentials/dtws_yasunori_horikoshi@oaklawn.co.jp/adc.json\""
   ]
  },
  {
   "cell_type": "code",
   "execution_count": 2,
   "metadata": {},
   "outputs": [],
   "source": [
    "from google.cloud import bigquery\n",
    "\n",
    "client = bigquery.Client(\n",
    "    project=\"olm-user-yasunori-horikoshi\",\n",
    "    location=\"asia-northeast1\"\n",
    ")"
   ]
  },
  {
   "cell_type": "code",
   "execution_count": 4,
   "metadata": {},
   "outputs": [
    {
     "data": {
      "text/plain": [
       "109295701688"
      ]
     },
     "execution_count": 4,
     "metadata": {},
     "output_type": "execute_result"
    }
   ],
   "source": [
    "_sql = \"\"\"\n",
    "with temp1 as (\n",
    "select\n",
    "  uuid,\n",
    "  latitude,\n",
    "  longitude,\n",
    "  datetime_jst as t,\n",
    "  count(1) over (partition by uuid) as cnt\n",
    "from\n",
    "  `olm-datawarehouse-prd.base.filtered2_*`\n",
    "where\n",
    "  _table_suffix like \"202011%\"\n",
    ")\n",
    "select\n",
    "  * except(cnt)\n",
    "from\n",
    "  temp1\n",
    "where\n",
    "  cnt > 30000\n",
    "\"\"\"\n",
    "job1 = client.query(\n",
    "    _sql,\n",
    "    job_config=bigquery.QueryJobConfig(dry_run=True)\n",
    ")\n",
    "job1.total_bytes_processed"
   ]
  }
 ],
 "metadata": {
  "kernelspec": {
   "display_name": "Python 3",
   "language": "python",
   "name": "python3"
  },
  "language_info": {
   "codemirror_mode": {
    "name": "ipython",
    "version": 3
   },
   "file_extension": ".py",
   "mimetype": "text/x-python",
   "name": "python",
   "nbconvert_exporter": "python",
   "pygments_lexer": "ipython3",
   "version": "3.8.5"
  }
 },
 "nbformat": 4,
 "nbformat_minor": 4
}
