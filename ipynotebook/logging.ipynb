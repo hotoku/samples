{
 "cells": [
  {
   "cell_type": "code",
   "execution_count": 2,
   "id": "0cec2977-44fc-4efc-bd40-481c57d954eb",
   "metadata": {},
   "outputs": [],
   "source": [
    "import logging\n",
    "import sys"
   ]
  },
  {
   "cell_type": "markdown",
   "id": "2c86113e-661d-413b-8468-bfb7df08a939",
   "metadata": {},
   "source": [
    "- INFO未満は捨てる\n",
    "- INFOはファイルに書く\n",
    "- WARNING以上は画面に表示する\n",
    "ようなログ設定をする"
   ]
  },
  {
   "cell_type": "code",
   "execution_count": 3,
   "id": "2d31ecba-0eb4-4e38-b3cd-d22ae08ba0cb",
   "metadata": {},
   "outputs": [],
   "source": [
    "def setup_logger(filepath):\n",
    "    root = logging.getLogger()\n",
    "    root.setLevel(logging.INFO)\n",
    "    \n",
    "    to_stderr = logging.StreamHandler(sys.stderr)\n",
    "    to_file = logging.FileHandler(filepath)\n",
    "    \n",
    "    to_stderr.setLevel(logging.WARNING) # stderrはwarn以上を出力\n",
    "    to_file.setLevel(logging.INFO) # fileへはinfo以上を出力\n",
    "    \n",
    "    root.handlers = []\n",
    "    root.addHandler(to_stderr)\n",
    "    root.addHandler(to_file)\n",
    "    \n",
    "    formatter = logging.Formatter(\"%(asctime)s - %(levelname)s - %(message)s\")\n",
    "    to_file.setFormatter(formatter)"
   ]
  },
  {
   "cell_type": "code",
   "execution_count": 4,
   "id": "56243da2-ab18-40cc-9e6e-8cd152237bba",
   "metadata": {},
   "outputs": [],
   "source": [
    "!rm -f logging.log"
   ]
  },
  {
   "cell_type": "code",
   "execution_count": 5,
   "id": "5743a58c-42be-4482-a4a2-e2fad1532fe2",
   "metadata": {},
   "outputs": [],
   "source": [
    "setup_logger(\"logging.log\")"
   ]
  },
  {
   "cell_type": "code",
   "execution_count": 6,
   "id": "46dbf2bc-c77d-4dfb-be5a-f5d781fbbbe2",
   "metadata": {},
   "outputs": [
    {
     "name": "stderr",
     "output_type": "stream",
     "text": [
      "warning\n",
      "error\n"
     ]
    }
   ],
   "source": [
    "logging.debug(\"debug\")\n",
    "logging.info(\"info\")\n",
    "logging.warning(\"warning\")\n",
    "logging.error(\"error\")"
   ]
  },
  {
   "cell_type": "code",
   "execution_count": 7,
   "id": "daedf461-e87f-49c3-b917-92afe1f04018",
   "metadata": {},
   "outputs": [
    {
     "name": "stdout",
     "output_type": "stream",
     "text": [
      "2022-02-22 09:25:32,361 - INFO - info\n",
      "2022-02-22 09:25:32,362 - WARNING - warning\n",
      "2022-02-22 09:25:32,362 - ERROR - error\n"
     ]
    }
   ],
   "source": [
    "!cat logging.log"
   ]
  },
  {
   "cell_type": "markdown",
   "id": "1ef37893-2c01-4c2c-98f6-31cc7fa8dd62",
   "metadata": {},
   "source": [
    "## yuzuと一緒に使ってみる"
   ]
  },
  {
   "cell_type": "code",
   "execution_count": 8,
   "id": "93b869f3-d85a-4311-99ae-3593777950dd",
   "metadata": {},
   "outputs": [],
   "source": [
    "from yuzu import get_annotation"
   ]
  },
  {
   "cell_type": "code",
   "execution_count": 9,
   "id": "50412b83-30d5-4223-b970-60cb2db15b59",
   "metadata": {},
   "outputs": [],
   "source": [
    "log = get_annotation(logging.getLogger())"
   ]
  },
  {
   "cell_type": "code",
   "execution_count": 10,
   "id": "3e573fb7-947a-498c-921b-5cc340053f11",
   "metadata": {},
   "outputs": [],
   "source": [
    "@log()\n",
    "def func(x, y, a=1):\n",
    "    pass"
   ]
  },
  {
   "cell_type": "code",
   "execution_count": 11,
   "id": "66a9f272-faf9-4e43-a6a8-55072b6e57bd",
   "metadata": {},
   "outputs": [],
   "source": [
    "func(1, 2, a=3)"
   ]
  },
  {
   "cell_type": "code",
   "execution_count": 12,
   "id": "146c20b2-35d5-487d-ac24-25b5e9eb8b35",
   "metadata": {},
   "outputs": [
    {
     "name": "stdout",
     "output_type": "stream",
     "text": [
      "2022-02-22 09:25:32,361 - INFO - info\n",
      "2022-02-22 09:25:32,362 - WARNING - warning\n",
      "2022-02-22 09:25:32,362 - ERROR - error\n",
      "2022-02-22 09:25:35,524 - INFO - func [1, 2] {'a': 3} start (pid=1117)\n",
      "2022-02-22 09:25:35,524 - INFO - func end (pid=1117), value=None\n"
     ]
    }
   ],
   "source": [
    "!cat logging.log"
   ]
  }
 ],
 "metadata": {
  "kernelspec": {
   "display_name": "Python 3 (ipykernel)",
   "language": "python",
   "name": "python3"
  },
  "language_info": {
   "codemirror_mode": {
    "name": "ipython",
    "version": 3
   },
   "file_extension": ".py",
   "mimetype": "text/x-python",
   "name": "python",
   "nbconvert_exporter": "python",
   "pygments_lexer": "ipython3",
   "version": "3.10.1"
  }
 },
 "nbformat": 4,
 "nbformat_minor": 5
}
