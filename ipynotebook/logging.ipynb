{
 "cells": [
  {
   "cell_type": "code",
   "execution_count": 1,
   "id": "0cec2977-44fc-4efc-bd40-481c57d954eb",
   "metadata": {},
   "outputs": [],
   "source": [
    "import logging\n",
    "import sys"
   ]
  },
  {
   "cell_type": "markdown",
   "id": "2c86113e-661d-413b-8468-bfb7df08a939",
   "metadata": {},
   "source": [
    "- INFO未満は捨てる\n",
    "- INFOはファイルに書く\n",
    "- WARNING以上は画面に表示する\n",
    "ようなログ設定をする"
   ]
  },
  {
   "cell_type": "code",
   "execution_count": 2,
   "id": "2d31ecba-0eb4-4e38-b3cd-d22ae08ba0cb",
   "metadata": {},
   "outputs": [],
   "source": [
    "def setup_logger(filepath):\n",
    "    root = logging.getLogger()\n",
    "    root.setLevel(logging.INFO)\n",
    "    \n",
    "    to_stderr = logging.StreamHandler(sys.stderr)\n",
    "    to_file = logging.FileHandler(filepath)\n",
    "    \n",
    "    to_stderr.setLevel(logging.WARNING) # stderrはwarn以上を出力\n",
    "    to_file.setLevel(logging.INFO) # fileへはinfo以上を出力\n",
    "    \n",
    "    root.handlers = []\n",
    "    root.addHandler(to_stderr)\n",
    "    root.addHandler(to_file)\n",
    "    \n",
    "    formatter = logging.Formatter(\"%(asctime)s - %(levelname)s - %(message)s\")\n",
    "    to_file.setFormatter(formatter)"
   ]
  },
  {
   "cell_type": "code",
   "execution_count": 3,
   "id": "56243da2-ab18-40cc-9e6e-8cd152237bba",
   "metadata": {},
   "outputs": [],
   "source": [
    "!rm -f logging.log"
   ]
  },
  {
   "cell_type": "code",
   "execution_count": 4,
   "id": "5743a58c-42be-4482-a4a2-e2fad1532fe2",
   "metadata": {},
   "outputs": [],
   "source": [
    "setup_logger(\"logging.log\")"
   ]
  },
  {
   "cell_type": "code",
   "execution_count": 5,
   "id": "46dbf2bc-c77d-4dfb-be5a-f5d781fbbbe2",
   "metadata": {},
   "outputs": [
    {
     "name": "stderr",
     "output_type": "stream",
     "text": [
      "warning\n",
      "error\n"
     ]
    }
   ],
   "source": [
    "logging.debug(\"debug\")\n",
    "logging.info(\"info\")\n",
    "logging.warning(\"warning\")\n",
    "logging.error(\"error\")"
   ]
  },
  {
   "cell_type": "raw",
   "id": "b8819367-7e79-4dff-ad06-b5bbde854c93",
   "metadata": {},
   "source": [
    "!cat logging.log"
   ]
  }
 ],
 "metadata": {
  "kernelspec": {
   "display_name": "Python 3 (ipykernel)",
   "language": "python",
   "name": "python3"
  },
  "language_info": {
   "codemirror_mode": {
    "name": "ipython",
    "version": 3
   },
   "file_extension": ".py",
   "mimetype": "text/x-python",
   "name": "python",
   "nbconvert_exporter": "python",
   "pygments_lexer": "ipython3",
   "version": "3.9.5"
  }
 },
 "nbformat": 4,
 "nbformat_minor": 5
}
