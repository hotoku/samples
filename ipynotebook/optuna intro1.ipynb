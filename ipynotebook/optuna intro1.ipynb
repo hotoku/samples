{
 "cells": [
  {
   "cell_type": "code",
   "execution_count": 1,
   "metadata": {},
   "outputs": [],
   "source": [
    "import optuna"
   ]
  },
  {
   "cell_type": "code",
   "execution_count": 2,
   "metadata": {},
   "outputs": [],
   "source": [
    "def objective(trial):\n",
    "    x = trial.suggest_uniform(\"x\", -10, 10)\n",
    "    return (x-2)**2"
   ]
  },
  {
   "cell_type": "code",
   "execution_count": 4,
   "metadata": {},
   "outputs": [],
   "source": [
    "study = optuna.create_study()"
   ]
  },
  {
   "cell_type": "code",
   "execution_count": 7,
   "metadata": {},
   "outputs": [
    {
     "name": "stderr",
     "output_type": "stream",
     "text": [
      "[I 2019-09-26 10:16:33,219] Finished trial#100 resulted in value: 0.010127280984057158. Current best value is 0.001258008875914904 with parameters: {'x': 2.035468420826348}.\n",
      "[I 2019-09-26 10:16:33,640] Finished trial#101 resulted in value: 0.005124553498248186. Current best value is 0.001258008875914904 with parameters: {'x': 2.035468420826348}.\n",
      "[I 2019-09-26 10:16:33,808] Finished trial#102 resulted in value: 0.21622732738938097. Current best value is 0.001258008875914904 with parameters: {'x': 2.035468420826348}.\n",
      "[I 2019-09-26 10:16:33,928] Finished trial#103 resulted in value: 1.7014552977348285. Current best value is 0.001258008875914904 with parameters: {'x': 2.035468420826348}.\n",
      "[I 2019-09-26 10:16:34,045] Finished trial#104 resulted in value: 0.0014861108819198107. Current best value is 0.001258008875914904 with parameters: {'x': 2.035468420826348}.\n",
      "[I 2019-09-26 10:16:34,157] Finished trial#105 resulted in value: 0.21466488722513052. Current best value is 0.001258008875914904 with parameters: {'x': 2.035468420826348}.\n",
      "[I 2019-09-26 10:16:34,274] Finished trial#106 resulted in value: 0.0023408172660714555. Current best value is 0.001258008875914904 with parameters: {'x': 2.035468420826348}.\n",
      "[I 2019-09-26 10:16:34,395] Finished trial#107 resulted in value: 5.905469835641437. Current best value is 0.001258008875914904 with parameters: {'x': 2.035468420826348}.\n",
      "[I 2019-09-26 10:16:34,509] Finished trial#108 resulted in value: 2.478783915807322. Current best value is 0.001258008875914904 with parameters: {'x': 2.035468420826348}.\n",
      "[I 2019-09-26 10:16:34,623] Finished trial#109 resulted in value: 1.1246887294491634. Current best value is 0.001258008875914904 with parameters: {'x': 2.035468420826348}.\n"
     ]
    }
   ],
   "source": [
    "study.optimize(objective, n_trials=10)"
   ]
  },
  {
   "cell_type": "code",
   "execution_count": 8,
   "metadata": {},
   "outputs": [
    {
     "data": {
      "text/plain": [
       "{'x': 2.035468420826348}"
      ]
     },
     "execution_count": 8,
     "metadata": {},
     "output_type": "execute_result"
    }
   ],
   "source": [
    "study.best_params"
   ]
  },
  {
   "cell_type": "code",
   "execution_count": 9,
   "metadata": {},
   "outputs": [
    {
     "data": {
      "text/plain": [
       "0.001258008875914904"
      ]
     },
     "execution_count": 9,
     "metadata": {},
     "output_type": "execute_result"
    }
   ],
   "source": [
    "study.best_value"
   ]
  },
  {
   "cell_type": "markdown",
   "metadata": {},
   "source": [
    "## 用語 \n",
    "- Trial: A single call of the objective function.\n",
    "- Study: An optimization session, i.e., a set of trials.\n",
    "- Parameter: A variable whose value is to be optimized, e.g., x in the above example."
   ]
  }
 ],
 "metadata": {
  "kernelspec": {
   "display_name": "Python 3",
   "language": "python",
   "name": "python3"
  },
  "language_info": {
   "codemirror_mode": {
    "name": "ipython",
    "version": 3
   },
   "file_extension": ".py",
   "mimetype": "text/x-python",
   "name": "python",
   "nbconvert_exporter": "python",
   "pygments_lexer": "ipython3",
   "version": "3.7.6"
  }
 },
 "nbformat": 4,
 "nbformat_minor": 4
}
