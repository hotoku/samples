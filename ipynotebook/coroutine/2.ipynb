{
 "cells": [
  {
   "cell_type": "markdown",
   "metadata": {},
   "source": [
    "https://fisproject.jp/2018/12/python-generators-coroutines/\n",
    "\n",
    "の続き。\n",
    "\n",
    "yield fromを使って、generatorを入れ子にする。\n",
    "\n",
    "ポイント：内側のgeneratorの返り値が yield from の値となる。"
   ]
  },
  {
   "cell_type": "code",
   "execution_count": 6,
   "metadata": {},
   "outputs": [],
   "source": [
    "def averager():\n",
    "    total = 0\n",
    "    count = 0\n",
    "    average = None\n",
    "    while True:\n",
    "        term = yield\n",
    "        if term is None:\n",
    "            break\n",
    "        total += term\n",
    "        count += 1\n",
    "        average = total / count\n",
    "    return count, average"
   ]
  },
  {
   "cell_type": "code",
   "execution_count": 4,
   "metadata": {},
   "outputs": [],
   "source": [
    "def grouper(result, key):\n",
    "    while True:\n",
    "        result[key] = yield from averager()"
   ]
  },
  {
   "cell_type": "code",
   "execution_count": 1,
   "metadata": {},
   "outputs": [],
   "source": [
    "data = {\n",
    "    \"a\": range(10),\n",
    "    \"b\": range(20)\n",
    "}"
   ]
  },
  {
   "cell_type": "code",
   "execution_count": 5,
   "metadata": {},
   "outputs": [
    {
     "name": "stdout",
     "output_type": "stream",
     "text": [
      "{'a': (10, 4.5), 'b': (20, 9.5)}\n"
     ]
    }
   ],
   "source": [
    "result = {}\n",
    "for k in data:\n",
    "    g = grouper(result, k)\n",
    "    next(g)\n",
    "    for v in data[k]:\n",
    "        g.send(v)\n",
    "    g.send(None)\n",
    "    \n",
    "print(result)    "
   ]
  }
 ],
 "metadata": {
  "kernelspec": {
   "display_name": "Python 3",
   "language": "python",
   "name": "python3"
  },
  "language_info": {
   "codemirror_mode": {
    "name": "ipython",
    "version": 3
   },
   "file_extension": ".py",
   "mimetype": "text/x-python",
   "name": "python",
   "nbconvert_exporter": "python",
   "pygments_lexer": "ipython3",
   "version": "3.8.0"
  }
 },
 "nbformat": 4,
 "nbformat_minor": 4
}
