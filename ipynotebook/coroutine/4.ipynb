{
 "cells": [
  {
   "cell_type": "markdown",
   "metadata": {},
   "source": [
    "async/awaitの使い方をメモる\n",
    "\n",
    "[参考](https://fisproject.jp/2018/12/coroutines-with-async-and-await/)\n",
    "\n",
    "yieldによって作られたコルーチンをジェネレータ型のコルーチン。\n",
    "async/awaitによって作られたコルーチンをネイティブ型のコルーチンと呼ぶ、らしい。"
   ]
  },
  {
   "cell_type": "markdown",
   "metadata": {},
   "source": [
    "# 基本のパターン"
   ]
  },
  {
   "cell_type": "code",
   "execution_count": 33,
   "metadata": {},
   "outputs": [],
   "source": [
    "class averager:\n",
    "    def __await__(self):\n",
    "        total = 0\n",
    "        count = 0\n",
    "        average = None\n",
    "        while True:\n",
    "            term = yield\n",
    "            print(f\"  received {term}\")\n",
    "            if term is None:\n",
    "                break\n",
    "            total += term\n",
    "            count += 1\n",
    "            average = total / count\n",
    "        return count, average"
   ]
  },
  {
   "cell_type": "code",
   "execution_count": 36,
   "metadata": {},
   "outputs": [],
   "source": [
    "async def grouper(results, key):    \n",
    "    while True:\n",
    "        print(\" start waiting\")\n",
    "        results[key] = await averager()\n",
    "        print(\" end waiting\")"
   ]
  },
  {
   "cell_type": "code",
   "execution_count": 37,
   "metadata": {},
   "outputs": [
    {
     "name": "stdout",
     "output_type": "stream",
     "text": [
      "start a\n",
      " start waiting\n",
      "  send 0\n",
      "  received 0\n",
      "  send 1\n",
      "  received 1\n",
      "  received None\n",
      " end waiting\n",
      " start waiting\n",
      "end a\n",
      "start b\n",
      " start waiting\n",
      "  send 0\n",
      "  received 0\n",
      "  send 1\n",
      "  received 1\n",
      "  send 2\n",
      "  received 2\n",
      "  received None\n",
      " end waiting\n",
      " start waiting\n",
      "end b\n",
      "{'a': (2, 0.5), 'b': (3, 1.0)}\n"
     ]
    }
   ],
   "source": [
    "data = {\n",
    "    \"a\": range(2),\n",
    "    \"b\": range(3)\n",
    "}\n",
    "\n",
    "results = {}\n",
    "for k in data:\n",
    "    print(f\"start {k}\")\n",
    "    g = grouper(results, k)\n",
    "    g.send(None) # send()ではダメ\n",
    "    for v in data[k]:\n",
    "        print(f\"  send {v}\")\n",
    "        g.send(v)\n",
    "    g.send(None)\n",
    "    print(f\"end {k}\")\n",
    "print(results)"
   ]
  },
  {
   "cell_type": "markdown",
   "metadata": {},
   "source": [
    "ポイント１：\n",
    "* `async def`でネイティブコルーチン関数が作られる\n",
    "* ネイティブコルーチン関数は、`await`の部分で、実行を一時停止できる\n",
    "* `await`の右側には `awaitable` な値が来る\n",
    "  * `awaitable`な値とは`__await__`をもつオブジェクト\n",
    "\n",
    "ポイント２：\n",
    "* 'end waiting'のあと、再び'start waiting'が始まって、それに対応するend waitingはない\n",
    "* この動作から想像するに、asyncは、awaitが実行終了の状態になったら即座に終わる、という動作をするポイ\n",
    "  * 複数ある場合はどうなるの？\n",
    "\n",
    "ざっくり\n",
    "* `awaitable`：途中で止まるかもしれない評価式\n",
    "* `async`：途中でawaitableを呼ぶ関数\n",
    "という理解で良いのかな・・？\n",
    "\n",
    "上のawaitの例では、yieldによって処理が止まり、外部からのsendで処理が再開された。普通の非同期プログラミングでは、典型的には外部への問い合わせなどで止まるはず。"
   ]
  },
  {
   "cell_type": "markdown",
   "metadata": {},
   "source": [
    "# 1つのasync defに複数のawaitがある場合"
   ]
  },
  {
   "cell_type": "code",
   "execution_count": 44,
   "metadata": {},
   "outputs": [
    {
     "name": "stdout",
     "output_type": "stream",
     "text": [
      "start a\n",
      " start waiting 1\n",
      "  send 0\n",
      "  received 0\n",
      "  send 1\n",
      "  received 1\n",
      "  received None\n",
      " end waiting 1\n",
      " start waiting 2\n",
      "end a\n",
      "start b\n",
      " start waiting 1\n",
      "  send 0\n",
      "  received 0\n",
      "  send 1\n",
      "  received 1\n",
      "  send 2\n",
      "  received 2\n",
      "  received None\n",
      " end waiting 1\n",
      " start waiting 2\n",
      "end b\n",
      "{'a': (2, 0.5), 'b': (3, 1.0)}\n",
      "{}\n"
     ]
    }
   ],
   "source": [
    "async def grouper2(r1, r2, key):    \n",
    "    while True:\n",
    "        print(\" start waiting 1\")\n",
    "        r1[key] = await averager()\n",
    "        print(\" end waiting 1\")\n",
    "        print(\" start waiting 2\")\n",
    "        r2[key] = await averager()\n",
    "        print(\" end waiting 2\")\n",
    "\n",
    "\n",
    "\n",
    "data = {\n",
    "    \"a\": range(2),\n",
    "    \"b\": range(3)\n",
    "}\n",
    "\n",
    "r1, r2 = {}, {}\n",
    "for k in data:\n",
    "    print(f\"start {k}\")\n",
    "    g = grouper2(r1, r2, k)\n",
    "    g.send(None) # send()ではダメ\n",
    "    for v in data[k]:\n",
    "        print(f\"  send {v}\")\n",
    "        g.send(v)\n",
    "    g.send(None)\n",
    "    print(f\"end {k}\")\n",
    "print(r1)\n",
    "print(r2)"
   ]
  },
  {
   "cell_type": "markdown",
   "metadata": {},
   "source": [
    "2つ目の`await averager`に来たところでasyncが終わっている。謎の挙動。ないとは思うけど、別のawaitableを当てたら挙動は変わるか・・？"
   ]
  },
  {
   "cell_type": "markdown",
   "metadata": {},
   "source": [
    "# 1つのasync defに複数のawaitがある場合 その2"
   ]
  },
  {
   "cell_type": "code",
   "execution_count": 48,
   "metadata": {},
   "outputs": [
    {
     "name": "stdout",
     "output_type": "stream",
     "text": [
      "start a\n",
      " start waiting 1\n",
      "  send 0\n",
      "  received 0\n",
      "  send 1\n",
      "  received 1\n",
      "  received None\n",
      " end waiting 1\n",
      " start waiting 2\n",
      "end a\n",
      "start b\n",
      " start waiting 1\n",
      "  send 0\n",
      "  received 0\n",
      "  send 1\n",
      "  received 1\n",
      "  send 2\n",
      "  received 2\n",
      "  received None\n",
      " end waiting 1\n",
      " start waiting 2\n",
      "end b\n",
      "{'a': (2, 0.5), 'b': (3, 1.0)}\n",
      "{}\n"
     ]
    }
   ],
   "source": [
    "class aggregator:\n",
    "    def __await__(self):\n",
    "        total = 0\n",
    "        count = 0\n",
    "        while True:\n",
    "            term = yield\n",
    "            if term is None:\n",
    "                break\n",
    "            total += term\n",
    "            count += 1\n",
    "        return count, total\n",
    "    \n",
    "async def grouper3(r1, r2, key):    \n",
    "    while True:\n",
    "        print(\" start waiting 1\")\n",
    "        r1[key] = await averager()\n",
    "        print(\" end waiting 1\")\n",
    "        print(\" start waiting 2\")\n",
    "        r2[key] = await aggregator()\n",
    "        print(\" end waiting 2\")\n",
    "\n",
    "\n",
    "\n",
    "data = {\n",
    "    \"a\": range(2),\n",
    "    \"b\": range(3)\n",
    "}\n",
    "\n",
    "r1, r2 = {}, {}\n",
    "for k in data:\n",
    "    print(f\"start {k}\")\n",
    "    g = grouper3(r1, r2, k)\n",
    "    g.send(None) # send()ではダメ\n",
    "    for v in data[k]:\n",
    "        print(f\"  send {v}\")\n",
    "        g.send(v)\n",
    "    g.send(None)\n",
    "    print(f\"end {k}\")\n",
    "print(r1)\n",
    "print(r2)"
   ]
  },
  {
   "cell_type": "markdown",
   "metadata": {},
   "source": [
    "結論：変わらない"
   ]
  },
  {
   "cell_type": "markdown",
   "metadata": {},
   "source": [
    "# grouperのwhileは必要なのか・・？"
   ]
  },
  {
   "cell_type": "code",
   "execution_count": 49,
   "metadata": {},
   "outputs": [
    {
     "name": "stdout",
     "output_type": "stream",
     "text": [
      "  received 0\n",
      "  received 1\n",
      "  received None\n"
     ]
    },
    {
     "ename": "StopIteration",
     "evalue": "",
     "output_type": "error",
     "traceback": [
      "\u001b[0;31m---------------------------------------------------------------------------\u001b[0m",
      "\u001b[0;31mStopIteration\u001b[0m                             Traceback (most recent call last)",
      "\u001b[0;32m<ipython-input-49-d6db50a23d24>\u001b[0m in \u001b[0;36m<module>\u001b[0;34m\u001b[0m\n\u001b[1;32m     13\u001b[0m     \u001b[0;32mfor\u001b[0m \u001b[0mv\u001b[0m \u001b[0;32min\u001b[0m \u001b[0mdata\u001b[0m\u001b[0;34m[\u001b[0m\u001b[0mk\u001b[0m\u001b[0;34m]\u001b[0m\u001b[0;34m:\u001b[0m\u001b[0;34m\u001b[0m\u001b[0;34m\u001b[0m\u001b[0m\n\u001b[1;32m     14\u001b[0m         \u001b[0mg\u001b[0m\u001b[0;34m.\u001b[0m\u001b[0msend\u001b[0m\u001b[0;34m(\u001b[0m\u001b[0mv\u001b[0m\u001b[0;34m)\u001b[0m\u001b[0;34m\u001b[0m\u001b[0;34m\u001b[0m\u001b[0m\n\u001b[0;32m---> 15\u001b[0;31m     \u001b[0mg\u001b[0m\u001b[0;34m.\u001b[0m\u001b[0msend\u001b[0m\u001b[0;34m(\u001b[0m\u001b[0;32mNone\u001b[0m\u001b[0;34m)\u001b[0m\u001b[0;34m\u001b[0m\u001b[0;34m\u001b[0m\u001b[0m\n\u001b[0m\u001b[1;32m     16\u001b[0m \u001b[0mprint\u001b[0m\u001b[0;34m(\u001b[0m\u001b[0mr1\u001b[0m\u001b[0;34m)\u001b[0m\u001b[0;34m\u001b[0m\u001b[0;34m\u001b[0m\u001b[0m\n",
      "\u001b[0;31mStopIteration\u001b[0m: "
     ]
    }
   ],
   "source": [
    "async def grouper4(r, k):\n",
    "    r1[k] = await averager()\n",
    "\n",
    "data = {\n",
    "    \"a\": range(2),\n",
    "    \"b\": range(3)\n",
    "}\n",
    "\n",
    "r1 = {}\n",
    "for k in data:\n",
    "    g = grouper4(r1, k)\n",
    "    g.send(None)\n",
    "    for v in data[k]:\n",
    "        g.send(v)\n",
    "    g.send(None)\n",
    "print(r1)"
   ]
  },
  {
   "cell_type": "markdown",
   "metadata": {},
   "source": [
    "結論：StopIterationがキャッチされずに放出された\n",
    "\n",
    "# ということは\n",
    "\n",
    "asyn関数の中では、awaitに出会うと\n",
    "1. awaitが終わるのを待つ\n",
    "1. 次のawaitに出会うまで処理を進める\n",
    "  1. 次のawaitに出会ったら終了する\n",
    "  1. 出会わない場合はStopIterationを返す\n",
    "\n",
    "という挙動をするということか。分かりずらい。こうなっている理由が分からない  "
   ]
  },
  {
   "cell_type": "code",
   "execution_count": null,
   "metadata": {},
   "outputs": [],
   "source": []
  }
 ],
 "metadata": {
  "kernelspec": {
   "display_name": "Python 3",
   "language": "python",
   "name": "python3"
  },
  "language_info": {
   "codemirror_mode": {
    "name": "ipython",
    "version": 3
   },
   "file_extension": ".py",
   "mimetype": "text/x-python",
   "name": "python",
   "nbconvert_exporter": "python",
   "pygments_lexer": "ipython3",
   "version": "3.8.0"
  }
 },
 "nbformat": 4,
 "nbformat_minor": 4
}
