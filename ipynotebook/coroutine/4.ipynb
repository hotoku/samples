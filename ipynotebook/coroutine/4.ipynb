{
 "cells": [
  {
   "cell_type": "markdown",
   "metadata": {},
   "source": [
    "async/awaitの使い方をメモる\n",
    "\n",
    "[参考](https://fisproject.jp/2018/12/coroutines-with-async-and-await/)\n",
    "\n",
    "yieldによって作られたコルーチンをジェネレータ型のコルーチン。\n",
    "async/awaitによって作られたコルーチンをネイティブ型のコルーチンと呼ぶ、らしい。"
   ]
  },
  {
   "cell_type": "code",
   "execution_count": 1,
   "metadata": {},
   "outputs": [],
   "source": [
    "class averager:\n",
    "    def __await__(self):\n",
    "        total = 0\n",
    "        count = 0\n",
    "        average = None\n",
    "        while True:\n",
    "            term = yield\n",
    "            if term is None:\n",
    "                break\n",
    "            total += term\n",
    "            count += 1\n",
    "            average = total / count\n",
    "        return count, average"
   ]
  },
  {
   "cell_type": "code",
   "execution_count": 3,
   "metadata": {},
   "outputs": [],
   "source": [
    "async def grouper(results, key):\n",
    "    while True:\n",
    "        results[key] = await averager()"
   ]
  },
  {
   "cell_type": "code",
   "execution_count": 13,
   "metadata": {},
   "outputs": [
    {
     "name": "stdout",
     "output_type": "stream",
     "text": [
      "{'a': (10, 4.5), 'b': (20, 9.5)}\n"
     ]
    }
   ],
   "source": [
    "data = {\n",
    "    \"a\": range(10),\n",
    "    \"b\": range(20)\n",
    "}\n",
    "\n",
    "results = {}\n",
    "for k in data:\n",
    "    g = grouper(results, k)\n",
    "    g.send(None) # send()ではダメ\n",
    "    for v in data[k]:\n",
    "        g.send(v)\n",
    "    g.send(None)\n",
    "print(results)"
   ]
  },
  {
   "cell_type": "markdown",
   "metadata": {},
   "source": [
    "ポイント：\n",
    "* `async def`でネイティブコルーチン関数が作られる\n",
    "* ネイティブコルーチン関数は、`await`の部分で、実行を一時停止できる\n",
    "* `await`の右側には `awaitable` な値が来る\n",
    "  * `awaitable`な値とは`__await__`をもつオブジェクト\n",
    "  \n",
    "実行を一時停止できるコードの書き方は分かった。一時停止して処理を別の部分に移す方法が知りたい。  "
   ]
  },
  {
   "cell_type": "code",
   "execution_count": null,
   "metadata": {},
   "outputs": [],
   "source": []
  }
 ],
 "metadata": {
  "kernelspec": {
   "display_name": "Python 3",
   "language": "python",
   "name": "python3"
  },
  "language_info": {
   "codemirror_mode": {
    "name": "ipython",
    "version": 3
   },
   "file_extension": ".py",
   "mimetype": "text/x-python",
   "name": "python",
   "nbconvert_exporter": "python",
   "pygments_lexer": "ipython3",
   "version": "3.8.0"
  }
 },
 "nbformat": 4,
 "nbformat_minor": 4
}
