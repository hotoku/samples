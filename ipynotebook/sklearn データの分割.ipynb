{
 "cells": [
  {
   "cell_type": "code",
   "execution_count": 50,
   "metadata": {},
   "outputs": [],
   "source": [
    "import numpy as np\n",
    "import pandas as pd\n",
    "from sklearn.model_selection import train_test_split, StratifiedShuffleSplit, StratifiedKFold"
   ]
  },
  {
   "cell_type": "code",
   "execution_count": 51,
   "metadata": {},
   "outputs": [],
   "source": [
    "dat=pd.DataFrame(dict(\n",
    "    x1=np.random.randint(0, 10, 200),\n",
    "    x2=np.random.randint(0, 10, 200),\n",
    "    y=[1]*50 + [0]*150\n",
    "))\n",
    "# x1, x2はランダムな整数。\n",
    "# yは、最初の50個が1, 残りが0。正例・負例が偏ったデータ"
   ]
  },
  {
   "cell_type": "markdown",
   "metadata": {},
   "source": [
    "# 方法その1 train_test_split"
   ]
  },
  {
   "cell_type": "code",
   "execution_count": 63,
   "metadata": {},
   "outputs": [],
   "source": [
    "_TEST_SIZE = 0.2\n",
    "_RANDOM_STATE = 1\n",
    "_SHUFFLE = True\n",
    "_STRATIFY = dat.y\n",
    "\n",
    "dat_learn, dat_cv = train_test_split(\n",
    "    dat,\n",
    "    test_size =  _TEST_SIZE,\n",
    "    random_state = _RANDOM_STATE,\n",
    "    shuffle = _SHUFFLE,\n",
    "    stratify = _STRATIFY\n",
    ")"
   ]
  },
  {
   "cell_type": "code",
   "execution_count": 64,
   "metadata": {},
   "outputs": [
    {
     "name": "stdout",
     "output_type": "stream",
     "text": [
      "\n",
      "#dat_learn = 160\n",
      "#dat_cv = 40\n",
      "\n",
      "%dat_learn 1s = 0.25\n",
      "%dat_learn 1s = 0.25\n",
      "\n",
      "intersection = []\n",
      "\n"
     ]
    }
   ],
   "source": [
    "print(f\"\"\"\n",
    "#dat_learn = {len(dat_learn)}\n",
    "#dat_cv = {len(dat_cv)}\n",
    "\n",
    "%dat_learn 1s = {np.sum(dat_learn.y == 1) / len(dat_learn):.2f}\n",
    "%dat_learn 1s = {np.sum(dat_cv.y == 1) / len(dat_cv):.2f}\n",
    "\n",
    "intersection = {np.intersect1d(dat_learn.index, dat_cv.index)}\n",
    "\"\"\")"
   ]
  },
  {
   "cell_type": "markdown",
   "metadata": {},
   "source": [
    "<bf>train_test_split</bf> を使うと、正負の割合を保った分割を行ってくれる"
   ]
  },
  {
   "cell_type": "markdown",
   "metadata": {},
   "source": [
    "# 方法その2 StratifiedShuffleSplit"
   ]
  },
  {
   "cell_type": "code",
   "execution_count": 61,
   "metadata": {},
   "outputs": [],
   "source": [
    "_N_SPLITS = 3\n",
    "_TEST_SIZE = 0.2\n",
    "_RANDOM_STATE = 1\n",
    "sss = StratifiedShuffleSplit(n_splits=_N_SPLITS, test_size=_TEST_SIZE, random_state=_RANDOM_STATE)"
   ]
  },
  {
   "cell_type": "code",
   "execution_count": 62,
   "metadata": {},
   "outputs": [
    {
     "name": "stdout",
     "output_type": "stream",
     "text": [
      "\n",
      "    len(dat_learn): 160\n",
      "    len(dat_cv): 40\n",
      "    # 1 in learn: 40\n",
      "    # 1 in cv: 10\n",
      "    \n",
      "\n",
      "    len(dat_learn): 160\n",
      "    len(dat_cv): 40\n",
      "    # 1 in learn: 40\n",
      "    # 1 in cv: 10\n",
      "    \n",
      "\n",
      "    len(dat_learn): 160\n",
      "    len(dat_cv): 40\n",
      "    # 1 in learn: 40\n",
      "    # 1 in cv: 10\n",
      "    \n",
      "[3. 3. 3. 3. 3. 2. 3. 1. 3. 3. 1. 3. 2. 3. 2. 2. 3. 1. 3. 1. 2. 2. 3. 3.\n",
      " 3. 2. 3. 2. 3. 2. 3. 3. 1. 3. 3. 3. 3. 3. 2. 2. 3. 3. 2. 1. 3. 2. 2. 1.\n",
      " 2. 2. 2. 1. 3. 3. 3. 3. 2. 0. 2. 3. 3. 2. 3. 2. 3. 2. 2. 3. 2. 2. 2. 3.\n",
      " 2. 3. 3. 2. 3. 2. 3. 2. 3. 3. 1. 3. 3. 3. 3. 0. 2. 2. 3. 2. 2. 2. 3. 3.\n",
      " 2. 1. 3. 3. 0. 3. 1. 3. 3. 3. 3. 2. 2. 3. 2. 1. 3. 2. 2. 3. 3. 3. 2. 2.\n",
      " 3. 2. 2. 3. 3. 3. 3. 3. 3. 2. 3. 2. 3. 3. 3. 2. 2. 2. 2. 2. 3. 2. 3. 3.\n",
      " 3. 3. 1. 1. 2. 3. 2. 2. 2. 2. 3. 3. 3. 3. 3. 3. 2. 3. 2. 3. 3. 2. 3. 3.\n",
      " 3. 3. 3. 2. 1. 2. 3. 3. 2. 1. 2. 1. 3. 3. 3. 2. 2. 2. 2. 2. 3. 2. 2. 3.\n",
      " 2. 3. 2. 3. 2. 3. 2. 2.]\n",
      "[0. 0. 0. 0. 0. 1. 0. 2. 0. 0. 2. 0. 1. 0. 1. 1. 0. 2. 0. 2. 1. 1. 0. 0.\n",
      " 0. 1. 0. 1. 0. 1. 0. 0. 2. 0. 0. 0. 0. 0. 1. 1. 0. 0. 1. 2. 0. 1. 1. 2.\n",
      " 1. 1. 1. 2. 0. 0. 0. 0. 1. 3. 1. 0. 0. 1. 0. 1. 0. 1. 1. 0. 1. 1. 1. 0.\n",
      " 1. 0. 0. 1. 0. 1. 0. 1. 0. 0. 2. 0. 0. 0. 0. 3. 1. 1. 0. 1. 1. 1. 0. 0.\n",
      " 1. 2. 0. 0. 3. 0. 2. 0. 0. 0. 0. 1. 1. 0. 1. 2. 0. 1. 1. 0. 0. 0. 1. 1.\n",
      " 0. 1. 1. 0. 0. 0. 0. 0. 0. 1. 0. 1. 0. 0. 0. 1. 1. 1. 1. 1. 0. 1. 0. 0.\n",
      " 0. 0. 2. 2. 1. 0. 1. 1. 1. 1. 0. 0. 0. 0. 0. 0. 1. 0. 1. 0. 0. 1. 0. 0.\n",
      " 0. 0. 0. 1. 2. 1. 0. 0. 1. 2. 1. 2. 0. 0. 0. 1. 1. 1. 1. 1. 0. 1. 1. 0.\n",
      " 1. 0. 1. 0. 1. 0. 1. 1.]\n"
     ]
    }
   ],
   "source": [
    "lind = np.zeros(len(dat))\n",
    "cind = np.zeros(len(dat))\n",
    "for i, (learn_index, cv_index) in enumerate(sss.split(dat, dat.y)):\n",
    "    dat_learn = dat.loc[learn_index]\n",
    "    dat_cv = dat.loc[cv_index]\n",
    "    print(f\"\"\"\n",
    "    len(dat_learn): {len(dat_learn)}\n",
    "    len(dat_cv): {len(dat_cv)}\n",
    "    # 1 in learn: {np.sum(dat_learn.y==1)}\n",
    "    # 1 in cv: {np.sum(dat_cv.y==1)}\n",
    "    \"\"\")\n",
    "    lind[learn_index] += 1\n",
    "    cind[cv_index] += 1\n",
    "print(lind)    \n",
    "print(cind)"
   ]
  },
  {
   "cell_type": "markdown",
   "metadata": {},
   "source": [
    "StratifiedShuffleSplitを使うと、毎回、分割を新しく実行している"
   ]
  },
  {
   "cell_type": "markdown",
   "metadata": {},
   "source": [
    "# 方法その3 StratifiedKFold"
   ]
  },
  {
   "cell_type": "code",
   "execution_count": 56,
   "metadata": {},
   "outputs": [],
   "source": [
    "_N_SPLITS = 3\n",
    "_RANDOM_STATE = 1\n",
    "_SHUFFLE = True\n",
    "kf = StratifiedKFold(n_splits=_N_SPLITS, random_state=_RANDOM_STATE, shuffle=_SHUFFLE)"
   ]
  },
  {
   "cell_type": "code",
   "execution_count": 60,
   "metadata": {},
   "outputs": [
    {
     "name": "stdout",
     "output_type": "stream",
     "text": [
      "\n",
      "    len(dat_learn): 133\n",
      "    len(dat_cv): 67\n",
      "    # 1 in learn: 33\n",
      "    # 1 in cv: 17\n",
      "    \n",
      "\n",
      "    len(dat_learn): 133\n",
      "    len(dat_cv): 67\n",
      "    # 1 in learn: 33\n",
      "    # 1 in cv: 17\n",
      "    \n",
      "\n",
      "    len(dat_learn): 134\n",
      "    len(dat_cv): 66\n",
      "    # 1 in learn: 34\n",
      "    # 1 in cv: 16\n",
      "    \n",
      "[2. 2. 2. 2. 2. 2. 2. 2. 2. 2. 2. 2. 2. 2. 2. 2. 2. 2. 2. 2. 2. 2. 2. 2.\n",
      " 2. 2. 2. 2. 2. 2. 2. 2. 2. 2. 2. 2. 2. 2. 2. 2. 2. 2. 2. 2. 2. 2. 2. 2.\n",
      " 2. 2. 2. 2. 2. 2. 2. 2. 2. 2. 2. 2. 2. 2. 2. 2. 2. 2. 2. 2. 2. 2. 2. 2.\n",
      " 2. 2. 2. 2. 2. 2. 2. 2. 2. 2. 2. 2. 2. 2. 2. 2. 2. 2. 2. 2. 2. 2. 2. 2.\n",
      " 2. 2. 2. 2. 2. 2. 2. 2. 2. 2. 2. 2. 2. 2. 2. 2. 2. 2. 2. 2. 2. 2. 2. 2.\n",
      " 2. 2. 2. 2. 2. 2. 2. 2. 2. 2. 2. 2. 2. 2. 2. 2. 2. 2. 2. 2. 2. 2. 2. 2.\n",
      " 2. 2. 2. 2. 2. 2. 2. 2. 2. 2. 2. 2. 2. 2. 2. 2. 2. 2. 2. 2. 2. 2. 2. 2.\n",
      " 2. 2. 2. 2. 2. 2. 2. 2. 2. 2. 2. 2. 2. 2. 2. 2. 2. 2. 2. 2. 2. 2. 2. 2.\n",
      " 2. 2. 2. 2. 2. 2. 2. 2.]\n",
      "[1. 1. 1. 1. 1. 1. 1. 1. 1. 1. 1. 1. 1. 1. 1. 1. 1. 1. 1. 1. 1. 1. 1. 1.\n",
      " 1. 1. 1. 1. 1. 1. 1. 1. 1. 1. 1. 1. 1. 1. 1. 1. 1. 1. 1. 1. 1. 1. 1. 1.\n",
      " 1. 1. 1. 1. 1. 1. 1. 1. 1. 1. 1. 1. 1. 1. 1. 1. 1. 1. 1. 1. 1. 1. 1. 1.\n",
      " 1. 1. 1. 1. 1. 1. 1. 1. 1. 1. 1. 1. 1. 1. 1. 1. 1. 1. 1. 1. 1. 1. 1. 1.\n",
      " 1. 1. 1. 1. 1. 1. 1. 1. 1. 1. 1. 1. 1. 1. 1. 1. 1. 1. 1. 1. 1. 1. 1. 1.\n",
      " 1. 1. 1. 1. 1. 1. 1. 1. 1. 1. 1. 1. 1. 1. 1. 1. 1. 1. 1. 1. 1. 1. 1. 1.\n",
      " 1. 1. 1. 1. 1. 1. 1. 1. 1. 1. 1. 1. 1. 1. 1. 1. 1. 1. 1. 1. 1. 1. 1. 1.\n",
      " 1. 1. 1. 1. 1. 1. 1. 1. 1. 1. 1. 1. 1. 1. 1. 1. 1. 1. 1. 1. 1. 1. 1. 1.\n",
      " 1. 1. 1. 1. 1. 1. 1. 1.]\n"
     ]
    }
   ],
   "source": [
    "lind = np.zeros(len(dat))\n",
    "cind = np.zeros(len(dat))\n",
    "for i, (learn_index, cv_index) in enumerate(kf.split(dat, dat.y)):\n",
    "    dat_learn = dat.loc[learn_index]\n",
    "    dat_cv = dat.loc[cv_index]\n",
    "    print(f\"\"\"\n",
    "    len(dat_learn): {len(dat_learn)}\n",
    "    len(dat_cv): {len(dat_cv)}\n",
    "    # 1 in learn: {np.sum(dat_learn.y==1)}\n",
    "    # 1 in cv: {np.sum(dat_cv.y==1)}\n",
    "    \"\"\")\n",
    "    lind[learn_index] += 1\n",
    "    cind[cv_index] += 1\n",
    "print(lind)    \n",
    "print(cind)"
   ]
  },
  {
   "cell_type": "markdown",
   "metadata": {},
   "source": [
    "StratifiedKFoldを使うと、データをきれいに分割し、各データが、均等な回数実験に現れるようになる。"
   ]
  },
  {
   "cell_type": "markdown",
   "metadata": {},
   "source": [
    "# まとめ\n",
    "- train_test_split: 1回だけ、交差検証を実施したいときに使う\n",
    "- StratifiedShuffleSplit: train_test_split を複数回、実施する時に使う\n",
    "- StratifiedKFold: KFoldを実施したいときに使う。\n",
    "\n",
    "StratifiedShuffleSplit/StratifiedKFoldでn_splitsの意味が違うので注意。前者は、n_splitsというより、n_timesとした方が意味が分かりやすい気がする。"
   ]
  }
 ],
 "metadata": {
  "kernelspec": {
   "display_name": "Python 3",
   "language": "python",
   "name": "python3"
  },
  "language_info": {
   "codemirror_mode": {
    "name": "ipython",
    "version": 3
   },
   "file_extension": ".py",
   "mimetype": "text/x-python",
   "name": "python",
   "nbconvert_exporter": "python",
   "pygments_lexer": "ipython3",
   "version": "3.7.3"
  }
 },
 "nbformat": 4,
 "nbformat_minor": 4
}
