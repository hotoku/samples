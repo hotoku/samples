{
 "cells": [
  {
   "cell_type": "markdown",
   "metadata": {},
   "source": [
    "# カラーパレットを作成する方法を検討する"
   ]
  },
  {
   "cell_type": "code",
   "execution_count": 26,
   "metadata": {},
   "outputs": [],
   "source": [
    "from colormath.color_objects import sRGBColor, HSVColor\n",
    "from colormath.color_conversions import convert_color\n",
    "import matplotlib.pyplot as plt\n",
    "import itertools as it\n",
    "\n",
    "%matplotlib inline"
   ]
  },
  {
   "cell_type": "code",
   "execution_count": 5,
   "metadata": {},
   "outputs": [],
   "source": [
    "c1 = sRGBColor(1, 0, 0)\n",
    "c2 = convert_color(c1, HSVColor)"
   ]
  },
  {
   "cell_type": "code",
   "execution_count": 9,
   "metadata": {},
   "outputs": [
    {
     "data": {
      "text/plain": [
       "(0.0, 1.0, 1.0)"
      ]
     },
     "execution_count": 9,
     "metadata": {},
     "output_type": "execute_result"
    }
   ],
   "source": [
    "c2.hsv_h, c2.hsv_s, c2.hsv_v"
   ]
  },
  {
   "cell_type": "markdown",
   "metadata": {},
   "source": [
    "# Hueを固定する\n",
    "\n",
    "HSV色空間は、\n",
    "\n",
    "- Hue：色味（赤とか青とか）\n",
    "- Saturation：彩度\n",
    "- Value：明るさ\n",
    "\n",
    "の3次元で色を表現する。この空間でHを固定すれば、単一の色で明るさや彩度を変更することが可能"
   ]
  },
  {
   "cell_type": "code",
   "execution_count": 24,
   "metadata": {},
   "outputs": [
    {
     "data": {
      "image/png": "[encoded data removed]",
      "text/plain": [
       "<Figure size 432x288 with 1 Axes>"
      ]
     },
     "metadata": {
      "needs_background": "light"
     },
     "output_type": "display_data"
    }
   ],
   "source": [
    "fig, ax = plt.subplots()\n",
    "n = 10\n",
    "for i in range(n+1):\n",
    "    c = convert_color(HSVColor(0.9, i/n, 0.99),\n",
    "                      sRGBColor)\n",
    "    p = plt.Polygon(\n",
    "        ((i/n, 1), ((i+1)/n, 1),\n",
    "        ((i+1)/n, 0), (i/n, 0)),\n",
    "        fc = c.get_rgb_hex()\n",
    "    )\n",
    "    ax.add_patch(p)"
   ]
  },
  {
   "cell_type": "code",
   "execution_count": 34,
   "metadata": {},
   "outputs": [
    {
     "data": {
      "image/png": "[encoded data removed]",
      "text/plain": [
       "<Figure size 432x288 with 1 Axes>"
      ]
     },
     "metadata": {
      "needs_background": "light"
     },
     "output_type": "display_data"
    }
   ],
   "source": [
    "fig2, ax2 = plt.subplots()\n",
    "n = 20\n",
    "for i, j in it.product(range(n+1), range(n+1)):\n",
    "    s, v = i/n, j/n\n",
    "    c = convert_color(HSVColor(0.9, s, v),\n",
    "                     sRGBColor)\n",
    "    p = plt.Polygon(\n",
    "        ((s,v), (s+1/n,v), (s+1/n,v+1/n), (s,v+1/n)),\n",
    "        fc = c.get_rgb_hex()        \n",
    "    )\n",
    "    ax2.add_patch(p)\n",
    "ax2.set_xlabel(\"s\")\n",
    "ax2.set_ylabel(\"v\")\n",
    "plt.show()"
   ]
  }
 ],
 "metadata": {
  "kernelspec": {
   "display_name": "Python 3",
   "language": "python",
   "name": "python3"
  },
  "language_info": {
   "codemirror_mode": {
    "name": "ipython",
    "version": 3
   },
   "file_extension": ".py",
   "mimetype": "text/x-python",
   "name": "python",
   "nbconvert_exporter": "python",
   "pygments_lexer": "ipython3",
   "version": "3.8.0"
  }
 },
 "nbformat": 4,
 "nbformat_minor": 4
}
