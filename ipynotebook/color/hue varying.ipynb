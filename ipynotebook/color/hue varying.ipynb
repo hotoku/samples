{
 "cells": [
  {
   "cell_type": "markdown",
   "metadata": {},
   "source": [
    "# カラーパレットを作成する方法を検討する"
   ]
  },
  {
   "cell_type": "code",
   "execution_count": 1,
   "metadata": {},
   "outputs": [],
   "source": [
    "from colormath.color_objects import sRGBColor, HSVColor\n",
    "from colormath.color_conversions import convert_color\n",
    "import matplotlib.pyplot as plt\n",
    "import itertools as it\n",
    "\n",
    "%matplotlib inline"
   ]
  },
  {
   "cell_type": "code",
   "execution_count": 6,
   "metadata": {},
   "outputs": [
    {
     "data": {
      "image/png": "[encoded data removed]",
      "text/plain": [
       "<Figure size 432x288 with 1 Axes>"
      ]
     },
     "metadata": {
      "needs_background": "light"
     },
     "output_type": "display_data"
    }
   ],
   "source": [
    "fig, ax = plt.subplots()\n",
    "n = 30\n",
    "for i in range(n+1):\n",
    "    c = convert_color(HSVColor(i * 255 / n, 0.5, 0.99),\n",
    "                      sRGBColor)\n",
    "    p = plt.Polygon(\n",
    "        ((i/n, 1), ((i+1)/n, 1),\n",
    "        ((i+1)/n, 0), (i/n, 0)),\n",
    "        fc = c.get_rgb_hex()\n",
    "    )\n",
    "    ax.add_patch(p)"
   ]
  },
  {
   "cell_type": "code",
   "execution_count": 7,
   "metadata": {},
   "outputs": [
    {
     "data": {
      "image/png": "[encoded data removed]",
      "text/plain": [
       "<Figure size 432x288 with 1 Axes>"
      ]
     },
     "metadata": {
      "needs_background": "light"
     },
     "output_type": "display_data"
    }
   ],
   "source": [
    "fig, ax = plt.subplots()\n",
    "n = 30\n",
    "for i in range(n+1):\n",
    "    c = convert_color(HSVColor(2 * i * 255 / n, 0.5, 0.99),\n",
    "                      sRGBColor)\n",
    "    p = plt.Polygon(\n",
    "        ((i/n, 1), ((i+1)/n, 1),\n",
    "        ((i+1)/n, 0), (i/n, 0)),\n",
    "        fc = c.get_rgb_hex()\n",
    "    )\n",
    "    ax.add_patch(p)"
   ]
  },
  {
   "cell_type": "markdown",
   "metadata": {},
   "source": [
    "これを見ると、HSVのhueは、0~255の範囲で周期的っぽい"
   ]
  },
  {
   "cell_type": "code",
   "execution_count": 11,
   "metadata": {},
   "outputs": [
    {
     "data": {
      "image/png": "[encoded data removed]",
      "text/plain": [
       "<Figure size 432x288 with 1 Axes>"
      ]
     },
     "metadata": {
      "needs_background": "light"
     },
     "output_type": "display_data"
    }
   ],
   "source": [
    "fig2, ax2 = plt.subplots()\n",
    "n = 20\n",
    "for i, j in it.product(range(n+1), range(n+1)):\n",
    "    s, v = i/n, j/n\n",
    "    c = convert_color(HSVColor(200, s, v),\n",
    "                     sRGBColor)\n",
    "    p = plt.Polygon(\n",
    "        ((s,v), (s+1/n,v), (s+1/n,v+1/n), (s,v+1/n)),\n",
    "        fc = c.get_rgb_hex()        \n",
    "    )\n",
    "    ax2.add_patch(p)\n",
    "ax2.set_xlabel(\"s\")\n",
    "ax2.set_ylabel(\"v\")\n",
    "plt.show()"
   ]
  }
 ],
 "metadata": {
  "kernelspec": {
   "display_name": "Python 3",
   "language": "python",
   "name": "python3"
  },
  "language_info": {
   "codemirror_mode": {
    "name": "ipython",
    "version": 3
   },
   "file_extension": ".py",
   "mimetype": "text/x-python",
   "name": "python",
   "nbconvert_exporter": "python",
   "pygments_lexer": "ipython3",
   "version": "3.7.6"
  }
 },
 "nbformat": 4,
 "nbformat_minor": 4
}
