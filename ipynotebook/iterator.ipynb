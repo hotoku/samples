{
 "cells": [
  {
   "cell_type": "code",
   "execution_count": 1,
   "id": "946ffa92-cd79-45cb-a25c-572289d510dc",
   "metadata": {},
   "outputs": [],
   "source": [
    "def f():\n",
    "    for n in range(10):\n",
    "        yield n"
   ]
  },
  {
   "cell_type": "code",
   "execution_count": 2,
   "id": "2e9e084e-6e9e-4a07-a7d7-7a30a203927f",
   "metadata": {},
   "outputs": [],
   "source": [
    "gen = f()"
   ]
  },
  {
   "cell_type": "code",
   "execution_count": 3,
   "id": "a4c117f2-86d6-4ec0-b74a-bad9614a981c",
   "metadata": {},
   "outputs": [
    {
     "data": {
      "text/plain": [
       "0"
      ]
     },
     "execution_count": 3,
     "metadata": {},
     "output_type": "execute_result"
    }
   ],
   "source": [
    "next(gen)"
   ]
  },
  {
   "cell_type": "code",
   "execution_count": 4,
   "id": "32c423ab-4efa-4a87-98db-deca0a0f3309",
   "metadata": {},
   "outputs": [
    {
     "data": {
      "text/plain": [
       "1"
      ]
     },
     "execution_count": 4,
     "metadata": {},
     "output_type": "execute_result"
    }
   ],
   "source": [
    "next(gen)"
   ]
  },
  {
   "cell_type": "code",
   "execution_count": 5,
   "id": "3184ba59-d0e9-4d69-bdf4-8df7faf4f4a5",
   "metadata": {},
   "outputs": [],
   "source": [
    "ls = [1,2,3]"
   ]
  },
  {
   "cell_type": "code",
   "execution_count": 6,
   "id": "995ce291-29c5-4b27-9fe6-461ab702cc40",
   "metadata": {},
   "outputs": [],
   "source": [
    "def identity(it):\n",
    "    yield from it"
   ]
  },
  {
   "cell_type": "code",
   "execution_count": 7,
   "id": "98f9f106-dc42-4405-9ec3-f0eca67b58db",
   "metadata": {},
   "outputs": [],
   "source": [
    "gen2 = identity(ls)"
   ]
  },
  {
   "cell_type": "code",
   "execution_count": 8,
   "id": "1eee7ebc-1d5c-4fdb-a7f2-ce8724d57ace",
   "metadata": {},
   "outputs": [
    {
     "data": {
      "text/plain": [
       "1"
      ]
     },
     "execution_count": 8,
     "metadata": {},
     "output_type": "execute_result"
    }
   ],
   "source": [
    "next(gen2)"
   ]
  },
  {
   "cell_type": "code",
   "execution_count": 9,
   "id": "81f1f3b8-af46-4541-864e-d249c6953e82",
   "metadata": {},
   "outputs": [
    {
     "data": {
      "text/plain": [
       "2"
      ]
     },
     "execution_count": 9,
     "metadata": {},
     "output_type": "execute_result"
    }
   ],
   "source": [
    "next(gen2)"
   ]
  },
  {
   "cell_type": "code",
   "execution_count": 10,
   "id": "bcd80282-0db8-496c-b1c5-8b459db92cb9",
   "metadata": {},
   "outputs": [],
   "source": [
    "gen3 = identity(iter(ls))"
   ]
  },
  {
   "cell_type": "code",
   "execution_count": 11,
   "id": "2b4e772d-88e3-4b89-92e4-6c291020acd0",
   "metadata": {},
   "outputs": [
    {
     "data": {
      "text/plain": [
       "(1, 2)"
      ]
     },
     "execution_count": 11,
     "metadata": {},
     "output_type": "execute_result"
    }
   ],
   "source": [
    "next(gen3), next(gen3)"
   ]
  }
 ],
 "metadata": {
  "kernelspec": {
   "display_name": "Python 3 (ipykernel)",
   "language": "python",
   "name": "python3"
  },
  "language_info": {
   "codemirror_mode": {
    "name": "ipython",
    "version": 3
   },
   "file_extension": ".py",
   "mimetype": "text/x-python",
   "name": "python",
   "nbconvert_exporter": "python",
   "pygments_lexer": "ipython3",
   "version": "3.10.1"
  }
 },
 "nbformat": 4,
 "nbformat_minor": 5
}
