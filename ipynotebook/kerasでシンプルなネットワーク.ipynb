{
 "cells": [
  {
   "cell_type": "code",
   "execution_count": 8,
   "metadata": {},
   "outputs": [],
   "source": [
    "from keras.datasets import mnist\n",
    "import numpy as np\n",
    "import keras.utils as kut"
   ]
  },
  {
   "cell_type": "code",
   "execution_count": 14,
   "metadata": {},
   "outputs": [],
   "source": [
    "(x_train, y_train), (x_test, y_test) = mnist.load_data()\n",
    "x_train = x_train / 255\n",
    "x_test = x_test / 255\n",
    "y_train = kut.to_categorical(y_train)\n",
    "y_test = kut.to_categorical(y_test)"
   ]
  },
  {
   "cell_type": "code",
   "execution_count": 15,
   "metadata": {},
   "outputs": [],
   "source": [
    "from keras.layers import Input, Flatten, Dense, Activation\n",
    "from keras.optimizers import Adam\n",
    "from keras.models import Model"
   ]
  },
  {
   "cell_type": "code",
   "execution_count": 25,
   "metadata": {},
   "outputs": [
    {
     "name": "stdout",
     "output_type": "stream",
     "text": [
      "_________________________________________________________________\n",
      "Layer (type)                 Output Shape              Param #   \n",
      "=================================================================\n",
      "input_9 (InputLayer)         (None, 28, 28)            0         \n",
      "_________________________________________________________________\n",
      "flatten_9 (Flatten)          (None, 784)               0         \n",
      "_________________________________________________________________\n",
      "dense_17 (Dense)             (None, 100)               78500     \n",
      "_________________________________________________________________\n",
      "dense_18 (Dense)             (None, 10)                1010      \n",
      "_________________________________________________________________\n",
      "activation_9 (Activation)    (None, 10)                0         \n",
      "=================================================================\n",
      "Total params: 79,510\n",
      "Trainable params: 79,510\n",
      "Non-trainable params: 0\n",
      "_________________________________________________________________\n"
     ]
    }
   ],
   "source": [
    "X_input = Input(shape=(28, 28), dtype=tf.float32)\n",
    "X = Flatten()(X_input)\n",
    "X = Dense(100)(X)\n",
    "X = Dense(10)(X)\n",
    "Y = Activation('softmax')(X)\n",
    "model = Model(inputs = X_input, outputs=Y)\n",
    "opt = Adam(lr=0.01, beta_1=0.9, beta_2=0.999)\n",
    "model.compile(loss='categorical_crossentropy', optimizer=opt, metrics=[\"accuracy\"])\n",
    "model.summary()"
   ]
  },
  {
   "cell_type": "code",
   "execution_count": 26,
   "metadata": {},
   "outputs": [
    {
     "name": "stdout",
     "output_type": "stream",
     "text": [
      "Epoch 1/10\n",
      " - 33s - loss: 0.6434 - acc: 0.8519\n",
      "Epoch 2/10\n",
      " - 30s - loss: 0.6291 - acc: 0.8754\n",
      "Epoch 3/10\n",
      " - 37s - loss: 0.6656 - acc: 0.8847\n",
      "Epoch 4/10\n",
      " - 40s - loss: 0.7796 - acc: 0.8899\n",
      "Epoch 5/10\n",
      " - 44s - loss: 0.8705 - acc: 0.8964\n",
      "Epoch 6/10\n",
      " - 45s - loss: 1.0394 - acc: 0.8995\n",
      "Epoch 7/10\n",
      " - 52s - loss: 1.1349 - acc: 0.9059\n",
      "Epoch 8/10\n",
      " - 46s - loss: 1.2341 - acc: 0.9059\n",
      "Epoch 9/10\n",
      " - 38s - loss: 1.2986 - acc: 0.9065\n",
      "Epoch 10/10\n",
      " - 39s - loss: 1.3351 - acc: 0.9073\n"
     ]
    },
    {
     "data": {
      "text/plain": [
       "<keras.callbacks.History at 0xb733a28d0>"
      ]
     },
     "execution_count": 26,
     "metadata": {},
     "output_type": "execute_result"
    }
   ],
   "source": [
    "model.fit(x_train, y_train, batch_size=20, epochs=10, verbose=2)"
   ]
  }
 ],
 "metadata": {
  "kernelspec": {
   "display_name": "Python 3",
   "language": "python",
   "name": "python3"
  },
  "language_info": {
   "codemirror_mode": {
    "name": "ipython",
    "version": 3
   },
   "file_extension": ".py",
   "mimetype": "text/x-python",
   "name": "python",
   "nbconvert_exporter": "python",
   "pygments_lexer": "ipython3",
   "version": "3.6.8"
  }
 },
 "nbformat": 4,
 "nbformat_minor": 2
}
