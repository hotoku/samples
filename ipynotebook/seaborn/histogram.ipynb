{
 "cells": [
  {
   "cell_type": "code",
   "execution_count": 1,
   "id": "365eb759-be7a-4c05-9869-76fb1ead4d95",
   "metadata": {},
   "outputs": [
    {
     "name": "stderr",
     "output_type": "stream",
     "text": [
      "/Users/hotoku/.pyenv/versions/3.9.5/envs/global/lib/python3.9/site-packages/pandas/compat/__init__.py:124: UserWarning: Could not import the lzma module. Your installed Python is incomplete. Attempting to use lzma compression will result in a RuntimeError.\n",
      "  warnings.warn(msg)\n"
     ]
    }
   ],
   "source": [
    "import pandas as pd\n",
    "import numpy as np\n",
    "import seaborn as sns"
   ]
  },
  {
   "cell_type": "markdown",
   "id": "2e2d62c0-6de2-475b-ab6f-7aa274a90a9a",
   "metadata": {},
   "source": [
    "## 単純なヒストグラム"
   ]
  },
  {
   "cell_type": "code",
   "execution_count": 2,
   "id": "746b03d3-626d-440f-99f0-0adeeabb542b",
   "metadata": {},
   "outputs": [],
   "source": [
    "df = pd.DataFrame(dict(\n",
    "    x=np.random.normal(size=100)\n",
    "))"
   ]
  },
  {
   "cell_type": "code",
   "execution_count": 3,
   "id": "20ba8e5d-3929-43a4-a77b-1d98e2b3c9e7",
   "metadata": {},
   "outputs": [
    {
     "data": {
      "text/html": [
       "<div>\n",
       "<style scoped>\n",
       "    .dataframe tbody tr th:only-of-type {\n",
       "        vertical-align: middle;\n",
       "    }\n",
       "\n",
       "    .dataframe tbody tr th {\n",
       "        vertical-align: top;\n",
       "    }\n",
       "\n",
       "    .dataframe thead th {\n",
       "        text-align: right;\n",
       "    }\n",
       "</style>\n",
       "<table border=\"1\" class=\"dataframe\">\n",
       "  <thead>\n",
       "    <tr style=\"text-align: right;\">\n",
       "      <th></th>\n",
       "      <th>x</th>\n",
       "    </tr>\n",
       "  </thead>\n",
       "  <tbody>\n",
       "    <tr>\n",
       "      <th>0</th>\n",
       "      <td>-0.311752</td>\n",
       "    </tr>\n",
       "    <tr>\n",
       "      <th>1</th>\n",
       "      <td>-1.686320</td>\n",
       "    </tr>\n",
       "    <tr>\n",
       "      <th>2</th>\n",
       "      <td>1.639595</td>\n",
       "    </tr>\n",
       "    <tr>\n",
       "      <th>3</th>\n",
       "      <td>-0.131116</td>\n",
       "    </tr>\n",
       "    <tr>\n",
       "      <th>4</th>\n",
       "      <td>1.150674</td>\n",
       "    </tr>\n",
       "    <tr>\n",
       "      <th>...</th>\n",
       "      <td>...</td>\n",
       "    </tr>\n",
       "    <tr>\n",
       "      <th>95</th>\n",
       "      <td>-0.118475</td>\n",
       "    </tr>\n",
       "    <tr>\n",
       "      <th>96</th>\n",
       "      <td>-0.446242</td>\n",
       "    </tr>\n",
       "    <tr>\n",
       "      <th>97</th>\n",
       "      <td>0.387568</td>\n",
       "    </tr>\n",
       "    <tr>\n",
       "      <th>98</th>\n",
       "      <td>-1.062061</td>\n",
       "    </tr>\n",
       "    <tr>\n",
       "      <th>99</th>\n",
       "      <td>-0.996450</td>\n",
       "    </tr>\n",
       "  </tbody>\n",
       "</table>\n",
       "<p>100 rows × 1 columns</p>\n",
       "</div>"
      ],
      "text/plain": [
       "           x\n",
       "0  -0.311752\n",
       "1  -1.686320\n",
       "2   1.639595\n",
       "3  -0.131116\n",
       "4   1.150674\n",
       "..       ...\n",
       "95 -0.118475\n",
       "96 -0.446242\n",
       "97  0.387568\n",
       "98 -1.062061\n",
       "99 -0.996450\n",
       "\n",
       "[100 rows x 1 columns]"
      ]
     },
     "execution_count": 3,
     "metadata": {},
     "output_type": "execute_result"
    }
   ],
   "source": [
    "df"
   ]
  },
  {
   "cell_type": "code",
   "execution_count": 4,
   "id": "63521867-9da3-47d8-8c07-629ec6cdc208",
   "metadata": {},
   "outputs": [
    {
     "data": {
      "text/plain": [
       "<AxesSubplot:xlabel='x', ylabel='Count'>"
      ]
     },
     "execution_count": 4,
     "metadata": {},
     "output_type": "execute_result"
    },
    {
     "data": {
      "image/png": "[encoded data removed]",
      "text/plain": [
       "<Figure size 432x288 with 1 Axes>"
      ]
     },
     "metadata": {
      "needs_background": "light"
     },
     "output_type": "display_data"
    }
   ],
   "source": [
    "sns.histplot(\n",
    "    x=\"x\",\n",
    "    data=df\n",
    ")"
   ]
  },
  {
   "cell_type": "markdown",
   "id": "9c7f0976-4354-4323-8847-b49691a92dcd",
   "metadata": {},
   "source": [
    "## カテゴリごとに色を変える"
   ]
  },
  {
   "cell_type": "code",
   "execution_count": 15,
   "id": "a55f77b2-dc3a-4293-a2b7-82a3253ac11e",
   "metadata": {},
   "outputs": [],
   "source": [
    "cat1 = [\"a\"] * 3000\n",
    "cat2 = [\"b\"] * 1000\n",
    "val1 = np.random.normal(size=len(cat1), loc=0)\n",
    "val2 = np.random.normal(size=len(cat2), loc=10)"
   ]
  },
  {
   "cell_type": "code",
   "execution_count": 16,
   "id": "96657655-58d3-4120-9aa2-5c93713a9030",
   "metadata": {},
   "outputs": [],
   "source": [
    "df2 = pd.DataFrame(dict(\n",
    "    cat=cat1 + cat2,\n",
    "    val=np.concatenate([val1, val2])\n",
    "))"
   ]
  },
  {
   "cell_type": "code",
   "execution_count": 17,
   "id": "d01cf052-4bc8-4094-852f-dc70bf8f12eb",
   "metadata": {},
   "outputs": [
    {
     "data": {
      "text/plain": [
       "<AxesSubplot:xlabel='val', ylabel='Count'>"
      ]
     },
     "execution_count": 17,
     "metadata": {},
     "output_type": "execute_result"
    },
    {
     "data": {
      "image/png": "[encoded data removed]",
      "text/plain": [
       "<Figure size 432x288 with 1 Axes>"
      ]
     },
     "metadata": {
      "needs_background": "light"
     },
     "output_type": "display_data"
    }
   ],
   "source": [
    "sns.histplot(\n",
    "    x=\"val\",\n",
    "    hue=\"cat\",\n",
    "    data=df2\n",
    ")"
   ]
  },
  {
   "cell_type": "markdown",
   "id": "dd163ce6-6ee9-4ce3-9b4f-b42bd2f79029",
   "metadata": {},
   "source": [
    "## 相対頻度にする"
   ]
  },
  {
   "cell_type": "code",
   "execution_count": 18,
   "id": "0aa30c68-e5d2-4a2c-a11d-445fcb5c36fe",
   "metadata": {},
   "outputs": [
    {
     "data": {
      "text/plain": [
       "<AxesSubplot:xlabel='val', ylabel='Density'>"
      ]
     },
     "execution_count": 18,
     "metadata": {},
     "output_type": "execute_result"
    },
    {
     "data": {
      "image/png": "[encoded data removed]",
      "text/plain": [
       "<Figure size 432x288 with 1 Axes>"
      ]
     },
     "metadata": {
      "needs_background": "light"
     },
     "output_type": "display_data"
    }
   ],
   "source": [
    "sns.histplot(\n",
    "    x=\"val\",\n",
    "    hue=\"cat\",\n",
    "    stat=\"density\",\n",
    "    data=df2\n",
    ")"
   ]
  },
  {
   "cell_type": "markdown",
   "id": "c790fd29-16a0-43a9-86b7-a7749bb4520a",
   "metadata": {},
   "source": [
    "## 相対頻度にする（カテゴリごとに）"
   ]
  },
  {
   "cell_type": "code",
   "execution_count": 19,
   "id": "167bbeb7-ae91-445b-90a9-9954d7a95673",
   "metadata": {},
   "outputs": [
    {
     "data": {
      "text/plain": [
       "<AxesSubplot:xlabel='val', ylabel='Density'>"
      ]
     },
     "execution_count": 19,
     "metadata": {},
     "output_type": "execute_result"
    },
    {
     "data": {
      "image/png": "[encoded data removed]",
      "text/plain": [
       "<Figure size 432x288 with 1 Axes>"
      ]
     },
     "metadata": {
      "needs_background": "light"
     },
     "output_type": "display_data"
    }
   ],
   "source": [
    "sns.histplot(\n",
    "    x=\"val\",\n",
    "    hue=\"cat\",\n",
    "    stat=\"density\",\n",
    "    common_norm=False,\n",
    "    data=df2\n",
    ")"
   ]
  },
  {
   "cell_type": "markdown",
   "id": "ae91358e-5aa9-4abd-bd98-22e75f8f1af7",
   "metadata": {},
   "source": [
    "## 密度関数を書く（同時密度関数）"
   ]
  },
  {
   "cell_type": "code",
   "execution_count": 20,
   "id": "a3601463-2d2c-4781-b1a7-aa99e9e94a40",
   "metadata": {},
   "outputs": [
    {
     "data": {
      "text/plain": [
       "<AxesSubplot:xlabel='val', ylabel='Density'>"
      ]
     },
     "execution_count": 20,
     "metadata": {},
     "output_type": "execute_result"
    },
    {
     "data": {
      "image/png": "[encoded data removed]",
      "text/plain": [
       "<Figure size 432x288 with 1 Axes>"
      ]
     },
     "metadata": {
      "needs_background": "light"
     },
     "output_type": "display_data"
    }
   ],
   "source": [
    "sns.histplot(\n",
    "    x=\"val\",\n",
    "    hue=\"cat\",\n",
    "    stat=\"density\",\n",
    "    kde=True,\n",
    "    data=df2\n",
    ")"
   ]
  },
  {
   "cell_type": "markdown",
   "id": "f2c78199-1b58-4d04-ab51-8ad1987453e2",
   "metadata": {},
   "source": [
    "## 密度関数を書く（条件付き密度関数）"
   ]
  },
  {
   "cell_type": "code",
   "execution_count": 21,
   "id": "cb8fa961-0c06-4680-b79a-9376b3dc3caa",
   "metadata": {},
   "outputs": [
    {
     "data": {
      "text/plain": [
       "<AxesSubplot:xlabel='val', ylabel='Density'>"
      ]
     },
     "execution_count": 21,
     "metadata": {},
     "output_type": "execute_result"
    },
    {
     "data": {
      "image/png": "[encoded data removed]",
      "text/plain": [
       "<Figure size 432x288 with 1 Axes>"
      ]
     },
     "metadata": {
      "needs_background": "light"
     },
     "output_type": "display_data"
    }
   ],
   "source": [
    "sns.histplot(\n",
    "    x=\"val\",\n",
    "    hue=\"cat\",\n",
    "    stat=\"density\",\n",
    "    kde=True,\n",
    "    common_norm=False,\n",
    "    data=df2\n",
    ")"
   ]
  }
 ],
 "metadata": {
  "kernelspec": {
   "display_name": "Python 3 (ipykernel)",
   "language": "python",
   "name": "python3"
  },
  "language_info": {
   "codemirror_mode": {
    "name": "ipython",
    "version": 3
   },
   "file_extension": ".py",
   "mimetype": "text/x-python",
   "name": "python",
   "nbconvert_exporter": "python",
   "pygments_lexer": "ipython3",
   "version": "3.9.5"
  }
 },
 "nbformat": 4,
 "nbformat_minor": 5
}
