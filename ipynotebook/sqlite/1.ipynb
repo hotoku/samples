{
 "cells": [
  {
   "cell_type": "code",
   "execution_count": 4,
   "metadata": {},
   "outputs": [],
   "source": [
    "import sqlite3\n",
    "import pandas as pd\n",
    "import numpy as np\n",
    "import string"
   ]
  },
  {
   "cell_type": "code",
   "execution_count": 10,
   "metadata": {},
   "outputs": [],
   "source": [
    "df = pd.DataFrame(dict(\n",
    "    col1=range(10),\n",
    "    col2=np.random.random(10),\n",
    "    col3=list(string.ascii_letters[:10])\n",
    "))"
   ]
  },
  {
   "cell_type": "code",
   "execution_count": 16,
   "metadata": {},
   "outputs": [],
   "source": [
    "with sqlite3.connect(\"temp.sqlite\") as con:\n",
    "    df.to_sql(\"df\", con, if_exists=\"replace\")"
   ]
  },
  {
   "cell_type": "code",
   "execution_count": 18,
   "metadata": {},
   "outputs": [
    {
     "name": "stdout",
     "output_type": "stream",
     "text": [
      "0|0|0.351334286025985|a\n",
      "1|1|0.953256933363109|b\n",
      "2|2|0.943233147759279|c\n",
      "3|3|0.173713532048045|d\n",
      "4|4|0.290816062710577|e\n",
      "5|5|0.230718348717673|f\n",
      "6|6|0.750416424016219|g\n",
      "7|7|0.504406705028372|h\n",
      "8|8|0.940023725628795|i\n",
      "9|9|0.655167820600665|j\n"
     ]
    }
   ],
   "source": [
    "!echo \"select * from df\" | sqlite3 temp.sqlite"
   ]
  }
 ],
 "metadata": {
  "kernelspec": {
   "display_name": "Python 3 (ipykernel)",
   "language": "python",
   "name": "python3"
  },
  "language_info": {
   "codemirror_mode": {
    "name": "ipython",
    "version": 3
   },
   "file_extension": ".py",
   "mimetype": "text/x-python",
   "name": "python",
   "nbconvert_exporter": "python",
   "pygments_lexer": "ipython3",
   "version": "3.9.5"
  }
 },
 "nbformat": 4,
 "nbformat_minor": 4
}
